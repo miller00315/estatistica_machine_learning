{
  "nbformat": 4,
  "nbformat_minor": 0,
  "metadata": {
    "colab": {
      "name": "teste_hipotese.ipynb",
      "provenance": [],
      "authorship_tag": "ABX9TyOB2PfefCa+f3rjznY6jV2U",
      "include_colab_link": true
    },
    "kernelspec": {
      "name": "python3",
      "display_name": "Python 3"
    },
    "language_info": {
      "name": "python"
    }
  },
  "cells": [
    {
      "cell_type": "markdown",
      "metadata": {
        "id": "view-in-github",
        "colab_type": "text"
      },
      "source": [
        "<a href=\"https://colab.research.google.com/github/miller00315/estatistica_machine_learning/blob/master/teste_hipotese.ipynb\" target=\"_parent\"><img src=\"https://colab.research.google.com/assets/colab-badge.svg\" alt=\"Open In Colab\"/></a>"
      ]
    },
    {
      "cell_type": "code",
      "metadata": {
        "id": "wMBTARwW71Pd"
      },
      "source": [
        "import numpy as np\n",
        "import math\n",
        "from scipy.stats import norm\n",
        "import pandas as pd"
      ],
      "execution_count": 2,
      "outputs": []
    },
    {
      "cell_type": "code",
      "metadata": {
        "id": "SKwbmJeE79PZ"
      },
      "source": [
        "dados_originais = np.array([126. , 129.5, 133. , 133. , 136.5, 136.5, 140. , 140. , 140. ,\n",
        "                            140. , 143.5, 143.5, 143.5, 143.5, 143.5, 143.5, 147. , 147. ,\n",
        "                            147. , 147. , 147. , 147. , 147. , 150.5, 150.5, 150.5, 150.5,\n",
        "                            150.5, 150.5, 150.5, 150.5, 154. , 154. , 154. , 154. , 154. ,\n",
        "                            154. , 154. , 154. , 154. , 157.5, 157.5, 157.5, 157.5, 157.5,\n",
        "                            157.5, 157.5, 157.5, 157.5, 157.5, 161. , 161. , 161. , 161. ,\n",
        "                            161. , 161. , 161. , 161. , 161. , 161. , 164.5, 164.5, 164.5,\n",
        "                            164.5, 164.5, 164.5, 164.5, 164.5, 164.5, 168. , 168. , 168. ,\n",
        "                            168. , 168. , 168. , 168. , 168. , 171.5, 171.5, 171.5, 171.5,\n",
        "                            171.5, 171.5, 171.5, 175. , 175. , 175. , 175. , 175. , 175. ,\n",
        "                            178.5, 178.5, 178.5, 178.5, 182. , 182. , 185.5, 185.5, 189., 192.5])\n"
      ],
      "execution_count": 15,
      "outputs": []
    },
    {
      "cell_type": "code",
      "metadata": {
        "colab": {
          "base_uri": "https://localhost:8080/"
        },
        "id": "_VlZ1T-68J4L",
        "outputId": "6369f23f-d3ea-496d-8fb7-46fd44879c81"
      },
      "source": [
        "media = dados_originais.mean()\n",
        "media"
      ],
      "execution_count": null,
      "outputs": [
        {
          "output_type": "execute_result",
          "data": {
            "text/plain": [
              "159.25"
            ]
          },
          "metadata": {},
          "execution_count": 3
        }
      ]
    },
    {
      "cell_type": "code",
      "metadata": {
        "colab": {
          "base_uri": "https://localhost:8080/"
        },
        "id": "UwpH9Txf8PF_",
        "outputId": "594bc2ba-a576-49b3-d230-8461f19b476a"
      },
      "source": [
        "h0_desvio_padrao = np.std(dados_originais)\n",
        "h0_desvio_padrao"
      ],
      "execution_count": null,
      "outputs": [
        {
          "output_type": "execute_result",
          "data": {
            "text/plain": [
              "13.65"
            ]
          },
          "metadata": {},
          "execution_count": 6
        }
      ]
    },
    {
      "cell_type": "code",
      "metadata": {
        "colab": {
          "base_uri": "https://localhost:8080/"
        },
        "id": "DOA5AO5096o4",
        "outputId": "60421dac-b759-4141-d0ad-53b6d6b2abbc"
      },
      "source": [
        "dados_novos = dados_originais * 1.03\n",
        "dados_novos"
      ],
      "execution_count": null,
      "outputs": [
        {
          "output_type": "execute_result",
          "data": {
            "text/plain": [
              "array([129.78 , 133.385, 136.99 , 136.99 , 140.595, 140.595, 144.2  ,\n",
              "       144.2  , 144.2  , 144.2  , 147.805, 147.805, 147.805, 147.805,\n",
              "       147.805, 147.805, 151.41 , 151.41 , 151.41 , 151.41 , 151.41 ,\n",
              "       151.41 , 151.41 , 155.015, 155.015, 155.015, 155.015, 155.015,\n",
              "       155.015, 155.015, 155.015, 158.62 , 158.62 , 158.62 , 158.62 ,\n",
              "       158.62 , 158.62 , 158.62 , 158.62 , 158.62 , 162.225, 162.225,\n",
              "       162.225, 162.225, 162.225, 162.225, 162.225, 162.225, 162.225,\n",
              "       162.225, 165.83 , 165.83 , 165.83 , 165.83 , 165.83 , 165.83 ,\n",
              "       165.83 , 165.83 , 165.83 , 165.83 , 169.435, 169.435, 169.435,\n",
              "       169.435, 169.435, 169.435, 169.435, 169.435, 169.435, 173.04 ,\n",
              "       173.04 , 173.04 , 173.04 , 173.04 , 173.04 , 173.04 , 173.04 ,\n",
              "       176.645, 176.645, 176.645, 176.645, 176.645, 176.645, 176.645,\n",
              "       180.25 , 180.25 , 180.25 , 180.25 , 180.25 , 180.25 , 183.855,\n",
              "       183.855, 183.855, 183.855, 187.46 , 187.46 , 191.065, 191.065,\n",
              "       194.67 , 198.275])"
            ]
          },
          "metadata": {},
          "execution_count": 7
        }
      ]
    },
    {
      "cell_type": "code",
      "metadata": {
        "colab": {
          "base_uri": "https://localhost:8080/"
        },
        "id": "sDu8JGb0-Vtc",
        "outputId": "77dc3595-74f6-4098-eb95-13fa9f7ff302"
      },
      "source": [
        "H1_media = np.mean(dados_novos)\n",
        "H1_media"
      ],
      "execution_count": null,
      "outputs": [
        {
          "output_type": "execute_result",
          "data": {
            "text/plain": [
              "164.0275"
            ]
          },
          "metadata": {},
          "execution_count": 8
        }
      ]
    },
    {
      "cell_type": "code",
      "metadata": {
        "colab": {
          "base_uri": "https://localhost:8080/"
        },
        "id": "mug4ruaM-baZ",
        "outputId": "adca66fe-0046-48f1-e191-744c1cf58ec9"
      },
      "source": [
        "H1_desvio_padrao = np.std(dados_novos)\n",
        "H1_desvio_padrao"
      ],
      "execution_count": null,
      "outputs": [
        {
          "output_type": "execute_result",
          "data": {
            "text/plain": [
              "14.0595"
            ]
          },
          "metadata": {},
          "execution_count": 9
        }
      ]
    },
    {
      "cell_type": "code",
      "metadata": {
        "colab": {
          "base_uri": "https://localhost:8080/"
        },
        "id": "h5ghdz1X-pBm",
        "outputId": "52640226-9b0c-4cc3-8bc5-0481b8acb7af"
      },
      "source": [
        "H1_n = len(dados_novos)\n",
        "H1_n"
      ],
      "execution_count": null,
      "outputs": [
        {
          "output_type": "execute_result",
          "data": {
            "text/plain": [
              "100"
            ]
          },
          "metadata": {},
          "execution_count": 10
        }
      ]
    },
    {
      "cell_type": "code",
      "metadata": {
        "id": "Z1KTGrS0-vFF"
      },
      "source": [
        "alpha = 0.05"
      ],
      "execution_count": null,
      "outputs": []
    },
    {
      "cell_type": "code",
      "metadata": {
        "colab": {
          "base_uri": "https://localhost:8080/"
        },
        "id": "3ZHPI3ei-yOW",
        "outputId": "ece9883d-39df-45d5-9847-413897e19588"
      },
      "source": [
        "z = (H1_media -h0_media)/ (H1_desvio_padrao / math.sqrt(H1_n))\n",
        "z"
      ],
      "execution_count": null,
      "outputs": [
        {
          "output_type": "execute_result",
          "data": {
            "text/plain": [
              "3.398058252427187"
            ]
          },
          "metadata": {},
          "execution_count": 13
        }
      ]
    },
    {
      "cell_type": "code",
      "metadata": {
        "colab": {
          "base_uri": "https://localhost:8080/"
        },
        "id": "UkTFSeC9_Aab",
        "outputId": "8215a51e-8cf2-4747-a1c8-2b6b05982a9b"
      },
      "source": [
        "pc = norm.cdf(z) #probabilidade comulativa\n",
        "pc"
      ],
      "execution_count": null,
      "outputs": [
        {
          "output_type": "execute_result",
          "data": {
            "text/plain": [
              "0.9996606701617486"
            ]
          },
          "metadata": {},
          "execution_count": 16
        }
      ]
    },
    {
      "cell_type": "code",
      "metadata": {
        "colab": {
          "base_uri": "https://localhost:8080/"
        },
        "id": "DEevaYpb_Jgu",
        "outputId": "e4c0239b-5006-44cb-f67a-e8747ee74a8e"
      },
      "source": [
        "norm.ppf(pc)"
      ],
      "execution_count": null,
      "outputs": [
        {
          "output_type": "execute_result",
          "data": {
            "text/plain": [
              "3.3980582524271936"
            ]
          },
          "metadata": {},
          "execution_count": 17
        }
      ]
    },
    {
      "cell_type": "code",
      "metadata": {
        "colab": {
          "base_uri": "https://localhost:8080/"
        },
        "id": "OJwFcLbM_UwL",
        "outputId": "25687d88-97f7-4b77-e9cf-7b77dc266463"
      },
      "source": [
        "Z = norm.cdf(z)\n",
        "Z"
      ],
      "execution_count": null,
      "outputs": [
        {
          "output_type": "execute_result",
          "data": {
            "text/plain": [
              "0.9996606701617486"
            ]
          },
          "metadata": {},
          "execution_count": 18
        }
      ]
    },
    {
      "cell_type": "code",
      "metadata": {
        "colab": {
          "base_uri": "https://localhost:8080/"
        },
        "id": "BLcbkOew_bdE",
        "outputId": "01017cea-6d4b-4b9d-cccd-b7ca092ad606"
      },
      "source": [
        "p = 1 - Z\n",
        "p"
      ],
      "execution_count": null,
      "outputs": [
        {
          "output_type": "execute_result",
          "data": {
            "text/plain": [
              "0.00033932983825135654"
            ]
          },
          "metadata": {},
          "execution_count": 19
        }
      ]
    },
    {
      "cell_type": "code",
      "metadata": {
        "colab": {
          "base_uri": "https://localhost:8080/"
        },
        "id": "fFQ6WQp1_h0D",
        "outputId": "830dff0c-876b-4732-b8c2-a56fc49e5c8c"
      },
      "source": [
        "if p <alpha:\n",
        "  print(\"Hipótese nula rejeitada\")\n",
        "else:\n",
        "  print(\"Hipótese alternativa rejeitada\")"
      ],
      "execution_count": null,
      "outputs": [
        {
          "output_type": "stream",
          "name": "stdout",
          "text": [
            "Hipótese nula rejeitada\n"
          ]
        }
      ]
    },
    {
      "cell_type": "markdown",
      "metadata": {
        "id": "bMT_eLjH_2zm"
      },
      "source": [
        "**Teste com statsmodel**"
      ]
    },
    {
      "cell_type": "code",
      "metadata": {
        "id": "RfYTxL4E_2Cb"
      },
      "source": [
        "from statsmodels.stats.weightstats import ztest;"
      ],
      "execution_count": 71,
      "outputs": []
    },
    {
      "cell_type": "code",
      "metadata": {
        "colab": {
          "base_uri": "https://localhost:8080/"
        },
        "id": "8cI9rsD8AAdq",
        "outputId": "455d5ba2-2120-4dca-9715-cd0d5bd9313a"
      },
      "source": [
        "_, z = ztest(dados_originais, dados_novos, value = H1_media - h0_media, alternative='larger')\n",
        "z"
      ],
      "execution_count": null,
      "outputs": [
        {
          "output_type": "execute_result",
          "data": {
            "text/plain": [
              "0.9999993877283934"
            ]
          },
          "metadata": {},
          "execution_count": 24
        }
      ]
    },
    {
      "cell_type": "code",
      "metadata": {
        "colab": {
          "base_uri": "https://localhost:8080/"
        },
        "id": "LMa_ycVnAkmE",
        "outputId": "a1497906-cd36-4091-f375-ba0840c12b0b"
      },
      "source": [
        "p = 1 - Z\n",
        "p"
      ],
      "execution_count": null,
      "outputs": [
        {
          "output_type": "execute_result",
          "data": {
            "text/plain": [
              "0.00033932983825135654"
            ]
          },
          "metadata": {},
          "execution_count": 25
        }
      ]
    },
    {
      "cell_type": "code",
      "metadata": {
        "id": "yWUplmJ8AqwD",
        "colab": {
          "base_uri": "https://localhost:8080/"
        },
        "outputId": "51d74acc-fa78-4598-8d21-688473600163"
      },
      "source": [
        "if p <alpha:\n",
        "  print(\"Hipótese nula rejeitada\")\n",
        "else:\n",
        "  print(\"Hipótese alternativa rejeitada\")"
      ],
      "execution_count": null,
      "outputs": [
        {
          "output_type": "stream",
          "name": "stdout",
          "text": [
            "Hipótese nula rejeitada\n"
          ]
        }
      ]
    },
    {
      "cell_type": "markdown",
      "metadata": {
        "id": "YPZLXn9drAs4"
      },
      "source": [
        "Exercício"
      ]
    },
    {
      "cell_type": "code",
      "metadata": {
        "id": "kWGqOUe8rCxv"
      },
      "source": [
        "alturas = np.array([149. , 160., 147., 189., 175., 168., 156., 160., 152.])"
      ],
      "execution_count": 4,
      "outputs": []
    },
    {
      "cell_type": "code",
      "metadata": {
        "colab": {
          "base_uri": "https://localhost:8080/"
        },
        "id": "WK8Hm8HvrQmZ",
        "outputId": "9b47dd89-d1b1-4df7-f6bc-8f07b4be6c14"
      },
      "source": [
        "alturas.mean(), np.std(alturas)"
      ],
      "execution_count": 5,
      "outputs": [
        {
          "output_type": "execute_result",
          "data": {
            "text/plain": [
              "(161.77777777777777, 12.786953227391823)"
            ]
          },
          "metadata": {},
          "execution_count": 5
        }
      ]
    },
    {
      "cell_type": "code",
      "metadata": {
        "colab": {
          "base_uri": "https://localhost:8080/"
        },
        "id": "VEJ2izWirq5d",
        "outputId": "1836518c-2e3b-4c7e-e71d-3990ccf65644"
      },
      "source": [
        "alturas_novas = alturas * 1.02\n",
        "alturas_novas"
      ],
      "execution_count": 10,
      "outputs": [
        {
          "output_type": "execute_result",
          "data": {
            "text/plain": [
              "array([151.98, 163.2 , 149.94, 192.78, 178.5 , 171.36, 159.12, 163.2 ,\n",
              "       155.04])"
            ]
          },
          "metadata": {},
          "execution_count": 10
        }
      ]
    },
    {
      "cell_type": "code",
      "metadata": {
        "colab": {
          "base_uri": "https://localhost:8080/"
        },
        "id": "0QY0bHUTr453",
        "outputId": "87e6a1c4-e367-4d4d-c002-26225943882e"
      },
      "source": [
        "alturas_novas.mean(), np.std(alturas_novas)"
      ],
      "execution_count": 11,
      "outputs": [
        {
          "output_type": "execute_result",
          "data": {
            "text/plain": [
              "(165.01333333333332, 13.042692291939664)"
            ]
          },
          "metadata": {},
          "execution_count": 11
        }
      ]
    },
    {
      "cell_type": "code",
      "metadata": {
        "id": "d_glcf5LrZa1"
      },
      "source": [
        "from scipy.stats import ttest_rel"
      ],
      "execution_count": 7,
      "outputs": []
    },
    {
      "cell_type": "code",
      "metadata": {
        "colab": {
          "base_uri": "https://localhost:8080/"
        },
        "id": "7z1mHjTTrje_",
        "outputId": "f4831c7e-88d8-4631-dd88-2016925331ae"
      },
      "source": [
        "_, p = ttest_rel(alturas, alturas_novas)\n",
        "p"
      ],
      "execution_count": 9,
      "outputs": [
        {
          "output_type": "execute_result",
          "data": {
            "text/plain": [
              "4.072922493930298e-10"
            ]
          },
          "metadata": {},
          "execution_count": 9
        }
      ]
    },
    {
      "cell_type": "code",
      "metadata": {
        "colab": {
          "base_uri": "https://localhost:8080/"
        },
        "id": "guEl1Hy6ryvD",
        "outputId": "2d1e7b82-ebed-403d-b33f-2026617a1d58"
      },
      "source": [
        "alpha = 0.01\n",
        "\n",
        "if p <= alpha:\n",
        "    print(\"Hipótese nula rejeitada\")\n",
        "else:\n",
        "    print(\"hipótese alternativa rejeitada\")"
      ],
      "execution_count": 25,
      "outputs": [
        {
          "output_type": "stream",
          "name": "stdout",
          "text": [
            "hipótese alternativa rejeitada\n"
          ]
        }
      ]
    },
    {
      "cell_type": "markdown",
      "metadata": {
        "id": "MJ1Ea5z2sOFu"
      },
      "source": [
        "**Qui quadrado**"
      ]
    },
    {
      "cell_type": "code",
      "metadata": {
        "id": "jni9LqL3sM83"
      },
      "source": [
        "from scipy.stats import chi2_contingency"
      ],
      "execution_count": 16,
      "outputs": []
    },
    {
      "cell_type": "code",
      "metadata": {
        "id": "jcJHfV0f7bMP"
      },
      "source": [
        "tabela = np.array([[30, 20], [22, 28]])"
      ],
      "execution_count": 17,
      "outputs": []
    },
    {
      "cell_type": "code",
      "metadata": {
        "colab": {
          "base_uri": "https://localhost:8080/"
        },
        "id": "Meru4AEc7lfX",
        "outputId": "4c703feb-4878-450a-d47f-63fa5e61f203"
      },
      "source": [
        "tabela.shape"
      ],
      "execution_count": 18,
      "outputs": [
        {
          "output_type": "execute_result",
          "data": {
            "text/plain": [
              "(2, 2)"
            ]
          },
          "metadata": {},
          "execution_count": 18
        }
      ]
    },
    {
      "cell_type": "code",
      "metadata": {
        "colab": {
          "base_uri": "https://localhost:8080/"
        },
        "id": "oKcVYaXT7oMS",
        "outputId": "819171fd-727e-4b48-fbc2-5f841653bdba"
      },
      "source": [
        "res =chi2_contingency(tabela)"
      ],
      "execution_count": 19,
      "outputs": [
        {
          "output_type": "execute_result",
          "data": {
            "text/plain": [
              "(1.9631410256410255, 0.16117778944980238, 1, array([[26., 24.],\n",
              "        [26., 24.]]))"
            ]
          },
          "metadata": {},
          "execution_count": 19
        }
      ]
    },
    {
      "cell_type": "code",
      "metadata": {
        "colab": {
          "base_uri": "https://localhost:8080/"
        },
        "id": "qqvE2xsk7tF2",
        "outputId": "0d20d8b0-d3ea-40d7-bae7-2b1282283160"
      },
      "source": [
        "_, p, _, _ = chi2_contingency(tabela)\n",
        "p"
      ],
      "execution_count": 22,
      "outputs": [
        {
          "output_type": "execute_result",
          "data": {
            "text/plain": [
              "0.16117778944980238"
            ]
          },
          "metadata": {},
          "execution_count": 22
        }
      ]
    },
    {
      "cell_type": "code",
      "metadata": {
        "colab": {
          "base_uri": "https://localhost:8080/"
        },
        "id": "eJayRjTP8AeN",
        "outputId": "6170cf34-b25d-4c71-b82f-0beb867a6c02"
      },
      "source": [
        "alpha = 0.05 \n",
        "\n",
        "if p <= alpha:\n",
        "  print(\"hipótese nula rejeitada\");\n",
        "else:\n",
        "  print(\"hipótese alternativa rejeitada\");"
      ],
      "execution_count": 24,
      "outputs": [
        {
          "output_type": "stream",
          "name": "stdout",
          "text": [
            "hipótese alternativa rejeitada\n"
          ]
        }
      ]
    },
    {
      "cell_type": "code",
      "metadata": {
        "id": "nTv-l0zV8g9S"
      },
      "source": [
        "tabela = np.array([[45, 5], [5, 45]])"
      ],
      "execution_count": 26,
      "outputs": []
    },
    {
      "cell_type": "code",
      "metadata": {
        "colab": {
          "base_uri": "https://localhost:8080/"
        },
        "id": "eMTzNrN38nkU",
        "outputId": "a71b4073-9178-4670-9086-d8d5b450b4e7"
      },
      "source": [
        "_, p, _, _ = chi2_contingency(tabela)\n",
        "p"
      ],
      "execution_count": 27,
      "outputs": [
        {
          "output_type": "execute_result",
          "data": {
            "text/plain": [
              "6.190717543917382e-15"
            ]
          },
          "metadata": {},
          "execution_count": 27
        }
      ]
    },
    {
      "cell_type": "code",
      "metadata": {
        "colab": {
          "base_uri": "https://localhost:8080/"
        },
        "id": "d_9-fjMF8qyS",
        "outputId": "2149e3d9-025b-4fd0-c142-4615bcbac97b"
      },
      "source": [
        "alpha = 0.05 \n",
        "\n",
        "if p <= alpha:\n",
        "  print(\"hipótese nula rejeitada\");\n",
        "else:\n",
        "  print(\"hipótese alternativa rejeitada\");"
      ],
      "execution_count": 28,
      "outputs": [
        {
          "output_type": "stream",
          "name": "stdout",
          "text": [
            "hipótese nula rejeitada\n"
          ]
        }
      ]
    },
    {
      "cell_type": "markdown",
      "metadata": {
        "id": "K8QXt8H98wtt"
      },
      "source": [
        "**Seleção de atributos qui²**"
      ]
    },
    {
      "cell_type": "code",
      "metadata": {
        "id": "KEpvnFSZ8wUH"
      },
      "source": [
        "from sklearn.feature_selection import SelectFdr\n",
        "from sklearn.naive_bayes import GaussianNB\n",
        "from sklearn.metrics import accuracy_score\n",
        "from sklearn.feature_selection import chi2"
      ],
      "execution_count": 30,
      "outputs": []
    },
    {
      "cell_type": "code",
      "metadata": {
        "colab": {
          "base_uri": "https://localhost:8080/",
          "height": 253
        },
        "id": "E4PB2ldD-J26",
        "outputId": "3725df00-eaa5-4856-b91b-41069f431075"
      },
      "source": [
        "dataset = pd.read_csv(\"ad.data\")\n",
        "\n",
        "dataset.head()"
      ],
      "execution_count": 49,
      "outputs": [
        {
          "output_type": "execute_result",
          "data": {
            "text/html": [
              "<div>\n",
              "<style scoped>\n",
              "    .dataframe tbody tr th:only-of-type {\n",
              "        vertical-align: middle;\n",
              "    }\n",
              "\n",
              "    .dataframe tbody tr th {\n",
              "        vertical-align: top;\n",
              "    }\n",
              "\n",
              "    .dataframe thead th {\n",
              "        text-align: right;\n",
              "    }\n",
              "</style>\n",
              "<table border=\"1\" class=\"dataframe\">\n",
              "  <thead>\n",
              "    <tr style=\"text-align: right;\">\n",
              "      <th></th>\n",
              "      <th>125</th>\n",
              "      <th>125.1</th>\n",
              "      <th>1.0</th>\n",
              "      <th>1</th>\n",
              "      <th>0</th>\n",
              "      <th>0.1</th>\n",
              "      <th>0.2</th>\n",
              "      <th>0.3</th>\n",
              "      <th>0.4</th>\n",
              "      <th>0.5</th>\n",
              "      <th>0.6</th>\n",
              "      <th>0.7</th>\n",
              "      <th>0.8</th>\n",
              "      <th>0.9</th>\n",
              "      <th>0.10</th>\n",
              "      <th>0.11</th>\n",
              "      <th>0.12</th>\n",
              "      <th>0.13</th>\n",
              "      <th>0.14</th>\n",
              "      <th>0.15</th>\n",
              "      <th>0.16</th>\n",
              "      <th>0.17</th>\n",
              "      <th>0.18</th>\n",
              "      <th>0.19</th>\n",
              "      <th>0.20</th>\n",
              "      <th>0.21</th>\n",
              "      <th>0.22</th>\n",
              "      <th>0.23</th>\n",
              "      <th>0.24</th>\n",
              "      <th>0.25</th>\n",
              "      <th>0.26</th>\n",
              "      <th>0.27</th>\n",
              "      <th>0.28</th>\n",
              "      <th>0.29</th>\n",
              "      <th>0.30</th>\n",
              "      <th>0.31</th>\n",
              "      <th>0.32</th>\n",
              "      <th>0.33</th>\n",
              "      <th>0.34</th>\n",
              "      <th>0.35</th>\n",
              "      <th>...</th>\n",
              "      <th>0.1502</th>\n",
              "      <th>0.1503</th>\n",
              "      <th>0.1504</th>\n",
              "      <th>0.1505</th>\n",
              "      <th>0.1506</th>\n",
              "      <th>0.1507</th>\n",
              "      <th>0.1508</th>\n",
              "      <th>0.1509</th>\n",
              "      <th>0.1510</th>\n",
              "      <th>0.1511</th>\n",
              "      <th>0.1512</th>\n",
              "      <th>0.1513</th>\n",
              "      <th>0.1514</th>\n",
              "      <th>0.1515</th>\n",
              "      <th>0.1516</th>\n",
              "      <th>0.1517</th>\n",
              "      <th>0.1518</th>\n",
              "      <th>0.1519</th>\n",
              "      <th>0.1520</th>\n",
              "      <th>0.1521</th>\n",
              "      <th>0.1522</th>\n",
              "      <th>0.1523</th>\n",
              "      <th>0.1524</th>\n",
              "      <th>0.1525</th>\n",
              "      <th>0.1526</th>\n",
              "      <th>0.1527</th>\n",
              "      <th>0.1528</th>\n",
              "      <th>0.1529</th>\n",
              "      <th>0.1530</th>\n",
              "      <th>0.1531</th>\n",
              "      <th>0.1532</th>\n",
              "      <th>0.1533</th>\n",
              "      <th>0.1534</th>\n",
              "      <th>0.1535</th>\n",
              "      <th>0.1536</th>\n",
              "      <th>0.1537</th>\n",
              "      <th>0.1538</th>\n",
              "      <th>0.1539</th>\n",
              "      <th>0.1540</th>\n",
              "      <th>ad.</th>\n",
              "    </tr>\n",
              "  </thead>\n",
              "  <tbody>\n",
              "    <tr>\n",
              "      <th>0</th>\n",
              "      <td>57</td>\n",
              "      <td>468</td>\n",
              "      <td>8.2105</td>\n",
              "      <td>1</td>\n",
              "      <td>0</td>\n",
              "      <td>0</td>\n",
              "      <td>0</td>\n",
              "      <td>0</td>\n",
              "      <td>0</td>\n",
              "      <td>0</td>\n",
              "      <td>0</td>\n",
              "      <td>0</td>\n",
              "      <td>0</td>\n",
              "      <td>0</td>\n",
              "      <td>0</td>\n",
              "      <td>0</td>\n",
              "      <td>0</td>\n",
              "      <td>0</td>\n",
              "      <td>0</td>\n",
              "      <td>0</td>\n",
              "      <td>0</td>\n",
              "      <td>0</td>\n",
              "      <td>0</td>\n",
              "      <td>0</td>\n",
              "      <td>0</td>\n",
              "      <td>0</td>\n",
              "      <td>0</td>\n",
              "      <td>0</td>\n",
              "      <td>0</td>\n",
              "      <td>0</td>\n",
              "      <td>0</td>\n",
              "      <td>0</td>\n",
              "      <td>0</td>\n",
              "      <td>0</td>\n",
              "      <td>0</td>\n",
              "      <td>0</td>\n",
              "      <td>0</td>\n",
              "      <td>0</td>\n",
              "      <td>0</td>\n",
              "      <td>0</td>\n",
              "      <td>...</td>\n",
              "      <td>0</td>\n",
              "      <td>0</td>\n",
              "      <td>0</td>\n",
              "      <td>0</td>\n",
              "      <td>0</td>\n",
              "      <td>0</td>\n",
              "      <td>0</td>\n",
              "      <td>0</td>\n",
              "      <td>0</td>\n",
              "      <td>0</td>\n",
              "      <td>0</td>\n",
              "      <td>0</td>\n",
              "      <td>0</td>\n",
              "      <td>0</td>\n",
              "      <td>0</td>\n",
              "      <td>0</td>\n",
              "      <td>0</td>\n",
              "      <td>0</td>\n",
              "      <td>0</td>\n",
              "      <td>0</td>\n",
              "      <td>0</td>\n",
              "      <td>0</td>\n",
              "      <td>0</td>\n",
              "      <td>0</td>\n",
              "      <td>0</td>\n",
              "      <td>0</td>\n",
              "      <td>0</td>\n",
              "      <td>0</td>\n",
              "      <td>0</td>\n",
              "      <td>0</td>\n",
              "      <td>0</td>\n",
              "      <td>0</td>\n",
              "      <td>0</td>\n",
              "      <td>0</td>\n",
              "      <td>0</td>\n",
              "      <td>0</td>\n",
              "      <td>0</td>\n",
              "      <td>0</td>\n",
              "      <td>0</td>\n",
              "      <td>ad.</td>\n",
              "    </tr>\n",
              "    <tr>\n",
              "      <th>1</th>\n",
              "      <td>33</td>\n",
              "      <td>230</td>\n",
              "      <td>6.9696</td>\n",
              "      <td>1</td>\n",
              "      <td>0</td>\n",
              "      <td>0</td>\n",
              "      <td>0</td>\n",
              "      <td>0</td>\n",
              "      <td>0</td>\n",
              "      <td>0</td>\n",
              "      <td>0</td>\n",
              "      <td>0</td>\n",
              "      <td>0</td>\n",
              "      <td>0</td>\n",
              "      <td>0</td>\n",
              "      <td>0</td>\n",
              "      <td>0</td>\n",
              "      <td>0</td>\n",
              "      <td>0</td>\n",
              "      <td>0</td>\n",
              "      <td>0</td>\n",
              "      <td>0</td>\n",
              "      <td>0</td>\n",
              "      <td>0</td>\n",
              "      <td>0</td>\n",
              "      <td>0</td>\n",
              "      <td>0</td>\n",
              "      <td>0</td>\n",
              "      <td>0</td>\n",
              "      <td>0</td>\n",
              "      <td>0</td>\n",
              "      <td>0</td>\n",
              "      <td>0</td>\n",
              "      <td>0</td>\n",
              "      <td>0</td>\n",
              "      <td>0</td>\n",
              "      <td>0</td>\n",
              "      <td>0</td>\n",
              "      <td>0</td>\n",
              "      <td>0</td>\n",
              "      <td>...</td>\n",
              "      <td>0</td>\n",
              "      <td>0</td>\n",
              "      <td>0</td>\n",
              "      <td>0</td>\n",
              "      <td>0</td>\n",
              "      <td>0</td>\n",
              "      <td>0</td>\n",
              "      <td>0</td>\n",
              "      <td>0</td>\n",
              "      <td>0</td>\n",
              "      <td>0</td>\n",
              "      <td>0</td>\n",
              "      <td>0</td>\n",
              "      <td>0</td>\n",
              "      <td>0</td>\n",
              "      <td>0</td>\n",
              "      <td>0</td>\n",
              "      <td>0</td>\n",
              "      <td>0</td>\n",
              "      <td>0</td>\n",
              "      <td>0</td>\n",
              "      <td>0</td>\n",
              "      <td>0</td>\n",
              "      <td>0</td>\n",
              "      <td>0</td>\n",
              "      <td>0</td>\n",
              "      <td>0</td>\n",
              "      <td>0</td>\n",
              "      <td>0</td>\n",
              "      <td>0</td>\n",
              "      <td>0</td>\n",
              "      <td>0</td>\n",
              "      <td>0</td>\n",
              "      <td>0</td>\n",
              "      <td>0</td>\n",
              "      <td>0</td>\n",
              "      <td>0</td>\n",
              "      <td>0</td>\n",
              "      <td>0</td>\n",
              "      <td>ad.</td>\n",
              "    </tr>\n",
              "    <tr>\n",
              "      <th>2</th>\n",
              "      <td>60</td>\n",
              "      <td>468</td>\n",
              "      <td>7.8000</td>\n",
              "      <td>1</td>\n",
              "      <td>0</td>\n",
              "      <td>0</td>\n",
              "      <td>0</td>\n",
              "      <td>0</td>\n",
              "      <td>0</td>\n",
              "      <td>0</td>\n",
              "      <td>0</td>\n",
              "      <td>0</td>\n",
              "      <td>0</td>\n",
              "      <td>0</td>\n",
              "      <td>0</td>\n",
              "      <td>0</td>\n",
              "      <td>0</td>\n",
              "      <td>0</td>\n",
              "      <td>0</td>\n",
              "      <td>0</td>\n",
              "      <td>0</td>\n",
              "      <td>0</td>\n",
              "      <td>0</td>\n",
              "      <td>0</td>\n",
              "      <td>0</td>\n",
              "      <td>0</td>\n",
              "      <td>0</td>\n",
              "      <td>0</td>\n",
              "      <td>0</td>\n",
              "      <td>0</td>\n",
              "      <td>0</td>\n",
              "      <td>0</td>\n",
              "      <td>0</td>\n",
              "      <td>0</td>\n",
              "      <td>0</td>\n",
              "      <td>0</td>\n",
              "      <td>0</td>\n",
              "      <td>0</td>\n",
              "      <td>0</td>\n",
              "      <td>0</td>\n",
              "      <td>...</td>\n",
              "      <td>0</td>\n",
              "      <td>0</td>\n",
              "      <td>0</td>\n",
              "      <td>0</td>\n",
              "      <td>0</td>\n",
              "      <td>0</td>\n",
              "      <td>0</td>\n",
              "      <td>0</td>\n",
              "      <td>0</td>\n",
              "      <td>0</td>\n",
              "      <td>0</td>\n",
              "      <td>0</td>\n",
              "      <td>0</td>\n",
              "      <td>0</td>\n",
              "      <td>0</td>\n",
              "      <td>0</td>\n",
              "      <td>0</td>\n",
              "      <td>0</td>\n",
              "      <td>0</td>\n",
              "      <td>0</td>\n",
              "      <td>0</td>\n",
              "      <td>0</td>\n",
              "      <td>0</td>\n",
              "      <td>0</td>\n",
              "      <td>0</td>\n",
              "      <td>0</td>\n",
              "      <td>0</td>\n",
              "      <td>0</td>\n",
              "      <td>0</td>\n",
              "      <td>0</td>\n",
              "      <td>0</td>\n",
              "      <td>0</td>\n",
              "      <td>0</td>\n",
              "      <td>0</td>\n",
              "      <td>0</td>\n",
              "      <td>0</td>\n",
              "      <td>0</td>\n",
              "      <td>0</td>\n",
              "      <td>0</td>\n",
              "      <td>ad.</td>\n",
              "    </tr>\n",
              "    <tr>\n",
              "      <th>3</th>\n",
              "      <td>60</td>\n",
              "      <td>468</td>\n",
              "      <td>7.8000</td>\n",
              "      <td>1</td>\n",
              "      <td>0</td>\n",
              "      <td>0</td>\n",
              "      <td>0</td>\n",
              "      <td>0</td>\n",
              "      <td>0</td>\n",
              "      <td>0</td>\n",
              "      <td>0</td>\n",
              "      <td>0</td>\n",
              "      <td>0</td>\n",
              "      <td>0</td>\n",
              "      <td>0</td>\n",
              "      <td>0</td>\n",
              "      <td>0</td>\n",
              "      <td>0</td>\n",
              "      <td>0</td>\n",
              "      <td>0</td>\n",
              "      <td>0</td>\n",
              "      <td>0</td>\n",
              "      <td>0</td>\n",
              "      <td>0</td>\n",
              "      <td>0</td>\n",
              "      <td>0</td>\n",
              "      <td>0</td>\n",
              "      <td>0</td>\n",
              "      <td>0</td>\n",
              "      <td>0</td>\n",
              "      <td>0</td>\n",
              "      <td>0</td>\n",
              "      <td>0</td>\n",
              "      <td>0</td>\n",
              "      <td>0</td>\n",
              "      <td>0</td>\n",
              "      <td>0</td>\n",
              "      <td>0</td>\n",
              "      <td>0</td>\n",
              "      <td>0</td>\n",
              "      <td>...</td>\n",
              "      <td>0</td>\n",
              "      <td>0</td>\n",
              "      <td>0</td>\n",
              "      <td>0</td>\n",
              "      <td>0</td>\n",
              "      <td>0</td>\n",
              "      <td>0</td>\n",
              "      <td>0</td>\n",
              "      <td>0</td>\n",
              "      <td>0</td>\n",
              "      <td>0</td>\n",
              "      <td>0</td>\n",
              "      <td>0</td>\n",
              "      <td>0</td>\n",
              "      <td>0</td>\n",
              "      <td>0</td>\n",
              "      <td>0</td>\n",
              "      <td>0</td>\n",
              "      <td>0</td>\n",
              "      <td>0</td>\n",
              "      <td>0</td>\n",
              "      <td>0</td>\n",
              "      <td>0</td>\n",
              "      <td>0</td>\n",
              "      <td>0</td>\n",
              "      <td>0</td>\n",
              "      <td>0</td>\n",
              "      <td>0</td>\n",
              "      <td>0</td>\n",
              "      <td>0</td>\n",
              "      <td>0</td>\n",
              "      <td>0</td>\n",
              "      <td>0</td>\n",
              "      <td>0</td>\n",
              "      <td>0</td>\n",
              "      <td>0</td>\n",
              "      <td>0</td>\n",
              "      <td>0</td>\n",
              "      <td>0</td>\n",
              "      <td>ad.</td>\n",
              "    </tr>\n",
              "    <tr>\n",
              "      <th>4</th>\n",
              "      <td>60</td>\n",
              "      <td>468</td>\n",
              "      <td>7.8000</td>\n",
              "      <td>1</td>\n",
              "      <td>0</td>\n",
              "      <td>0</td>\n",
              "      <td>0</td>\n",
              "      <td>0</td>\n",
              "      <td>0</td>\n",
              "      <td>0</td>\n",
              "      <td>0</td>\n",
              "      <td>0</td>\n",
              "      <td>0</td>\n",
              "      <td>0</td>\n",
              "      <td>0</td>\n",
              "      <td>0</td>\n",
              "      <td>0</td>\n",
              "      <td>0</td>\n",
              "      <td>0</td>\n",
              "      <td>0</td>\n",
              "      <td>0</td>\n",
              "      <td>0</td>\n",
              "      <td>0</td>\n",
              "      <td>0</td>\n",
              "      <td>0</td>\n",
              "      <td>0</td>\n",
              "      <td>0</td>\n",
              "      <td>0</td>\n",
              "      <td>0</td>\n",
              "      <td>0</td>\n",
              "      <td>0</td>\n",
              "      <td>0</td>\n",
              "      <td>0</td>\n",
              "      <td>0</td>\n",
              "      <td>0</td>\n",
              "      <td>0</td>\n",
              "      <td>0</td>\n",
              "      <td>0</td>\n",
              "      <td>0</td>\n",
              "      <td>0</td>\n",
              "      <td>...</td>\n",
              "      <td>0</td>\n",
              "      <td>0</td>\n",
              "      <td>0</td>\n",
              "      <td>0</td>\n",
              "      <td>0</td>\n",
              "      <td>0</td>\n",
              "      <td>0</td>\n",
              "      <td>0</td>\n",
              "      <td>0</td>\n",
              "      <td>0</td>\n",
              "      <td>0</td>\n",
              "      <td>0</td>\n",
              "      <td>0</td>\n",
              "      <td>0</td>\n",
              "      <td>0</td>\n",
              "      <td>0</td>\n",
              "      <td>0</td>\n",
              "      <td>0</td>\n",
              "      <td>0</td>\n",
              "      <td>0</td>\n",
              "      <td>0</td>\n",
              "      <td>0</td>\n",
              "      <td>0</td>\n",
              "      <td>0</td>\n",
              "      <td>0</td>\n",
              "      <td>0</td>\n",
              "      <td>0</td>\n",
              "      <td>0</td>\n",
              "      <td>0</td>\n",
              "      <td>0</td>\n",
              "      <td>0</td>\n",
              "      <td>0</td>\n",
              "      <td>0</td>\n",
              "      <td>0</td>\n",
              "      <td>0</td>\n",
              "      <td>0</td>\n",
              "      <td>0</td>\n",
              "      <td>0</td>\n",
              "      <td>0</td>\n",
              "      <td>ad.</td>\n",
              "    </tr>\n",
              "  </tbody>\n",
              "</table>\n",
              "<p>5 rows × 1559 columns</p>\n",
              "</div>"
            ],
            "text/plain": [
              "    125   125.1     1.0  1  0  0.1  ...  0.1536  0.1537  0.1538  0.1539  0.1540  ad.\n",
              "0    57     468  8.2105  1  0    0  ...       0       0       0       0       0  ad.\n",
              "1    33     230  6.9696  1  0    0  ...       0       0       0       0       0  ad.\n",
              "2    60     468  7.8000  1  0    0  ...       0       0       0       0       0  ad.\n",
              "3    60     468  7.8000  1  0    0  ...       0       0       0       0       0  ad.\n",
              "4    60     468  7.8000  1  0    0  ...       0       0       0       0       0  ad.\n",
              "\n",
              "[5 rows x 1559 columns]"
            ]
          },
          "metadata": {},
          "execution_count": 49
        }
      ]
    },
    {
      "cell_type": "code",
      "metadata": {
        "colab": {
          "base_uri": "https://localhost:8080/"
        },
        "id": "yKweOnbG-qn7",
        "outputId": "0c97bd84-7bac-4add-f17a-7b976fee220d"
      },
      "source": [
        "dataset.shape"
      ],
      "execution_count": 50,
      "outputs": [
        {
          "output_type": "execute_result",
          "data": {
            "text/plain": [
              "(3278, 1559)"
            ]
          },
          "metadata": {},
          "execution_count": 50
        }
      ]
    },
    {
      "cell_type": "code",
      "metadata": {
        "colab": {
          "base_uri": "https://localhost:8080/"
        },
        "id": "L99HONOh-uzk",
        "outputId": "008f3edc-a0e1-40e4-9cb7-dcadac365909"
      },
      "source": [
        "x = dataset.iloc[:, 0:-1].values\n",
        "x"
      ],
      "execution_count": 51,
      "outputs": [
        {
          "output_type": "execute_result",
          "data": {
            "text/plain": [
              "array([[ 57.    , 468.    ,   8.2105, ...,   0.    ,   0.    ,   0.    ],\n",
              "       [ 33.    , 230.    ,   6.9696, ...,   0.    ,   0.    ,   0.    ],\n",
              "       [ 60.    , 468.    ,   7.8   , ...,   0.    ,   0.    ,   0.    ],\n",
              "       ...,\n",
              "       [ 23.    , 120.    ,   5.2173, ...,   0.    ,   0.    ,   0.    ],\n",
              "       [  0.    ,   0.    ,   0.    , ...,   0.    ,   0.    ,   0.    ],\n",
              "       [ 40.    ,  40.    ,   1.    , ...,   0.    ,   0.    ,   0.    ]])"
            ]
          },
          "metadata": {},
          "execution_count": 51
        }
      ]
    },
    {
      "cell_type": "code",
      "metadata": {
        "colab": {
          "base_uri": "https://localhost:8080/"
        },
        "id": "LmrpyZ1G_dUh",
        "outputId": "7a5ab67a-c2fc-4bdf-b491-64216a669bbc"
      },
      "source": [
        "y = dataset.iloc[:, -1].values\n",
        "y"
      ],
      "execution_count": 52,
      "outputs": [
        {
          "output_type": "execute_result",
          "data": {
            "text/plain": [
              "array(['ad.', 'ad.', 'ad.', ..., 'nonad.', 'nonad.', 'nonad.'],\n",
              "      dtype=object)"
            ]
          },
          "metadata": {},
          "execution_count": 52
        }
      ]
    },
    {
      "cell_type": "code",
      "metadata": {
        "colab": {
          "base_uri": "https://localhost:8080/"
        },
        "id": "r7uTod8U_nzJ",
        "outputId": "bcf63495-f4ad-4155-d8ff-7bf2d2e88ab3"
      },
      "source": [
        "np.unique(y, return_counts=True)"
      ],
      "execution_count": 53,
      "outputs": [
        {
          "output_type": "execute_result",
          "data": {
            "text/plain": [
              "(array(['ad.', 'nonad.'], dtype=object), array([ 458, 2820]))"
            ]
          },
          "metadata": {},
          "execution_count": 53
        }
      ]
    },
    {
      "cell_type": "markdown",
      "metadata": {
        "id": "JVFSlw8sBW0U"
      },
      "source": [
        "Só umtest com um balanceamento da base utilizando o SMOTE"
      ]
    },
    {
      "cell_type": "code",
      "metadata": {
        "colab": {
          "base_uri": "https://localhost:8080/"
        },
        "id": "ZYD8UtHuA3i2",
        "outputId": "a4153af6-14b0-41ca-ad7b-5c11ac9c21dc"
      },
      "source": [
        "naive1 =  GaussianNB()\n",
        "naive1.fit(x, y)\n",
        "previsoes = naive1.predict(x)\n",
        "accuracy_score(y, previsoes)"
      ],
      "execution_count": 54,
      "outputs": [
        {
          "output_type": "execute_result",
          "data": {
            "text/plain": [
              "0.7812690665039659"
            ]
          },
          "metadata": {},
          "execution_count": 54
        }
      ]
    },
    {
      "cell_type": "code",
      "metadata": {
        "colab": {
          "base_uri": "https://localhost:8080/"
        },
        "id": "SV9Fuc8VBh5E",
        "outputId": "87a86785-534a-4ad8-a708-12acdf4796d6"
      },
      "source": [
        "selecao = SelectFdr(chi2, alpha=0.01)\n",
        "\n",
        "x_new = selecao.fit_transform(x, y)\n",
        "\n",
        "x.shape, x_new.shape"
      ],
      "execution_count": 55,
      "outputs": [
        {
          "output_type": "execute_result",
          "data": {
            "text/plain": [
              "((3278, 1558), (3278, 433))"
            ]
          },
          "metadata": {},
          "execution_count": 55
        }
      ]
    },
    {
      "cell_type": "code",
      "metadata": {
        "colab": {
          "base_uri": "https://localhost:8080/"
        },
        "id": "OxK_8VaaDIvT",
        "outputId": "9fb4ecf8-d556-4e37-cf4f-4460d04a817e"
      },
      "source": [
        "np.sum(selecao.pvalues_ <=0.01)"
      ],
      "execution_count": 56,
      "outputs": [
        {
          "output_type": "execute_result",
          "data": {
            "text/plain": [
              "475"
            ]
          },
          "metadata": {},
          "execution_count": 56
        }
      ]
    },
    {
      "cell_type": "code",
      "metadata": {
        "colab": {
          "base_uri": "https://localhost:8080/"
        },
        "id": "9mrjUGWdDvlF",
        "outputId": "b174b4b7-aa28-4253-cc03-b393496d83b7"
      },
      "source": [
        "colunas = selecao.get_support()\n",
        "colunas"
      ],
      "execution_count": 57,
      "outputs": [
        {
          "output_type": "execute_result",
          "data": {
            "text/plain": [
              "array([ True,  True,  True, ...,  True,  True, False])"
            ]
          },
          "metadata": {},
          "execution_count": 57
        }
      ]
    },
    {
      "cell_type": "code",
      "metadata": {
        "colab": {
          "base_uri": "https://localhost:8080/"
        },
        "id": "xZyFlPKXD0J5",
        "outputId": "fcc8b52e-9a0f-461f-dd8a-83c01f9ff54e"
      },
      "source": [
        "indices = np.where(colunas == True)\n",
        "indices"
      ],
      "execution_count": 58,
      "outputs": [
        {
          "output_type": "execute_result",
          "data": {
            "text/plain": [
              "(array([   0,    1,    2,    9,   11,   14,   20,   21,   26,   31,   34,\n",
              "          36,   49,   58,   59,   64,   65,   69,   70,   86,   91,   95,\n",
              "          96,  102,  104,  106,  113,  133,  134,  139,  155,  158,  163,\n",
              "         167,  172,  175,  180,  181,  183,  185,  186,  189,  190,  192,\n",
              "         193,  224,  242,  246,  248,  249,  251,  259,  264,  265,  266,\n",
              "         267,  268,  269,  270,  274,  276,  278,  287,  290,  293,  304,\n",
              "         307,  310,  312,  317,  321,  329,  330,  336,  341,  345,  346,\n",
              "         350,  351,  355,  356,  357,  359,  366,  367,  370,  372,  381,\n",
              "         386,  388,  389,  398,  405,  418,  420,  426,  427,  429,  430,\n",
              "         432,  435,  440,  455,  457,  460,  465,  470,  472,  477,  478,\n",
              "         482,  508,  511,  518,  528,  532,  533,  540,  542,  548,  551,\n",
              "         556,  572,  573,  574,  576,  586,  622,  625,  627,  638,  643,\n",
              "         648,  653,  658,  661,  663,  666,  683,  688,  694,  703,  704,\n",
              "         709,  711,  720,  723,  729,  732,  734,  735,  738,  739,  744,\n",
              "         759,  762,  772,  773,  774,  783,  800,  807,  812,  813,  819,\n",
              "         825,  840,  848,  849,  860,  863,  869,  870,  873,  874,  875,\n",
              "         884,  890,  914,  917,  925,  927,  930,  942,  943,  944,  947,\n",
              "         948,  951,  955,  960,  962,  963,  967,  968,  969,  972,  973,\n",
              "         976,  983,  986,  987,  990,  992,  993, 1002, 1007, 1008, 1009,\n",
              "        1010, 1014, 1015, 1016, 1017, 1018, 1022, 1024, 1026, 1035, 1040,\n",
              "        1041, 1042, 1043, 1045, 1046, 1047, 1048, 1049, 1052, 1054, 1055,\n",
              "        1057, 1058, 1059, 1060, 1061, 1065, 1073, 1075, 1081, 1084, 1088,\n",
              "        1089, 1090, 1092, 1097, 1100, 1102, 1108, 1110, 1112, 1115, 1116,\n",
              "        1118, 1122, 1125, 1128, 1129, 1130, 1131, 1132, 1135, 1136, 1139,\n",
              "        1140, 1141, 1142, 1143, 1146, 1149, 1150, 1153, 1154, 1157, 1164,\n",
              "        1165, 1169, 1174, 1177, 1178, 1180, 1185, 1188, 1190, 1193, 1195,\n",
              "        1198, 1200, 1201, 1202, 1203, 1204, 1205, 1207, 1208, 1211, 1213,\n",
              "        1218, 1219, 1220, 1222, 1223, 1224, 1227, 1229, 1230, 1232, 1234,\n",
              "        1235, 1236, 1240, 1243, 1247, 1249, 1250, 1254, 1257, 1258, 1260,\n",
              "        1262, 1265, 1266, 1270, 1271, 1276, 1278, 1283, 1284, 1288, 1289,\n",
              "        1293, 1294, 1296, 1301, 1302, 1306, 1309, 1311, 1312, 1313, 1317,\n",
              "        1318, 1321, 1324, 1326, 1327, 1330, 1332, 1335, 1337, 1338, 1339,\n",
              "        1341, 1342, 1344, 1345, 1346, 1347, 1348, 1351, 1353, 1355, 1357,\n",
              "        1358, 1359, 1361, 1362, 1367, 1368, 1373, 1376, 1380, 1382, 1383,\n",
              "        1385, 1391, 1392, 1393, 1394, 1395, 1398, 1399, 1400, 1402, 1404,\n",
              "        1408, 1410, 1411, 1413, 1416, 1422, 1423, 1424, 1426, 1427, 1428,\n",
              "        1429, 1434, 1435, 1436, 1437, 1442, 1445, 1452, 1454, 1455, 1461,\n",
              "        1462, 1465, 1469, 1483, 1484, 1485, 1494, 1500, 1501, 1507, 1510,\n",
              "        1513, 1515, 1519, 1521, 1526, 1527, 1532, 1533, 1535, 1539, 1541,\n",
              "        1544, 1554, 1555, 1556]),)"
            ]
          },
          "metadata": {},
          "execution_count": 58
        }
      ]
    },
    {
      "cell_type": "code",
      "metadata": {
        "colab": {
          "base_uri": "https://localhost:8080/"
        },
        "id": "-d4oTLs_EDpP",
        "outputId": "8ae2dc5e-c858-4d39-9e7e-5bb4522d3198"
      },
      "source": [
        "naive2 =  GaussianNB()\n",
        "naive2.fit(x_new, y)\n",
        "previsoes = naive2.predict(x_new)\n",
        "accuracy_score(y, previsoes)"
      ],
      "execution_count": 60,
      "outputs": [
        {
          "output_type": "execute_result",
          "data": {
            "text/plain": [
              "0.9707138499084808"
            ]
          },
          "metadata": {},
          "execution_count": 60
        }
      ]
    },
    {
      "cell_type": "markdown",
      "metadata": {
        "id": "5zPYKv2lDph2"
      },
      "source": [
        "**Balanceando a base e testando**"
      ]
    },
    {
      "cell_type": "code",
      "metadata": {
        "id": "SdtxvEkP_wqw"
      },
      "source": [
        "from imblearn.over_sampling import SMOTE"
      ],
      "execution_count": 61,
      "outputs": []
    },
    {
      "cell_type": "code",
      "metadata": {
        "id": "nuLOIumAAj54"
      },
      "source": [
        "\n",
        "smote = SMOTE(ratio='minority')"
      ],
      "execution_count": 62,
      "outputs": []
    },
    {
      "cell_type": "code",
      "metadata": {
        "colab": {
          "base_uri": "https://localhost:8080/"
        },
        "id": "7lWzySPYAmhG",
        "outputId": "9f6693fc-fc0f-4391-ee0c-5d3735ebfc7b"
      },
      "source": [
        "x_over, y_over = smote.fit_sample(x, y)"
      ],
      "execution_count": 63,
      "outputs": [
        {
          "output_type": "stream",
          "name": "stderr",
          "text": [
            "/usr/local/lib/python3.7/dist-packages/sklearn/utils/deprecation.py:87: FutureWarning: Function safe_indexing is deprecated; safe_indexing is deprecated in version 0.22 and will be removed in version 0.24.\n",
            "  warnings.warn(msg, category=FutureWarning)\n"
          ]
        }
      ]
    },
    {
      "cell_type": "code",
      "metadata": {
        "colab": {
          "base_uri": "https://localhost:8080/"
        },
        "id": "8_tMZmLnAu8U",
        "outputId": "d08017f4-2f74-491f-c0ac-8a924b23255f"
      },
      "source": [
        "x_over.shape, y_over.shape"
      ],
      "execution_count": 64,
      "outputs": [
        {
          "output_type": "execute_result",
          "data": {
            "text/plain": [
              "((5640, 1558), (5640,))"
            ]
          },
          "metadata": {},
          "execution_count": 64
        }
      ]
    },
    {
      "cell_type": "code",
      "metadata": {
        "colab": {
          "base_uri": "https://localhost:8080/"
        },
        "id": "HLda1W4iBMne",
        "outputId": "97c9419a-e404-439f-98c9-ae1700f2d5b6"
      },
      "source": [
        "naive3 =  GaussianNB()\n",
        "naive3.fit(x_over, y_over)\n",
        "previsoes = naive3.predict(x_over)\n",
        "accuracy_score(y_over, previsoes)"
      ],
      "execution_count": 67,
      "outputs": [
        {
          "output_type": "execute_result",
          "data": {
            "text/plain": [
              "0.8764184397163121"
            ]
          },
          "metadata": {},
          "execution_count": 67
        }
      ]
    },
    {
      "cell_type": "code",
      "metadata": {
        "colab": {
          "base_uri": "https://localhost:8080/"
        },
        "id": "4qS8JUVqCWUB",
        "outputId": "c5848bff-c6f9-4b6c-8b9b-ff1028f82d31"
      },
      "source": [
        "selecao = SelectFdr(chi2, alpha=0.01)\n",
        "\n",
        "x_novo_over = selecao.fit_transform(x_over, y_over)\n",
        "\n",
        "x_over.shape, x_novo_over.shape"
      ],
      "execution_count": 68,
      "outputs": [
        {
          "output_type": "execute_result",
          "data": {
            "text/plain": [
              "((5640, 1558), (5640, 1326))"
            ]
          },
          "metadata": {},
          "execution_count": 68
        }
      ]
    },
    {
      "cell_type": "code",
      "metadata": {
        "colab": {
          "base_uri": "https://localhost:8080/"
        },
        "id": "EbQ2cTZuD9Qr",
        "outputId": "bf29e53d-952f-4b8e-ba6e-4562ba585c4c"
      },
      "source": [
        "naive4 =  GaussianNB()\n",
        "naive4.fit(x_novo_over, y_over)\n",
        "previsoes = naive4.predict(x_novo_over)\n",
        "accuracy_score(y_over, previsoes)"
      ],
      "execution_count": 70,
      "outputs": [
        {
          "output_type": "execute_result",
          "data": {
            "text/plain": [
              "0.8764184397163121"
            ]
          },
          "metadata": {},
          "execution_count": 70
        }
      ]
    },
    {
      "cell_type": "markdown",
      "metadata": {
        "id": "B24vmuINE7KH"
      },
      "source": [
        "**ANOVA**"
      ]
    },
    {
      "cell_type": "code",
      "metadata": {
        "id": "Kek7ck5vEXLn"
      },
      "source": [
        "grupo_a = np.array([165, 152, 143, 140, 155])\n",
        "grupo_b = np.array([130, 169, 164, 143, 154])\n",
        "grupo_c = np.array([163, 158, 154, 149, 156])"
      ],
      "execution_count": 3,
      "outputs": []
    },
    {
      "cell_type": "code",
      "metadata": {
        "id": "cpGrJwpytteC"
      },
      "source": [
        "from scipy.stats import f # Estatística da ANOVA"
      ],
      "execution_count": 4,
      "outputs": []
    },
    {
      "cell_type": "code",
      "metadata": {
        "colab": {
          "base_uri": "https://localhost:8080/"
        },
        "id": "k1w4iA7tt3qF",
        "outputId": "0a7955f1-65c5-43fb-c7f0-6428d807d698"
      },
      "source": [
        "f.ppf(1 - .05, dfn= 2, dfd= 12)"
      ],
      "execution_count": 5,
      "outputs": [
        {
          "output_type": "execute_result",
          "data": {
            "text/plain": [
              "3.8852938346523933"
            ]
          },
          "metadata": {},
          "execution_count": 5
        }
      ]
    },
    {
      "cell_type": "code",
      "metadata": {
        "id": "UZjT-R_auGFz"
      },
      "source": [
        "from scipy.stats import f_oneway # A nova de uma valor"
      ],
      "execution_count": 6,
      "outputs": []
    },
    {
      "cell_type": "code",
      "metadata": {
        "colab": {
          "base_uri": "https://localhost:8080/"
        },
        "id": "dnKQJlGguPVz",
        "outputId": "e8af4462-114c-467c-bb2e-87d431e2da3e"
      },
      "source": [
        "_, p = f_oneway(grupo_a, grupo_b, grupo_c)\n",
        "p"
      ],
      "execution_count": 8,
      "outputs": [
        {
          "output_type": "execute_result",
          "data": {
            "text/plain": [
              "0.7613994386091956"
            ]
          },
          "metadata": {},
          "execution_count": 8
        }
      ]
    },
    {
      "cell_type": "code",
      "metadata": {
        "colab": {
          "base_uri": "https://localhost:8080/"
        },
        "id": "K6S86QUKubOT",
        "outputId": "f31692e2-5cb0-47d3-f082-c2eceebb2dee"
      },
      "source": [
        "alpha = 0.05 \n",
        "\n",
        "if p <= alpha:\n",
        "  print(\"hipótese nula rejeitada\");\n",
        "else:\n",
        "  print(\"hipótese alternativa rejeitada\");"
      ],
      "execution_count": 9,
      "outputs": [
        {
          "output_type": "stream",
          "name": "stdout",
          "text": [
            "hipótese alternativa rejeitada\n"
          ]
        }
      ]
    },
    {
      "cell_type": "markdown",
      "metadata": {
        "id": "77qnzkOIuwqN"
      },
      "source": [
        "Teste de Tukey"
      ]
    },
    {
      "cell_type": "code",
      "metadata": {
        "id": "4w7kEPpuu2v0"
      },
      "source": [
        "dados = {'valores': [165, 152, 143, 140, 155, 130, 169, 164, 143, 154, 163, 158, 154, 149, 156],\n",
        "         'grupo': ['A', 'A', 'A', 'A', 'A', 'B', 'B', 'B', 'B', 'B', 'C', 'C', 'C', 'C', 'C']}"
      ],
      "execution_count": 17,
      "outputs": []
    },
    {
      "cell_type": "code",
      "metadata": {
        "id": "KQZwWe2cu5hP"
      },
      "source": [
        "dados = {'valores': [70, 90, 80, 50, 20, 130, 169, 164, 143, 154, 163, 158, 154, 149, 156],\n",
        "         'grupo': ['A', 'A', 'A', 'A', 'A', 'B', 'B', 'B', 'B', 'B', 'C', 'C', 'C', 'C', 'C']}"
      ],
      "execution_count": 25,
      "outputs": []
    },
    {
      "cell_type": "code",
      "metadata": {
        "colab": {
          "base_uri": "https://localhost:8080/",
          "height": 514
        },
        "id": "eIxTXwvVu9Nw",
        "outputId": "6f448000-652a-40a9-cf82-978ec94816c0"
      },
      "source": [
        "import pandas as pd\n",
        "dados_pd = pd.DataFrame(dados)\n",
        "dados_pd"
      ],
      "execution_count": 26,
      "outputs": [
        {
          "output_type": "execute_result",
          "data": {
            "text/html": [
              "<div>\n",
              "<style scoped>\n",
              "    .dataframe tbody tr th:only-of-type {\n",
              "        vertical-align: middle;\n",
              "    }\n",
              "\n",
              "    .dataframe tbody tr th {\n",
              "        vertical-align: top;\n",
              "    }\n",
              "\n",
              "    .dataframe thead th {\n",
              "        text-align: right;\n",
              "    }\n",
              "</style>\n",
              "<table border=\"1\" class=\"dataframe\">\n",
              "  <thead>\n",
              "    <tr style=\"text-align: right;\">\n",
              "      <th></th>\n",
              "      <th>valores</th>\n",
              "      <th>grupo</th>\n",
              "    </tr>\n",
              "  </thead>\n",
              "  <tbody>\n",
              "    <tr>\n",
              "      <th>0</th>\n",
              "      <td>70</td>\n",
              "      <td>A</td>\n",
              "    </tr>\n",
              "    <tr>\n",
              "      <th>1</th>\n",
              "      <td>90</td>\n",
              "      <td>A</td>\n",
              "    </tr>\n",
              "    <tr>\n",
              "      <th>2</th>\n",
              "      <td>80</td>\n",
              "      <td>A</td>\n",
              "    </tr>\n",
              "    <tr>\n",
              "      <th>3</th>\n",
              "      <td>50</td>\n",
              "      <td>A</td>\n",
              "    </tr>\n",
              "    <tr>\n",
              "      <th>4</th>\n",
              "      <td>20</td>\n",
              "      <td>A</td>\n",
              "    </tr>\n",
              "    <tr>\n",
              "      <th>5</th>\n",
              "      <td>130</td>\n",
              "      <td>B</td>\n",
              "    </tr>\n",
              "    <tr>\n",
              "      <th>6</th>\n",
              "      <td>169</td>\n",
              "      <td>B</td>\n",
              "    </tr>\n",
              "    <tr>\n",
              "      <th>7</th>\n",
              "      <td>164</td>\n",
              "      <td>B</td>\n",
              "    </tr>\n",
              "    <tr>\n",
              "      <th>8</th>\n",
              "      <td>143</td>\n",
              "      <td>B</td>\n",
              "    </tr>\n",
              "    <tr>\n",
              "      <th>9</th>\n",
              "      <td>154</td>\n",
              "      <td>B</td>\n",
              "    </tr>\n",
              "    <tr>\n",
              "      <th>10</th>\n",
              "      <td>163</td>\n",
              "      <td>C</td>\n",
              "    </tr>\n",
              "    <tr>\n",
              "      <th>11</th>\n",
              "      <td>158</td>\n",
              "      <td>C</td>\n",
              "    </tr>\n",
              "    <tr>\n",
              "      <th>12</th>\n",
              "      <td>154</td>\n",
              "      <td>C</td>\n",
              "    </tr>\n",
              "    <tr>\n",
              "      <th>13</th>\n",
              "      <td>149</td>\n",
              "      <td>C</td>\n",
              "    </tr>\n",
              "    <tr>\n",
              "      <th>14</th>\n",
              "      <td>156</td>\n",
              "      <td>C</td>\n",
              "    </tr>\n",
              "  </tbody>\n",
              "</table>\n",
              "</div>"
            ],
            "text/plain": [
              "    valores grupo\n",
              "0        70     A\n",
              "1        90     A\n",
              "2        80     A\n",
              "3        50     A\n",
              "4        20     A\n",
              "5       130     B\n",
              "6       169     B\n",
              "7       164     B\n",
              "8       143     B\n",
              "9       154     B\n",
              "10      163     C\n",
              "11      158     C\n",
              "12      154     C\n",
              "13      149     C\n",
              "14      156     C"
            ]
          },
          "metadata": {},
          "execution_count": 26
        }
      ]
    },
    {
      "cell_type": "code",
      "metadata": {
        "id": "mM87UKR5vAZY"
      },
      "source": [
        "from statsmodels.stats.multicomp import MultiComparison;"
      ],
      "execution_count": 14,
      "outputs": []
    },
    {
      "cell_type": "code",
      "metadata": {
        "id": "jBcqoA7-vYTN"
      },
      "source": [
        "compara_grupos = MultiComparison(dados_pd['valores'], dados_pd['grupo'])"
      ],
      "execution_count": 27,
      "outputs": []
    },
    {
      "cell_type": "code",
      "metadata": {
        "colab": {
          "base_uri": "https://localhost:8080/"
        },
        "id": "cuVgRO4zvoCL",
        "outputId": "cfb578e3-5220-4676-b3c8-cdf9c1aab3fe"
      },
      "source": [
        "test = compara_grupos.tukeyhsd()\n",
        "print(test)"
      ],
      "execution_count": 28,
      "outputs": [
        {
          "output_type": "stream",
          "name": "stdout",
          "text": [
            "Multiple Comparison of Means - Tukey HSD, FWER=0.05\n",
            "===================================================\n",
            "group1 group2 meandiff p-adj  lower   upper  reject\n",
            "---------------------------------------------------\n",
            "     A      B     90.0 0.001  58.494 121.506   True\n",
            "     A      C     94.0 0.001  62.494 125.506   True\n",
            "     B      C      4.0   0.9 -27.506  35.506  False\n",
            "---------------------------------------------------\n"
          ]
        }
      ]
    },
    {
      "cell_type": "code",
      "metadata": {
        "colab": {
          "base_uri": "https://localhost:8080/",
          "height": 390
        },
        "id": "WVH7tR2_wdDf",
        "outputId": "d28e6941-2f63-4f69-cc18-ae25af320bef"
      },
      "source": [
        "test.plot_simultaneous();"
      ],
      "execution_count": 29,
      "outputs": [
        {
          "output_type": "display_data",
          "data": {
            "image/png": "[encoded data removed]",
            "text/plain": [
              "<Figure size 720x432 with 1 Axes>"
            ]
          },
          "metadata": {
            "needs_background": "light"
          }
        }
      ]
    }
  ]
}