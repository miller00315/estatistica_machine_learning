{
  "nbformat": 4,
  "nbformat_minor": 0,
  "metadata": {
    "colab": {
      "name": "inicializacao_pesos_neurais_artificiais.ipynb",
      "provenance": [],
      "authorship_tag": "ABX9TyM0pFWZtzssxqOmtaOdxUIB",
      "include_colab_link": true
    },
    "kernelspec": {
      "name": "python3",
      "display_name": "Python 3"
    },
    "language_info": {
      "name": "python"
    }
  },
  "cells": [
    {
      "cell_type": "markdown",
      "metadata": {
        "id": "view-in-github",
        "colab_type": "text"
      },
      "source": [
        "<a href=\"https://colab.research.google.com/github/miller00315/estatistica_machine_learning/blob/master/inicializacao_pesos_neurais_artificiais.ipynb\" target=\"_parent\"><img src=\"https://colab.research.google.com/assets/colab-badge.svg\" alt=\"Open In Colab\"/></a>"
      ]
    },
    {
      "cell_type": "code",
      "metadata": {
        "colab": {
          "base_uri": "https://localhost:8080/",
          "height": 36
        },
        "id": "ImQbvaiHps3U",
        "outputId": "5b261a70-b122-457a-a96a-07ec008e6cb8"
      },
      "source": [
        "import tensorflow as tf\n",
        "tf.__version__"
      ],
      "execution_count": 3,
      "outputs": [
        {
          "output_type": "execute_result",
          "data": {
            "application/vnd.google.colaboratory.intrinsic+json": {
              "type": "string"
            },
            "text/plain": [
              "'2.6.0'"
            ]
          },
          "metadata": {},
          "execution_count": 3
        }
      ]
    },
    {
      "cell_type": "code",
      "metadata": {
        "id": "0GIt2wXunqvh"
      },
      "source": [
        "from tensorflow.keras import initializers"
      ],
      "execution_count": 1,
      "outputs": []
    },
    {
      "cell_type": "markdown",
      "metadata": {
        "id": "DI0c0MTSsXzh"
      },
      "source": [
        "Random normal"
      ]
    },
    {
      "cell_type": "code",
      "metadata": {
        "id": "1Bx6PItHpkkq"
      },
      "source": [
        "normal = initializers.RandomNormal()\n",
        "dados_normal = normal(shape=[1000])"
      ],
      "execution_count": 11,
      "outputs": []
    },
    {
      "cell_type": "code",
      "metadata": {
        "id": "O_z9loqrpwHB"
      },
      "source": [
        "import seaborn as sns"
      ],
      "execution_count": 5,
      "outputs": []
    },
    {
      "cell_type": "code",
      "metadata": {
        "colab": {
          "base_uri": "https://localhost:8080/",
          "height": 265
        },
        "id": "aKvBQ4nBp7L8",
        "outputId": "c0478cf6-b33e-49dd-8f12-f2bb29a7d3a5"
      },
      "source": [
        "sns.histplot(dados_normal,kde=True);"
      ],
      "execution_count": 14,
      "outputs": [
        {
          "output_type": "display_data",
          "data": {
            "image/png": "[encoded data removed]",
            "text/plain": [
              "<Figure size 432x288 with 1 Axes>"
            ]
          },
          "metadata": {
            "needs_background": "light"
          }
        }
      ]
    },
    {
      "cell_type": "code",
      "metadata": {
        "colab": {
          "base_uri": "https://localhost:8080/"
        },
        "id": "0ieTTXlrqmPt",
        "outputId": "9b4d342b-886a-433a-ba3f-5d6ec6e67af8"
      },
      "source": [
        "import numpy as np\n",
        "\n",
        "np.mean(dados_normal), np.std(dados_normal)"
      ],
      "execution_count": 13,
      "outputs": [
        {
          "output_type": "execute_result",
          "data": {
            "text/plain": [
              "(0.00052719715, 0.049101554)"
            ]
          },
          "metadata": {},
          "execution_count": 13
        }
      ]
    },
    {
      "cell_type": "markdown",
      "metadata": {
        "id": "gQeA6PZXsUU1"
      },
      "source": [
        "Random Uniform"
      ]
    },
    {
      "cell_type": "code",
      "metadata": {
        "id": "DutwXBWkr3-J"
      },
      "source": [
        "uniform = initializers.RandomUniform()\n",
        "uniform_data = uniform(shape=[1000])"
      ],
      "execution_count": 16,
      "outputs": []
    },
    {
      "cell_type": "code",
      "metadata": {
        "colab": {
          "base_uri": "https://localhost:8080/",
          "height": 265
        },
        "id": "VMR7nvDhsMJW",
        "outputId": "2164f514-52ca-4b23-a56b-c6219b559abc"
      },
      "source": [
        "sns.histplot(uniform_data,kde=True);"
      ],
      "execution_count": 17,
      "outputs": [
        {
          "output_type": "display_data",
          "data": {
            "image/png": "[encoded data removed]",
            "text/plain": [
              "<Figure size 432x288 with 1 Axes>"
            ]
          },
          "metadata": {
            "needs_background": "light"
          }
        }
      ]
    },
    {
      "cell_type": "markdown",
      "metadata": {
        "id": "5qxDtDBhsqfr"
      },
      "source": [
        "Glorot normal"
      ]
    },
    {
      "cell_type": "code",
      "metadata": {
        "colab": {
          "base_uri": "https://localhost:8080/"
        },
        "id": "whG_lMiVsnDA",
        "outputId": "e9d4215f-f47f-4e14-c450-2a5afb498df6"
      },
      "source": [
        "import math\n",
        "math.sqrt(2/ (10 + 100))"
      ],
      "execution_count": 18,
      "outputs": [
        {
          "output_type": "execute_result",
          "data": {
            "text/plain": [
              "0.13483997249264842"
            ]
          },
          "metadata": {},
          "execution_count": 18
        }
      ]
    },
    {
      "cell_type": "code",
      "metadata": {
        "colab": {
          "base_uri": "https://localhost:8080/"
        },
        "id": "o1pP6SsJs8Ov",
        "outputId": "294913c7-2e68-4b6c-e35a-e75e6756ca9c"
      },
      "source": [
        "math.sqrt(2/ (100 + 100))"
      ],
      "execution_count": 19,
      "outputs": [
        {
          "output_type": "execute_result",
          "data": {
            "text/plain": [
              "0.1"
            ]
          },
          "metadata": {},
          "execution_count": 19
        }
      ]
    },
    {
      "cell_type": "code",
      "metadata": {
        "colab": {
          "base_uri": "https://localhost:8080/"
        },
        "id": "7lrC37PDtCId",
        "outputId": "7a6746f3-8356-409e-9825-20c0c439f7c0"
      },
      "source": [
        "math.sqrt(2/ (100 + 1))"
      ],
      "execution_count": 20,
      "outputs": [
        {
          "output_type": "execute_result",
          "data": {
            "text/plain": [
              "0.14071950894605836"
            ]
          },
          "metadata": {},
          "execution_count": 20
        }
      ]
    },
    {
      "cell_type": "code",
      "metadata": {
        "id": "NhF6-_JUtEqE"
      },
      "source": [
        "glorot_normal = initializers.GlorotNormal()\n",
        "\n",
        "glorot_normal_data = glorot_normal(shape=[1000])"
      ],
      "execution_count": 22,
      "outputs": []
    },
    {
      "cell_type": "code",
      "metadata": {
        "colab": {
          "base_uri": "https://localhost:8080/",
          "height": 386
        },
        "id": "ZYtjWNVztTxz",
        "outputId": "be07b3e7-3cf0-40ad-904b-4b45127126e9"
      },
      "source": [
        "sns.displot(glorot_normal_data)"
      ],
      "execution_count": 23,
      "outputs": [
        {
          "output_type": "execute_result",
          "data": {
            "text/plain": [
              "<seaborn.axisgrid.FacetGrid at 0x7f1cfbafb510>"
            ]
          },
          "metadata": {},
          "execution_count": 23
        },
        {
          "output_type": "display_data",
          "data": {
            "image/png": "[encoded data removed]",
            "text/plain": [
              "<Figure size 360x360 with 1 Axes>"
            ]
          },
          "metadata": {
            "needs_background": "light"
          }
        }
      ]
    },
    {
      "cell_type": "markdown",
      "metadata": {
        "id": "E4fli4t3to-C"
      },
      "source": [
        "Glorot uniform"
      ]
    },
    {
      "cell_type": "code",
      "metadata": {
        "id": "Z_z64xiWtcaw"
      },
      "source": [
        "glorot_uniform = initializers.GlorotUniform()\n",
        "\n",
        "glorot_uniform_data = glorot_uniform(shape=[1000])"
      ],
      "execution_count": 24,
      "outputs": []
    },
    {
      "cell_type": "code",
      "metadata": {
        "colab": {
          "base_uri": "https://localhost:8080/",
          "height": 368
        },
        "id": "-4H1NkpjtqPW",
        "outputId": "a1091ea4-7fe0-4fb7-cadd-e964625c3048"
      },
      "source": [
        "sns.displot(glorot_uniform_data, kde=True);"
      ],
      "execution_count": 26,
      "outputs": [
        {
          "output_type": "display_data",
          "data": {
            "image/png": "[encoded data removed]",
            "text/plain": [
              "<Figure size 360x360 with 1 Axes>"
            ]
          },
          "metadata": {
            "needs_background": "light"
          }
        }
      ]
    }
  ]
}