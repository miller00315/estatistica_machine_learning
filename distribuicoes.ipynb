{
  "nbformat": 4,
  "nbformat_minor": 0,
  "metadata": {
    "colab": {
      "name": "distribuicoes.ipynb",
      "provenance": [],
      "authorship_tag": "ABX9TyOolHOKkDn0fNH8hLKSKKmX",
      "include_colab_link": true
    },
    "kernelspec": {
      "name": "python3",
      "display_name": "Python 3"
    },
    "language_info": {
      "name": "python"
    }
  },
  "cells": [
    {
      "cell_type": "markdown",
      "metadata": {
        "id": "view-in-github",
        "colab_type": "text"
      },
      "source": [
        "<a href=\"https://colab.research.google.com/github/miller00315/estatistica_machine_learning/blob/master/distribuicoes.ipynb\" target=\"_parent\"><img src=\"https://colab.research.google.com/assets/colab-badge.svg\" alt=\"Open In Colab\"/></a>"
      ]
    },
    {
      "cell_type": "code",
      "metadata": {
        "id": "G2iiOhSyveHE"
      },
      "source": [
        "import numpy as np\n",
        "import seaborn as sns\n",
        "import pandas as pd\n",
        "from scipy import stats"
      ],
      "execution_count": null,
      "outputs": []
    },
    {
      "cell_type": "markdown",
      "metadata": {
        "id": "5OSMaICZvzl1"
      },
      "source": [
        "**Variáveis contínuas**\n"
      ]
    },
    {
      "cell_type": "markdown",
      "metadata": {
        "id": "oZooi54Iw538"
      },
      "source": [
        "Ditribuição normal - Gaussian distribuition- bell distribution"
      ]
    },
    {
      "cell_type": "code",
      "metadata": {
        "id": "xowWI_8Xv5z5"
      },
      "source": [
        "norm_data = stats.norm.rvs(size = 1000, random_state= 1)\n"
      ],
      "execution_count": null,
      "outputs": []
    },
    {
      "cell_type": "code",
      "metadata": {
        "colab": {
          "base_uri": "https://localhost:8080/"
        },
        "id": "_mdFxbgNxP__",
        "outputId": "5e64330f-4556-4e12-baec-489c0d18efa3"
      },
      "source": [
        "min(norm_data), max(norm_data)"
      ],
      "execution_count": null,
      "outputs": [
        {
          "output_type": "execute_result",
          "data": {
            "text/plain": [
              "(-3.053764380426305, 3.9586027040379634)"
            ]
          },
          "metadata": {},
          "execution_count": 11
        }
      ]
    },
    {
      "cell_type": "code",
      "metadata": {
        "colab": {
          "base_uri": "https://localhost:8080/",
          "height": 320
        },
        "id": "SbwLwsm8xVcJ",
        "outputId": "7aac7e3f-5ada-4aef-d278-ab2b0210e778"
      },
      "source": [
        "sns.distplot(norm_data, hist= True, kde= True);"
      ],
      "execution_count": null,
      "outputs": [
        {
          "output_type": "stream",
          "name": "stderr",
          "text": [
            "/usr/local/lib/python3.7/dist-packages/seaborn/distributions.py:2619: FutureWarning: `distplot` is a deprecated function and will be removed in a future version. Please adapt your code to use either `displot` (a figure-level function with similar flexibility) or `histplot` (an axes-level function for histograms).\n",
            "  warnings.warn(msg, FutureWarning)\n"
          ]
        },
        {
          "output_type": "display_data",
          "data": {
            "image/png": "[encoded data removed]",
            "text/plain": [
              "<Figure size 432x288 with 1 Axes>"
            ]
          },
          "metadata": {
            "needs_background": "light"
          }
        }
      ]
    },
    {
      "cell_type": "code",
      "metadata": {
        "colab": {
          "base_uri": "https://localhost:8080/"
        },
        "id": "VnhvRDxIxyvO",
        "outputId": "da2ee872-c0a7-48eb-9b9f-1436192d862b"
      },
      "source": [
        "norm_data.mean(), np.median(norm_data), stats.mode(norm_data), np.var(norm_data), np.std(norm_data)"
      ],
      "execution_count": null,
      "outputs": [
        {
          "output_type": "execute_result",
          "data": {
            "text/plain": [
              "(0.03881247615960185,\n",
              " 0.04129258886921605,\n",
              " ModeResult(mode=array([-3.05376438]), count=array([1])),\n",
              " 0.9623691107920885,\n",
              " 0.9810041339322116)"
            ]
          },
          "metadata": {},
          "execution_count": 13
        }
      ]
    },
    {
      "cell_type": "code",
      "metadata": {
        "colab": {
          "base_uri": "https://localhost:8080/"
        },
        "id": "-uoqyHeHyfXu",
        "outputId": "5492f9ad-c4b5-4bfd-8770-59d28dfa2079"
      },
      "source": [
        "np.sum(((norm_data >= 0.9810041339322116) & (norm_data <= 0.9810041339322116 + 1))) # quantida de elelemtos a direita da média"
      ],
      "execution_count": null,
      "outputs": [
        {
          "output_type": "execute_result",
          "data": {
            "text/plain": [
              "148"
            ]
          },
          "metadata": {},
          "execution_count": 14
        }
      ]
    },
    {
      "cell_type": "code",
      "metadata": {
        "colab": {
          "base_uri": "https://localhost:8080/"
        },
        "id": "S-F42FB4y4oV",
        "outputId": "3453976b-55fb-4a28-f51d-8b9571deea48"
      },
      "source": [
        "np.sum(((norm_data <= 0.9810041339322116) & (norm_data >= 0.9810041339322116 - 1))) # quantida de elelemtos a esquerda da média"
      ],
      "execution_count": null,
      "outputs": [
        {
          "output_type": "execute_result",
          "data": {
            "text/plain": [
              "353"
            ]
          },
          "metadata": {},
          "execution_count": 16
        }
      ]
    },
    {
      "cell_type": "code",
      "metadata": {
        "colab": {
          "base_uri": "https://localhost:8080/"
        },
        "id": "Zck6S3NOzZku",
        "outputId": "3150b93d-39ba-45ec-922d-fe975640766a"
      },
      "source": [
        "(148 + 353) / 1000 # o meio da distribuição contém cerca de 50% da base de dados"
      ],
      "execution_count": null,
      "outputs": [
        {
          "output_type": "execute_result",
          "data": {
            "text/plain": [
              "0.501"
            ]
          },
          "metadata": {},
          "execution_count": 17
        }
      ]
    },
    {
      "cell_type": "markdown",
      "metadata": {
        "id": "9dYo-Xwf0BaW"
      },
      "source": [
        "**Ditribuição normal com dados de altura**"
      ]
    },
    {
      "cell_type": "code",
      "metadata": {
        "id": "P1pFXqoqz5vo"
      },
      "source": [
        "data = np.array([126. , 129.5, 133. , 133. , 136.5, 136.5, 140. , 140. , 140. ,\n",
        "                  140. , 143.5, 143.5, 143.5, 143.5, 143.5, 143.5, 147. , 147. ,\n",
        "                  147. , 147. , 147. , 147. , 147. , 150.5, 150.5, 150.5, 150.5,\n",
        "                  150.5, 150.5, 150.5, 150.5, 154. , 154. , 154. , 154. , 154. ,\n",
        "                  154. , 154. , 154. , 154. , 157.5, 157.5, 157.5, 157.5, 157.5,\n",
        "                  157.5, 157.5, 157.5, 157.5, 157.5, 161. , 161. , 161. , 161. ,\n",
        "                  161. , 161. , 161. , 161. , 161. , 161. , 164.5, 164.5, 164.5,\n",
        "                  164.5, 164.5, 164.5, 164.5, 164.5, 164.5, 168. , 168. , 168. ,\n",
        "                  168. , 168. , 168. , 168. , 168. , 171.5, 171.5, 171.5, 171.5,\n",
        "                  171.5, 171.5, 171.5, 175. , 175. , 175. , 175. , 175. , 175. ,\n",
        "                  178.5, 178.5, 178.5, 178.5, 182. , 182. , 185.5, 185.5, 189., 192.5])"
      ],
      "execution_count": null,
      "outputs": []
    },
    {
      "cell_type": "code",
      "metadata": {
        "colab": {
          "base_uri": "https://localhost:8080/"
        },
        "id": "j36n-uAm0LIZ",
        "outputId": "b06ad656-3d2d-4644-e151-e7017db9291f"
      },
      "source": [
        "min(data), max(data)"
      ],
      "execution_count": null,
      "outputs": [
        {
          "output_type": "execute_result",
          "data": {
            "text/plain": [
              "(126.0, 192.5)"
            ]
          },
          "metadata": {},
          "execution_count": 19
        }
      ]
    },
    {
      "cell_type": "code",
      "metadata": {
        "colab": {
          "base_uri": "https://localhost:8080/"
        },
        "id": "EQ2ZkWTM0XYO",
        "outputId": "17403145-7b6a-42ed-fdfc-a3f196985201"
      },
      "source": [
        "len(data)"
      ],
      "execution_count": null,
      "outputs": [
        {
          "output_type": "execute_result",
          "data": {
            "text/plain": [
              "100"
            ]
          },
          "metadata": {},
          "execution_count": 22
        }
      ]
    },
    {
      "cell_type": "code",
      "metadata": {
        "colab": {
          "base_uri": "https://localhost:8080/",
          "height": 324
        },
        "id": "nMAy5_pI0PZL",
        "outputId": "7a158dfe-9ce6-45dd-f82e-e3d5a1cb4db5"
      },
      "source": [
        "sns.distplot(data, bins=10);"
      ],
      "execution_count": null,
      "outputs": [
        {
          "output_type": "stream",
          "name": "stderr",
          "text": [
            "/usr/local/lib/python3.7/dist-packages/seaborn/distributions.py:2619: FutureWarning: `distplot` is a deprecated function and will be removed in a future version. Please adapt your code to use either `displot` (a figure-level function with similar flexibility) or `histplot` (an axes-level function for histograms).\n",
            "  warnings.warn(msg, FutureWarning)\n"
          ]
        },
        {
          "output_type": "display_data",
          "data": {
            "image/png": "[encoded data removed]",
            "text/plain": [
              "<Figure size 432x288 with 1 Axes>"
            ]
          },
          "metadata": {
            "needs_background": "light"
          }
        }
      ]
    },
    {
      "cell_type": "code",
      "metadata": {
        "colab": {
          "base_uri": "https://localhost:8080/"
        },
        "id": "IlEDE-Wu0pvK",
        "outputId": "e2beec02-2988-4fdb-f28c-0fb4f06f043c"
      },
      "source": [
        "data.mean(), np.median(data), stats.mode(data), np.var(data), np.std(data), stats.variation(data) * 100"
      ],
      "execution_count": null,
      "outputs": [
        {
          "output_type": "execute_result",
          "data": {
            "text/plain": [
              "(159.25,\n",
              " 159.25,\n",
              " ModeResult(mode=array([157.5]), count=array([10])),\n",
              " 186.3225,\n",
              " 13.65,\n",
              " 8.571428571428571)"
            ]
          },
          "metadata": {},
          "execution_count": 25
        }
      ]
    },
    {
      "cell_type": "markdown",
      "metadata": {
        "id": "GSkIFJAf2wOO"
      },
      "source": [
        "**Enviesamento**"
      ]
    },
    {
      "cell_type": "code",
      "metadata": {
        "id": "4jullLuY1Tkt"
      },
      "source": [
        "from scipy.stats import skewnorm"
      ],
      "execution_count": null,
      "outputs": []
    },
    {
      "cell_type": "code",
      "metadata": {
        "id": "qh8aWyYi23EX"
      },
      "source": [
        "norm_data = skewnorm.rvs(a = 0, size = 1000)"
      ],
      "execution_count": null,
      "outputs": []
    },
    {
      "cell_type": "code",
      "metadata": {
        "colab": {
          "base_uri": "https://localhost:8080/",
          "height": 320
        },
        "id": "qf1YE4cU29Sa",
        "outputId": "5f082581-7e0a-4871-b1f0-736c3b07525a"
      },
      "source": [
        "sns.distplot(norm_data);"
      ],
      "execution_count": null,
      "outputs": [
        {
          "output_type": "stream",
          "name": "stderr",
          "text": [
            "/usr/local/lib/python3.7/dist-packages/seaborn/distributions.py:2619: FutureWarning: `distplot` is a deprecated function and will be removed in a future version. Please adapt your code to use either `displot` (a figure-level function with similar flexibility) or `histplot` (an axes-level function for histograms).\n",
            "  warnings.warn(msg, FutureWarning)\n"
          ]
        },
        {
          "output_type": "display_data",
          "data": {
            "image/png": "[encoded data removed]",
            "text/plain": [
              "<Figure size 432x288 with 1 Axes>"
            ]
          },
          "metadata": {
            "needs_background": "light"
          }
        }
      ]
    },
    {
      "cell_type": "code",
      "metadata": {
        "colab": {
          "base_uri": "https://localhost:8080/"
        },
        "id": "40EzXEia3Ntm",
        "outputId": "4366f11a-508a-4329-84b8-aefc14d5f1f8"
      },
      "source": [
        "norm_data.mean(), np.median(norm_data), stats.mode(norm_data)"
      ],
      "execution_count": null,
      "outputs": [
        {
          "output_type": "execute_result",
          "data": {
            "text/plain": [
              "(0.03881247615960185,\n",
              " 0.04129258886921605,\n",
              " ModeResult(mode=array([-3.05376438]), count=array([1])))"
            ]
          },
          "metadata": {},
          "execution_count": 29
        }
      ]
    },
    {
      "cell_type": "code",
      "metadata": {
        "id": "VEmgoZ5P3GhJ"
      },
      "source": [
        "skew_positive_data = skewnorm.rvs(a = 10, size = 1000)"
      ],
      "execution_count": null,
      "outputs": []
    },
    {
      "cell_type": "code",
      "metadata": {
        "colab": {
          "base_uri": "https://localhost:8080/",
          "height": 337
        },
        "id": "f46LwSbo3hQh",
        "outputId": "177e829e-8c55-439e-faca-3c4afb4a8e3a"
      },
      "source": [
        "sns.distplot(skew_positive_data)"
      ],
      "execution_count": null,
      "outputs": [
        {
          "output_type": "stream",
          "name": "stderr",
          "text": [
            "/usr/local/lib/python3.7/dist-packages/seaborn/distributions.py:2619: FutureWarning: `distplot` is a deprecated function and will be removed in a future version. Please adapt your code to use either `displot` (a figure-level function with similar flexibility) or `histplot` (an axes-level function for histograms).\n",
            "  warnings.warn(msg, FutureWarning)\n"
          ]
        },
        {
          "output_type": "execute_result",
          "data": {
            "text/plain": [
              "<matplotlib.axes._subplots.AxesSubplot at 0x7fd3911040d0>"
            ]
          },
          "metadata": {},
          "execution_count": 32
        },
        {
          "output_type": "display_data",
          "data": {
            "image/png": "[encoded data removed]",
            "text/plain": [
              "<Figure size 432x288 with 1 Axes>"
            ]
          },
          "metadata": {
            "needs_background": "light"
          }
        }
      ]
    },
    {
      "cell_type": "code",
      "metadata": {
        "colab": {
          "base_uri": "https://localhost:8080/"
        },
        "id": "q6l1HE_839A8",
        "outputId": "66199a03-054b-462e-8668-f95af062aa98"
      },
      "source": [
        "skew_positive_data.mean(), np.median(skew_positive_data), stats.mode(skew_positive_data)"
      ],
      "execution_count": null,
      "outputs": [
        {
          "output_type": "execute_result",
          "data": {
            "text/plain": [
              "(0.798806071644665,\n",
              " 0.6621833197251725,\n",
              " ModeResult(mode=array([-0.18223514]), count=array([1])))"
            ]
          },
          "metadata": {},
          "execution_count": 33
        }
      ]
    },
    {
      "cell_type": "code",
      "metadata": {
        "id": "1qyOuBZd4L3t"
      },
      "source": [
        "skew_negative_data = skewnorm.rvs(a = -10, size = 1000)"
      ],
      "execution_count": null,
      "outputs": []
    },
    {
      "cell_type": "code",
      "metadata": {
        "colab": {
          "base_uri": "https://localhost:8080/",
          "height": 320
        },
        "id": "zQ66t-eJ4RLg",
        "outputId": "6406af80-cd8d-49eb-be24-350d36264239"
      },
      "source": [
        "sns.distplot(skew_negative_data);"
      ],
      "execution_count": null,
      "outputs": [
        {
          "output_type": "stream",
          "name": "stderr",
          "text": [
            "/usr/local/lib/python3.7/dist-packages/seaborn/distributions.py:2619: FutureWarning: `distplot` is a deprecated function and will be removed in a future version. Please adapt your code to use either `displot` (a figure-level function with similar flexibility) or `histplot` (an axes-level function for histograms).\n",
            "  warnings.warn(msg, FutureWarning)\n"
          ]
        },
        {
          "output_type": "display_data",
          "data": {
            "image/png": "[encoded data removed]",
            "text/plain": [
              "<Figure size 432x288 with 1 Axes>"
            ]
          },
          "metadata": {
            "needs_background": "light"
          }
        }
      ]
    },
    {
      "cell_type": "code",
      "metadata": {
        "colab": {
          "base_uri": "https://localhost:8080/"
        },
        "id": "c6rjRbRH4WV6",
        "outputId": "78c911a1-4461-40f3-da82-7cfa768b4dde"
      },
      "source": [
        "skew_negative_data.mean(), np.median(skew_negative_data), stats.mode(skew_negative_data)"
      ],
      "execution_count": null,
      "outputs": [
        {
          "output_type": "execute_result",
          "data": {
            "text/plain": [
              "(-0.7793630801217003,\n",
              " -0.6451516391354024,\n",
              " ModeResult(mode=array([-3.43688631]), count=array([1])))"
            ]
          },
          "metadata": {},
          "execution_count": 37
        }
      ]
    },
    {
      "cell_type": "markdown",
      "metadata": {
        "id": "4HeOxd-W44I3"
      },
      "source": [
        "**Distribuição normal padronizada**"
      ]
    },
    {
      "cell_type": "code",
      "metadata": {
        "id": "b0UentiH48Ka"
      },
      "source": [
        "data_normal_standard = np.random.standard_normal(size = 1000)"
      ],
      "execution_count": null,
      "outputs": []
    },
    {
      "cell_type": "code",
      "metadata": {
        "colab": {
          "base_uri": "https://localhost:8080/"
        },
        "id": "37x1X5rO58Dd",
        "outputId": "372ead49-9f25-462f-f2c2-0ab73159fe3b"
      },
      "source": [
        "min(data_normal_standard), max(data_normal_standard)"
      ],
      "execution_count": null,
      "outputs": [
        {
          "output_type": "execute_result",
          "data": {
            "text/plain": [
              "(-3.2505765901063635, 2.9940124779020656)"
            ]
          },
          "metadata": {},
          "execution_count": 39
        }
      ]
    },
    {
      "cell_type": "code",
      "metadata": {
        "colab": {
          "base_uri": "https://localhost:8080/",
          "height": 320
        },
        "id": "HAN-Pz9z6D1m",
        "outputId": "9747ec73-c536-428e-a7ca-347440f7bbfd"
      },
      "source": [
        "sns.distplot(data_normal_standard);"
      ],
      "execution_count": null,
      "outputs": [
        {
          "output_type": "stream",
          "name": "stderr",
          "text": [
            "/usr/local/lib/python3.7/dist-packages/seaborn/distributions.py:2619: FutureWarning: `distplot` is a deprecated function and will be removed in a future version. Please adapt your code to use either `displot` (a figure-level function with similar flexibility) or `histplot` (an axes-level function for histograms).\n",
            "  warnings.warn(msg, FutureWarning)\n"
          ]
        },
        {
          "output_type": "display_data",
          "data": {
            "image/png": "[encoded data removed]",
            "text/plain": [
              "<Figure size 432x288 with 1 Axes>"
            ]
          },
          "metadata": {
            "needs_background": "light"
          }
        }
      ]
    },
    {
      "cell_type": "code",
      "metadata": {
        "colab": {
          "base_uri": "https://localhost:8080/"
        },
        "id": "C8dyU9496Lqu",
        "outputId": "ddc43d63-ae1d-48bd-9a7b-3e60ac9dc58c"
      },
      "source": [
        "data_normal_standard.mean(), np.std(data_normal_standard)"
      ],
      "execution_count": null,
      "outputs": [
        {
          "output_type": "execute_result",
          "data": {
            "text/plain": [
              "(-0.013747870950482256, 1.0019088204246192)"
            ]
          },
          "metadata": {},
          "execution_count": 43
        }
      ]
    },
    {
      "cell_type": "code",
      "metadata": {
        "colab": {
          "base_uri": "https://localhost:8080/"
        },
        "id": "zIf9uaud6bG9",
        "outputId": "8e80fd1c-b19e-4736-bf52-4883fcc1504b"
      },
      "source": [
        "data"
      ],
      "execution_count": null,
      "outputs": [
        {
          "output_type": "execute_result",
          "data": {
            "text/plain": [
              "array([126. , 129.5, 133. , 133. , 136.5, 136.5, 140. , 140. , 140. ,\n",
              "       140. , 143.5, 143.5, 143.5, 143.5, 143.5, 143.5, 147. , 147. ,\n",
              "       147. , 147. , 147. , 147. , 147. , 150.5, 150.5, 150.5, 150.5,\n",
              "       150.5, 150.5, 150.5, 150.5, 154. , 154. , 154. , 154. , 154. ,\n",
              "       154. , 154. , 154. , 154. , 157.5, 157.5, 157.5, 157.5, 157.5,\n",
              "       157.5, 157.5, 157.5, 157.5, 157.5, 161. , 161. , 161. , 161. ,\n",
              "       161. , 161. , 161. , 161. , 161. , 161. , 164.5, 164.5, 164.5,\n",
              "       164.5, 164.5, 164.5, 164.5, 164.5, 164.5, 168. , 168. , 168. ,\n",
              "       168. , 168. , 168. , 168. , 168. , 171.5, 171.5, 171.5, 171.5,\n",
              "       171.5, 171.5, 171.5, 175. , 175. , 175. , 175. , 175. , 175. ,\n",
              "       178.5, 178.5, 178.5, 178.5, 182. , 182. , 185.5, 185.5, 189. ,\n",
              "       192.5])"
            ]
          },
          "metadata": {},
          "execution_count": 44
        }
      ]
    },
    {
      "cell_type": "code",
      "metadata": {
        "id": "7YpjS7fs6ewj"
      },
      "source": [
        "mean = data.mean()"
      ],
      "execution_count": null,
      "outputs": []
    },
    {
      "cell_type": "code",
      "metadata": {
        "id": "hx1vkMNB6kz8"
      },
      "source": [
        "standard_desviation = np.std(data)"
      ],
      "execution_count": null,
      "outputs": []
    },
    {
      "cell_type": "code",
      "metadata": {
        "colab": {
          "base_uri": "https://localhost:8080/"
        },
        "id": "gMEHJ_zr6rC2",
        "outputId": "d5aab643-cf34-43a5-e280-cb929fcc95db"
      },
      "source": [
        "mean, standard_desviation"
      ],
      "execution_count": null,
      "outputs": [
        {
          "output_type": "execute_result",
          "data": {
            "text/plain": [
              "(159.25, 13.65)"
            ]
          },
          "metadata": {},
          "execution_count": 51
        }
      ]
    },
    {
      "cell_type": "code",
      "metadata": {
        "colab": {
          "base_uri": "https://localhost:8080/"
        },
        "id": "KSP5NL8h6uOR",
        "outputId": "619507e4-c46a-4f52-d85a-9449efcc734c"
      },
      "source": [
        "data_standard = (data - mean) / standard_desviation # utilizamos a z score\n",
        "data_standard"
      ],
      "execution_count": null,
      "outputs": [
        {
          "output_type": "execute_result",
          "data": {
            "text/plain": [
              "array([-2.43589744, -2.17948718, -1.92307692, -1.92307692, -1.66666667,\n",
              "       -1.66666667, -1.41025641, -1.41025641, -1.41025641, -1.41025641,\n",
              "       -1.15384615, -1.15384615, -1.15384615, -1.15384615, -1.15384615,\n",
              "       -1.15384615, -0.8974359 , -0.8974359 , -0.8974359 , -0.8974359 ,\n",
              "       -0.8974359 , -0.8974359 , -0.8974359 , -0.64102564, -0.64102564,\n",
              "       -0.64102564, -0.64102564, -0.64102564, -0.64102564, -0.64102564,\n",
              "       -0.64102564, -0.38461538, -0.38461538, -0.38461538, -0.38461538,\n",
              "       -0.38461538, -0.38461538, -0.38461538, -0.38461538, -0.38461538,\n",
              "       -0.12820513, -0.12820513, -0.12820513, -0.12820513, -0.12820513,\n",
              "       -0.12820513, -0.12820513, -0.12820513, -0.12820513, -0.12820513,\n",
              "        0.12820513,  0.12820513,  0.12820513,  0.12820513,  0.12820513,\n",
              "        0.12820513,  0.12820513,  0.12820513,  0.12820513,  0.12820513,\n",
              "        0.38461538,  0.38461538,  0.38461538,  0.38461538,  0.38461538,\n",
              "        0.38461538,  0.38461538,  0.38461538,  0.38461538,  0.64102564,\n",
              "        0.64102564,  0.64102564,  0.64102564,  0.64102564,  0.64102564,\n",
              "        0.64102564,  0.64102564,  0.8974359 ,  0.8974359 ,  0.8974359 ,\n",
              "        0.8974359 ,  0.8974359 ,  0.8974359 ,  0.8974359 ,  1.15384615,\n",
              "        1.15384615,  1.15384615,  1.15384615,  1.15384615,  1.15384615,\n",
              "        1.41025641,  1.41025641,  1.41025641,  1.41025641,  1.66666667,\n",
              "        1.66666667,  1.92307692,  1.92307692,  2.17948718,  2.43589744])"
            ]
          },
          "metadata": {},
          "execution_count": 52
        }
      ]
    },
    {
      "cell_type": "code",
      "metadata": {
        "colab": {
          "base_uri": "https://localhost:8080/"
        },
        "id": "bTzvS1o57EzK",
        "outputId": "025202a4-2ff7-4e81-f586-b964bc08950e"
      },
      "source": [
        "data_standard.mean(), np.std(data_standard)"
      ],
      "execution_count": null,
      "outputs": [
        {
          "output_type": "execute_result",
          "data": {
            "text/plain": [
              "(0.0, 0.9999999999999999)"
            ]
          },
          "metadata": {},
          "execution_count": 53
        }
      ]
    },
    {
      "cell_type": "code",
      "metadata": {
        "colab": {
          "base_uri": "https://localhost:8080/",
          "height": 320
        },
        "id": "1WbOQA267Shs",
        "outputId": "450b6766-0221-42c9-feac-2b57ff22a530"
      },
      "source": [
        "sns.distplot(data_standard);"
      ],
      "execution_count": null,
      "outputs": [
        {
          "output_type": "stream",
          "name": "stderr",
          "text": [
            "/usr/local/lib/python3.7/dist-packages/seaborn/distributions.py:2619: FutureWarning: `distplot` is a deprecated function and will be removed in a future version. Please adapt your code to use either `displot` (a figure-level function with similar flexibility) or `histplot` (an axes-level function for histograms).\n",
            "  warnings.warn(msg, FutureWarning)\n"
          ]
        },
        {
          "output_type": "display_data",
          "data": {
            "image/png": "[encoded data removed]",
            "text/plain": [
              "<Figure size 432x288 with 1 Axes>"
            ]
          },
          "metadata": {
            "needs_background": "light"
          }
        }
      ]
    },
    {
      "cell_type": "markdown",
      "metadata": {
        "id": "B6TzJ7zR7pFI"
      },
      "source": [
        "**Teorema central do limite**"
      ]
    },
    {
      "cell_type": "code",
      "metadata": {
        "colab": {
          "base_uri": "https://localhost:8080/"
        },
        "id": "neJb_Y1g7j9x",
        "outputId": "6dce3ae2-d716-46fe-a624-502ce49e3502"
      },
      "source": [
        "heights = np.random.randint(126, 192, 500)\n",
        "\n",
        "heights.mean()"
      ],
      "execution_count": null,
      "outputs": [
        {
          "output_type": "execute_result",
          "data": {
            "text/plain": [
              "158.194"
            ]
          },
          "metadata": {},
          "execution_count": 57
        }
      ]
    },
    {
      "cell_type": "code",
      "metadata": {
        "colab": {
          "base_uri": "https://localhost:8080/",
          "height": 337
        },
        "id": "NHvKeZlU8Aei",
        "outputId": "7e2c0d9f-11fa-47e6-a81d-3ef4f85acc2f"
      },
      "source": [
        "sns.distplot(heights)"
      ],
      "execution_count": null,
      "outputs": [
        {
          "output_type": "stream",
          "name": "stderr",
          "text": [
            "/usr/local/lib/python3.7/dist-packages/seaborn/distributions.py:2619: FutureWarning: `distplot` is a deprecated function and will be removed in a future version. Please adapt your code to use either `displot` (a figure-level function with similar flexibility) or `histplot` (an axes-level function for histograms).\n",
            "  warnings.warn(msg, FutureWarning)\n"
          ]
        },
        {
          "output_type": "execute_result",
          "data": {
            "text/plain": [
              "<matplotlib.axes._subplots.AxesSubplot at 0x7fd390f28590>"
            ]
          },
          "metadata": {},
          "execution_count": 59
        },
        {
          "output_type": "display_data",
          "data": {
            "image/png": "[encoded data removed]",
            "text/plain": [
              "<Figure size 432x288 with 1 Axes>"
            ]
          },
          "metadata": {
            "needs_background": "light"
          }
        }
      ]
    },
    {
      "cell_type": "code",
      "metadata": {
        "id": "7PlRe5YQ8Odr"
      },
      "source": [
        "medians = [np.mean(np.random.randint(126, 193, 500)) for _ in range(2000)] # quando o tamanho da amostra aumenta a distribuição amostral da média se aproxima de uma normal"
      ],
      "execution_count": null,
      "outputs": []
    },
    {
      "cell_type": "code",
      "metadata": {
        "colab": {
          "base_uri": "https://localhost:8080/"
        },
        "id": "51Wju60j8mr-",
        "outputId": "f0a4e596-d85c-47e2-cb9e-aced80d842ef"
      },
      "source": [
        "type(medians), len(medians)"
      ],
      "execution_count": null,
      "outputs": [
        {
          "output_type": "execute_result",
          "data": {
            "text/plain": [
              "(list, 2000)"
            ]
          },
          "metadata": {},
          "execution_count": 71
        }
      ]
    },
    {
      "cell_type": "code",
      "metadata": {
        "colab": {
          "base_uri": "https://localhost:8080/",
          "height": 323
        },
        "id": "UhEn-0l_8fIT",
        "outputId": "22336ae6-9203-4b56-9593-cc09d4f40266"
      },
      "source": [
        "sns.distplot(medians);"
      ],
      "execution_count": null,
      "outputs": [
        {
          "output_type": "stream",
          "name": "stderr",
          "text": [
            "/usr/local/lib/python3.7/dist-packages/seaborn/distributions.py:2619: FutureWarning: `distplot` is a deprecated function and will be removed in a future version. Please adapt your code to use either `displot` (a figure-level function with similar flexibility) or `histplot` (an axes-level function for histograms).\n",
            "  warnings.warn(msg, FutureWarning)\n"
          ]
        },
        {
          "output_type": "display_data",
          "data": {
            "image/png": "[encoded data removed]",
            "text/plain": [
              "<Figure size 432x288 with 1 Axes>"
            ]
          },
          "metadata": {
            "needs_background": "light"
          }
        }
      ]
    },
    {
      "cell_type": "markdown",
      "metadata": {
        "id": "XFpFmzDg9VDY"
      },
      "source": [
        "**Distribuição gama**"
      ]
    },
    {
      "cell_type": "code",
      "metadata": {
        "id": "SzrMaKPj9Xi7"
      },
      "source": [
        "from scipy.stats import gamma"
      ],
      "execution_count": null,
      "outputs": []
    },
    {
      "cell_type": "code",
      "metadata": {
        "id": "FRF3nQFVEMZ7"
      },
      "source": [
        "gama_data = gamma.rvs(a = 2, size = 1000);"
      ],
      "execution_count": null,
      "outputs": []
    },
    {
      "cell_type": "code",
      "metadata": {
        "colab": {
          "base_uri": "https://localhost:8080/",
          "height": 337
        },
        "id": "a2RwHx_FETqw",
        "outputId": "9d123268-9a96-4da8-9f47-386f4f85235a"
      },
      "source": [
        "sns.distplot(gama_data)"
      ],
      "execution_count": null,
      "outputs": [
        {
          "output_type": "stream",
          "name": "stderr",
          "text": [
            "/usr/local/lib/python3.7/dist-packages/seaborn/distributions.py:2619: FutureWarning: `distplot` is a deprecated function and will be removed in a future version. Please adapt your code to use either `displot` (a figure-level function with similar flexibility) or `histplot` (an axes-level function for histograms).\n",
            "  warnings.warn(msg, FutureWarning)\n"
          ]
        },
        {
          "output_type": "execute_result",
          "data": {
            "text/plain": [
              "<matplotlib.axes._subplots.AxesSubplot at 0x7fd39089de50>"
            ]
          },
          "metadata": {},
          "execution_count": 88
        },
        {
          "output_type": "display_data",
          "data": {
            "image/png": "[encoded data removed]",
            "text/plain": [
              "<Figure size 432x288 with 1 Axes>"
            ]
          },
          "metadata": {
            "needs_background": "light"
          }
        }
      ]
    },
    {
      "cell_type": "code",
      "metadata": {
        "colab": {
          "base_uri": "https://localhost:8080/"
        },
        "id": "ordgmY2SE4iI",
        "outputId": "9a2a4cca-133b-4867-a6a3-cc1986ea0efc"
      },
      "source": [
        "min(gama_data), max(gama_data)"
      ],
      "execution_count": null,
      "outputs": [
        {
          "output_type": "execute_result",
          "data": {
            "text/plain": [
              "(0.08025745651195756, 12.73349081089905)"
            ]
          },
          "metadata": {},
          "execution_count": 89
        }
      ]
    },
    {
      "cell_type": "markdown",
      "metadata": {
        "id": "Xp30fteoEqc6"
      },
      "source": [
        "**Distribição exponecncial**"
      ]
    },
    {
      "cell_type": "code",
      "metadata": {
        "id": "lnzp2C6vEa3x"
      },
      "source": [
        "from scipy.stats import expon"
      ],
      "execution_count": null,
      "outputs": []
    },
    {
      "cell_type": "code",
      "metadata": {
        "id": "AWp9uiivFeIa"
      },
      "source": [
        "expon_data = expon.rvs(size= 1000)"
      ],
      "execution_count": null,
      "outputs": []
    },
    {
      "cell_type": "code",
      "metadata": {
        "colab": {
          "base_uri": "https://localhost:8080/",
          "height": 320
        },
        "id": "BGp0nO7bFjGl",
        "outputId": "4082f89b-a295-4c7c-f94c-7b11a98c5093"
      },
      "source": [
        "sns.distplot(expon_data);"
      ],
      "execution_count": null,
      "outputs": [
        {
          "output_type": "stream",
          "name": "stderr",
          "text": [
            "/usr/local/lib/python3.7/dist-packages/seaborn/distributions.py:2619: FutureWarning: `distplot` is a deprecated function and will be removed in a future version. Please adapt your code to use either `displot` (a figure-level function with similar flexibility) or `histplot` (an axes-level function for histograms).\n",
            "  warnings.warn(msg, FutureWarning)\n"
          ]
        },
        {
          "output_type": "display_data",
          "data": {
            "image/png": "[encoded data removed]",
            "text/plain": [
              "<Figure size 432x288 with 1 Axes>"
            ]
          },
          "metadata": {
            "needs_background": "light"
          }
        }
      ]
    },
    {
      "cell_type": "code",
      "metadata": {
        "colab": {
          "base_uri": "https://localhost:8080/"
        },
        "id": "l3H2OxKMFsn5",
        "outputId": "e7c735d2-92e2-4ebe-ab46-1c76e97e5eac"
      },
      "source": [
        "min(expon_data), max(expon_data)"
      ],
      "execution_count": null,
      "outputs": [
        {
          "output_type": "execute_result",
          "data": {
            "text/plain": [
              "(0.0007410545753020153, 7.8328147038002145)"
            ]
          },
          "metadata": {},
          "execution_count": 94
        }
      ]
    },
    {
      "cell_type": "markdown",
      "metadata": {
        "id": "Lmq_PzNZF6w9"
      },
      "source": [
        "**Distribuição uniforme**"
      ]
    },
    {
      "cell_type": "code",
      "metadata": {
        "id": "eRDOq3qUF6IW"
      },
      "source": [
        "from scipy.stats import uniform"
      ],
      "execution_count": null,
      "outputs": []
    },
    {
      "cell_type": "code",
      "metadata": {
        "id": "mWL6cMIOGGEK"
      },
      "source": [
        "uniform_data = uniform.rvs(size=1000)"
      ],
      "execution_count": null,
      "outputs": []
    },
    {
      "cell_type": "code",
      "metadata": {
        "id": "8umXBEojGLfK"
      },
      "source": [
        "sns.distplot(uniform_data, bins = 30);"
      ],
      "execution_count": null,
      "outputs": []
    },
    {
      "cell_type": "code",
      "metadata": {
        "colab": {
          "base_uri": "https://localhost:8080/"
        },
        "id": "RxRepRCZGfI1",
        "outputId": "81b7dc50-9bf7-4b78-a8c9-184a69c36855"
      },
      "source": [
        "min(uniform_data), max(uniform_data)"
      ],
      "execution_count": null,
      "outputs": [
        {
          "output_type": "execute_result",
          "data": {
            "text/plain": [
              "(0.0008499469424357864, 0.9998417946636898)"
            ]
          },
          "metadata": {},
          "execution_count": 99
        }
      ]
    },
    {
      "cell_type": "code",
      "metadata": {
        "colab": {
          "base_uri": "https://localhost:8080/"
        },
        "id": "mU13KFZEGkqe",
        "outputId": "25d02963-453c-43b9-e3af-a2093bebd5f2"
      },
      "source": [
        "np.unique(uniform_data, return_counts=True)"
      ],
      "execution_count": null,
      "outputs": [
        {
          "output_type": "execute_result",
          "data": {
            "text/plain": [
              "(array([8.49946942e-04, 1.56039854e-03, 2.65059192e-03, 2.66196846e-03,\n",
              "        3.73785778e-03, 3.83081926e-03, 4.55892837e-03, 8.04700155e-03,\n",
              "        8.59970226e-03, 9.14407663e-03, 1.08960022e-02, 1.11653794e-02,\n",
              "        1.47601341e-02, 1.51522547e-02, 1.55593293e-02, 1.63360733e-02,\n",
              "        1.64440864e-02, 2.05301646e-02, 2.31570210e-02, 2.52060770e-02,\n",
              "        2.70273979e-02, 2.79093500e-02, 2.79407422e-02, 2.82265125e-02,\n",
              "        2.99865168e-02, 3.08016930e-02, 3.17345027e-02, 3.23354794e-02,\n",
              "        3.33830556e-02, 3.35855221e-02, 3.43338122e-02, 3.60666691e-02,\n",
              "        3.62815299e-02, 3.68623164e-02, 3.74699683e-02, 3.81305424e-02,\n",
              "        3.83680334e-02, 3.96302800e-02, 4.03411100e-02, 4.30513711e-02,\n",
              "        4.44207305e-02, 4.86248467e-02, 5.09604685e-02, 5.11609797e-02,\n",
              "        5.43002573e-02, 5.46704740e-02, 5.46814942e-02, 5.56096817e-02,\n",
              "        5.60632305e-02, 5.64749864e-02, 5.84979325e-02, 5.94740626e-02,\n",
              "        6.15784638e-02, 6.17222992e-02, 6.22810697e-02, 6.42505430e-02,\n",
              "        6.49141140e-02, 6.55821731e-02, 6.60614980e-02, 6.68508672e-02,\n",
              "        6.84837011e-02, 6.85376985e-02, 6.96431823e-02, 7.09223727e-02,\n",
              "        7.13642480e-02, 7.14915597e-02, 7.16570303e-02, 7.19777436e-02,\n",
              "        7.28170776e-02, 7.29486486e-02, 7.36485609e-02, 7.53376247e-02,\n",
              "        7.54829225e-02, 7.56610003e-02, 7.59923890e-02, 7.61557917e-02,\n",
              "        7.72695479e-02, 7.74933718e-02, 7.79699256e-02, 7.92201402e-02,\n",
              "        8.00710203e-02, 8.02056247e-02, 8.06895860e-02, 8.14716336e-02,\n",
              "        8.25053306e-02, 8.57486179e-02, 8.63321333e-02, 8.65249469e-02,\n",
              "        8.67579116e-02, 8.77518717e-02, 9.00364803e-02, 9.24983305e-02,\n",
              "        9.36058535e-02, 9.37039767e-02, 9.83789263e-02, 9.84782568e-02,\n",
              "        9.90428166e-02, 1.01785995e-01, 1.02378745e-01, 1.04583025e-01,\n",
              "        1.06676867e-01, 1.06710220e-01, 1.06900963e-01, 1.08429874e-01,\n",
              "        1.08940003e-01, 1.09016676e-01, 1.10220257e-01, 1.11281980e-01,\n",
              "        1.13212232e-01, 1.16256180e-01, 1.18806962e-01, 1.21492578e-01,\n",
              "        1.21794548e-01, 1.22572458e-01, 1.22874690e-01, 1.24054770e-01,\n",
              "        1.25491281e-01, 1.27410665e-01, 1.29629981e-01, 1.30446373e-01,\n",
              "        1.30659232e-01, 1.30672741e-01, 1.31027689e-01, 1.31794386e-01,\n",
              "        1.31803985e-01, 1.33656662e-01, 1.35271331e-01, 1.35373376e-01,\n",
              "        1.36027164e-01, 1.36389115e-01, 1.36575608e-01, 1.36637032e-01,\n",
              "        1.37373222e-01, 1.39202929e-01, 1.39692692e-01, 1.41824143e-01,\n",
              "        1.42100418e-01, 1.44048425e-01, 1.44245332e-01, 1.44884552e-01,\n",
              "        1.45314180e-01, 1.46794399e-01, 1.49896441e-01, 1.50816372e-01,\n",
              "        1.51564218e-01, 1.51772565e-01, 1.54286726e-01, 1.54717273e-01,\n",
              "        1.57025357e-01, 1.59164531e-01, 1.60670020e-01, 1.62159031e-01,\n",
              "        1.62182403e-01, 1.62590359e-01, 1.62989800e-01, 1.63891522e-01,\n",
              "        1.64726954e-01, 1.67329707e-01, 1.68169387e-01, 1.68871703e-01,\n",
              "        1.70246324e-01, 1.70464398e-01, 1.70501462e-01, 1.71256297e-01,\n",
              "        1.71536411e-01, 1.74282168e-01, 1.74315494e-01, 1.74353229e-01,\n",
              "        1.74525420e-01, 1.75864981e-01, 1.76981240e-01, 1.77333576e-01,\n",
              "        1.77466150e-01, 1.77846863e-01, 1.78054487e-01, 1.78621645e-01,\n",
              "        1.80348847e-01, 1.80527957e-01, 1.80645505e-01, 1.81606446e-01,\n",
              "        1.82072564e-01, 1.82687894e-01, 1.83451883e-01, 1.83684611e-01,\n",
              "        1.84277080e-01, 1.84816441e-01, 1.85350849e-01, 1.85639343e-01,\n",
              "        1.86258649e-01, 1.88420699e-01, 1.88725605e-01, 1.89307843e-01,\n",
              "        1.89474829e-01, 1.89520419e-01, 1.93752014e-01, 1.94036936e-01,\n",
              "        1.94118318e-01, 1.94669449e-01, 1.94964423e-01, 1.95808111e-01,\n",
              "        1.96697344e-01, 1.96813527e-01, 1.98193102e-01, 1.98411130e-01,\n",
              "        2.00933163e-01, 2.01873083e-01, 2.02112223e-01, 2.05320092e-01,\n",
              "        2.05915677e-01, 2.06188378e-01, 2.06338968e-01, 2.06610846e-01,\n",
              "        2.07336794e-01, 2.10578139e-01, 2.11458633e-01, 2.13015085e-01,\n",
              "        2.14418119e-01, 2.15703281e-01, 2.16136213e-01, 2.16419591e-01,\n",
              "        2.18016855e-01, 2.18200018e-01, 2.18209505e-01, 2.18505509e-01,\n",
              "        2.19453683e-01, 2.19705635e-01, 2.21091159e-01, 2.22905897e-01,\n",
              "        2.22964974e-01, 2.23170255e-01, 2.23668433e-01, 2.26519747e-01,\n",
              "        2.26679492e-01, 2.28959159e-01, 2.29695866e-01, 2.30613675e-01,\n",
              "        2.32678834e-01, 2.34104960e-01, 2.35188197e-01, 2.35921777e-01,\n",
              "        2.36097774e-01, 2.37014413e-01, 2.38995579e-01, 2.41021700e-01,\n",
              "        2.41663699e-01, 2.42114400e-01, 2.42180051e-01, 2.42468689e-01,\n",
              "        2.42504624e-01, 2.42546471e-01, 2.43655327e-01, 2.43820994e-01,\n",
              "        2.44146226e-01, 2.44794100e-01, 2.47250882e-01, 2.47379804e-01,\n",
              "        2.47487713e-01, 2.48610676e-01, 2.48910869e-01, 2.49467146e-01,\n",
              "        2.50307527e-01, 2.51314974e-01, 2.51416297e-01, 2.51828083e-01,\n",
              "        2.53494475e-01, 2.54145924e-01, 2.54794275e-01, 2.56021920e-01,\n",
              "        2.56849696e-01, 2.57296234e-01, 2.57485049e-01, 2.57520877e-01,\n",
              "        2.59597619e-01, 2.61524207e-01, 2.62902142e-01, 2.63086696e-01,\n",
              "        2.63109002e-01, 2.65067210e-01, 2.66502865e-01, 2.66582543e-01,\n",
              "        2.67186030e-01, 2.69670223e-01, 2.71117090e-01, 2.73147354e-01,\n",
              "        2.73663577e-01, 2.74106810e-01, 2.74164605e-01, 2.74948966e-01,\n",
              "        2.76885980e-01, 2.77217984e-01, 2.77244483e-01, 2.77365179e-01,\n",
              "        2.77802866e-01, 2.80008979e-01, 2.80042724e-01, 2.82432467e-01,\n",
              "        2.82627791e-01, 2.82713775e-01, 2.86153332e-01, 2.88723355e-01,\n",
              "        2.89124170e-01, 2.90661233e-01, 2.90712278e-01, 2.92005391e-01,\n",
              "        2.92204900e-01, 2.94513460e-01, 2.97903994e-01, 2.99982835e-01,\n",
              "        3.00335772e-01, 3.02310439e-01, 3.03592550e-01, 3.05487449e-01,\n",
              "        3.05746699e-01, 3.05809643e-01, 3.05971015e-01, 3.06072207e-01,\n",
              "        3.06993995e-01, 3.08606835e-01, 3.09085054e-01, 3.10676155e-01,\n",
              "        3.12235491e-01, 3.14702112e-01, 3.15110125e-01, 3.15850022e-01,\n",
              "        3.16539023e-01, 3.17074762e-01, 3.18453216e-01, 3.18461253e-01,\n",
              "        3.20209633e-01, 3.21201296e-01, 3.22653553e-01, 3.22911044e-01,\n",
              "        3.24284480e-01, 3.27815650e-01, 3.27958451e-01, 3.28089022e-01,\n",
              "        3.28201601e-01, 3.30288362e-01, 3.30388945e-01, 3.30430060e-01,\n",
              "        3.30739434e-01, 3.31860179e-01, 3.32957626e-01, 3.33617810e-01,\n",
              "        3.34808924e-01, 3.35825297e-01, 3.36030734e-01, 3.36444517e-01,\n",
              "        3.37182985e-01, 3.38802013e-01, 3.39041414e-01, 3.39417431e-01,\n",
              "        3.40342561e-01, 3.41615881e-01, 3.42036904e-01, 3.45189660e-01,\n",
              "        3.46382298e-01, 3.47209454e-01, 3.48464666e-01, 3.49749339e-01,\n",
              "        3.49960725e-01, 3.50410466e-01, 3.52937756e-01, 3.53410339e-01,\n",
              "        3.54762887e-01, 3.54950439e-01, 3.55665668e-01, 3.55730166e-01,\n",
              "        3.56668594e-01, 3.57660704e-01, 3.60799105e-01, 3.62511832e-01,\n",
              "        3.62825179e-01, 3.62900805e-01, 3.64746856e-01, 3.64834913e-01,\n",
              "        3.65337560e-01, 3.66181927e-01, 3.69289575e-01, 3.69826159e-01,\n",
              "        3.70415162e-01, 3.70716525e-01, 3.71489261e-01, 3.73894275e-01,\n",
              "        3.74241810e-01, 3.75188291e-01, 3.75839851e-01, 3.76032751e-01,\n",
              "        3.76633635e-01, 3.77345983e-01, 3.79843609e-01, 3.82600784e-01,\n",
              "        3.83160034e-01, 3.83428015e-01, 3.86000312e-01, 3.88994710e-01,\n",
              "        3.90094767e-01, 3.90904341e-01, 3.91117942e-01, 3.91662853e-01,\n",
              "        3.93206786e-01, 3.94257790e-01, 3.95323402e-01, 3.97696467e-01,\n",
              "        3.98759443e-01, 3.99005108e-01, 3.99971890e-01, 4.00419225e-01,\n",
              "        4.00643376e-01, 4.00691161e-01, 4.02395973e-01, 4.05187442e-01,\n",
              "        4.05661237e-01, 4.06441746e-01, 4.07869278e-01, 4.08549760e-01,\n",
              "        4.09113667e-01, 4.10942655e-01, 4.10977261e-01, 4.12646006e-01,\n",
              "        4.12765699e-01, 4.13438901e-01, 4.14293392e-01, 4.14324016e-01,\n",
              "        4.14440419e-01, 4.14497255e-01, 4.14510651e-01, 4.14907925e-01,\n",
              "        4.14975770e-01, 4.16977910e-01, 4.18739666e-01, 4.23528732e-01,\n",
              "        4.25797186e-01, 4.26653559e-01, 4.28097348e-01, 4.28122500e-01,\n",
              "        4.28700077e-01, 4.29193558e-01, 4.31477790e-01, 4.31719460e-01,\n",
              "        4.32020751e-01, 4.35339077e-01, 4.35773892e-01, 4.36698525e-01,\n",
              "        4.38162977e-01, 4.39503259e-01, 4.40663825e-01, 4.41488939e-01,\n",
              "        4.42171997e-01, 4.43022365e-01, 4.43677154e-01, 4.43830973e-01,\n",
              "        4.44961092e-01, 4.45306704e-01, 4.46518942e-01, 4.47400170e-01,\n",
              "        4.50335848e-01, 4.51424658e-01, 4.53678883e-01, 4.55441475e-01,\n",
              "        4.56259473e-01, 4.60683022e-01, 4.61828233e-01, 4.62577344e-01,\n",
              "        4.62982133e-01, 4.63285193e-01, 4.64068166e-01, 4.65185582e-01,\n",
              "        4.66109266e-01, 4.67389725e-01, 4.67759458e-01, 4.68551589e-01,\n",
              "        4.68694586e-01, 4.68806803e-01, 4.69300695e-01, 4.70793152e-01,\n",
              "        4.70814227e-01, 4.74017658e-01, 4.74501711e-01, 4.75514335e-01,\n",
              "        4.75904102e-01, 4.76416031e-01, 4.76758296e-01, 4.76895638e-01,\n",
              "        4.77877454e-01, 4.78679662e-01, 4.78767716e-01, 4.79053824e-01,\n",
              "        4.79150065e-01, 4.80242600e-01, 4.80295629e-01, 4.81355444e-01,\n",
              "        4.81619820e-01, 4.82081355e-01, 4.82355427e-01, 4.83222679e-01,\n",
              "        4.84257166e-01, 4.85203631e-01, 4.85587233e-01, 4.87061875e-01,\n",
              "        4.89319489e-01, 4.93664591e-01, 4.94344537e-01, 4.94839560e-01,\n",
              "        4.97436911e-01, 4.98519758e-01, 4.98635890e-01, 4.98732110e-01,\n",
              "        4.99114686e-01, 4.99817853e-01, 5.00976417e-01, 5.01935197e-01,\n",
              "        5.04059850e-01, 5.04332113e-01, 5.04590712e-01, 5.05325734e-01,\n",
              "        5.06200972e-01, 5.08646861e-01, 5.09615832e-01, 5.10278006e-01,\n",
              "        5.10479867e-01, 5.11886460e-01, 5.12460457e-01, 5.18008745e-01,\n",
              "        5.19126900e-01, 5.19366335e-01, 5.19764814e-01, 5.20526851e-01,\n",
              "        5.22233403e-01, 5.23650892e-01, 5.29494366e-01, 5.30293933e-01,\n",
              "        5.30820472e-01, 5.32827064e-01, 5.33400820e-01, 5.35138516e-01,\n",
              "        5.35603269e-01, 5.35683311e-01, 5.35813307e-01, 5.38957630e-01,\n",
              "        5.40162132e-01, 5.40396626e-01, 5.40540356e-01, 5.45625232e-01,\n",
              "        5.46101867e-01, 5.49461195e-01, 5.49648568e-01, 5.49869324e-01,\n",
              "        5.50102845e-01, 5.51177642e-01, 5.52188920e-01, 5.52606233e-01,\n",
              "        5.53582036e-01, 5.54295009e-01, 5.55880630e-01, 5.55905053e-01,\n",
              "        5.56188129e-01, 5.56298187e-01, 5.56406486e-01, 5.56927782e-01,\n",
              "        5.57068983e-01, 5.58056949e-01, 5.58057009e-01, 5.59061646e-01,\n",
              "        5.60551929e-01, 5.62186371e-01, 5.62753156e-01, 5.62892837e-01,\n",
              "        5.63884935e-01, 5.64547533e-01, 5.65212405e-01, 5.67157570e-01,\n",
              "        5.71011445e-01, 5.74852689e-01, 5.75714069e-01, 5.77963561e-01,\n",
              "        5.79343936e-01, 5.79491742e-01, 5.80832963e-01, 5.82007723e-01,\n",
              "        5.83725448e-01, 5.84833747e-01, 5.87099659e-01, 5.88230457e-01,\n",
              "        5.89405458e-01, 5.89708563e-01, 5.89904467e-01, 5.91295119e-01,\n",
              "        5.91732970e-01, 5.92845686e-01, 5.94069954e-01, 5.94465642e-01,\n",
              "        5.96082205e-01, 5.96177412e-01, 5.97344990e-01, 5.98441957e-01,\n",
              "        5.99221079e-01, 5.99517782e-01, 6.01545108e-01, 6.02389030e-01,\n",
              "        6.02677881e-01, 6.06029094e-01, 6.07513736e-01, 6.08017225e-01,\n",
              "        6.08631139e-01, 6.09129243e-01, 6.09547365e-01, 6.09954828e-01,\n",
              "        6.13757586e-01, 6.14087966e-01, 6.14579302e-01, 6.14851882e-01,\n",
              "        6.18361876e-01, 6.19971017e-01, 6.20064752e-01, 6.20417345e-01,\n",
              "        6.20989788e-01, 6.21232792e-01, 6.23872649e-01, 6.25336461e-01,\n",
              "        6.25963569e-01, 6.26518180e-01, 6.27031810e-01, 6.27655443e-01,\n",
              "        6.30023718e-01, 6.30309914e-01, 6.32050491e-01, 6.33463971e-01,\n",
              "        6.34233945e-01, 6.35058587e-01, 6.35645138e-01, 6.36740926e-01,\n",
              "        6.37027688e-01, 6.37966342e-01, 6.38011586e-01, 6.38494325e-01,\n",
              "        6.39255090e-01, 6.40902671e-01, 6.42574593e-01, 6.43645692e-01,\n",
              "        6.45434139e-01, 6.46024076e-01, 6.46944698e-01, 6.48805249e-01,\n",
              "        6.48982847e-01, 6.50108844e-01, 6.50279767e-01, 6.50432861e-01,\n",
              "        6.50994109e-01, 6.52220607e-01, 6.53084808e-01, 6.53545874e-01,\n",
              "        6.54198326e-01, 6.54957202e-01, 6.55045292e-01, 6.56556785e-01,\n",
              "        6.58203859e-01, 6.60476233e-01, 6.60479198e-01, 6.63197836e-01,\n",
              "        6.63612991e-01, 6.64435725e-01, 6.65664241e-01, 6.66613013e-01,\n",
              "        6.70247645e-01, 6.70383181e-01, 6.70837198e-01, 6.72494143e-01,\n",
              "        6.72759112e-01, 6.73053603e-01, 6.73409839e-01, 6.74106402e-01,\n",
              "        6.74326768e-01, 6.74395177e-01, 6.74789597e-01, 6.77101313e-01,\n",
              "        6.80552351e-01, 6.83113670e-01, 6.83232412e-01, 6.83492646e-01,\n",
              "        6.84101584e-01, 6.84382195e-01, 6.84563649e-01, 6.85679139e-01,\n",
              "        6.86537548e-01, 6.87464794e-01, 6.87628453e-01, 6.88709027e-01,\n",
              "        6.88934160e-01, 6.89832357e-01, 6.90037327e-01, 6.90577488e-01,\n",
              "        6.91304786e-01, 6.91496199e-01, 6.94443071e-01, 6.94966690e-01,\n",
              "        6.95013883e-01, 6.95674685e-01, 6.95922890e-01, 6.96097082e-01,\n",
              "        6.96441265e-01, 6.97915056e-01, 6.98004934e-01, 6.98486858e-01,\n",
              "        6.99628192e-01, 7.01302415e-01, 7.02410790e-01, 7.02789924e-01,\n",
              "        7.05939854e-01, 7.06083216e-01, 7.06192658e-01, 7.08422298e-01,\n",
              "        7.08451504e-01, 7.09485211e-01, 7.11084049e-01, 7.11119203e-01,\n",
              "        7.12470057e-01, 7.12581866e-01, 7.13098860e-01, 7.17313893e-01,\n",
              "        7.18822829e-01, 7.18929965e-01, 7.21224531e-01, 7.21303869e-01,\n",
              "        7.22593897e-01, 7.22934513e-01, 7.23344663e-01, 7.24310693e-01,\n",
              "        7.27426887e-01, 7.28808016e-01, 7.29971546e-01, 7.32380475e-01,\n",
              "        7.32461652e-01, 7.36947097e-01, 7.37074457e-01, 7.37182406e-01,\n",
              "        7.37632349e-01, 7.41114371e-01, 7.41371722e-01, 7.42106682e-01,\n",
              "        7.42799718e-01, 7.44462222e-01, 7.45004146e-01, 7.45140643e-01,\n",
              "        7.45169083e-01, 7.45389040e-01, 7.46494466e-01, 7.47729668e-01,\n",
              "        7.47828423e-01, 7.48807768e-01, 7.50208856e-01, 7.51510448e-01,\n",
              "        7.51736635e-01, 7.52141634e-01, 7.52423753e-01, 7.54362647e-01,\n",
              "        7.54395918e-01, 7.56945174e-01, 7.58237436e-01, 7.58304039e-01,\n",
              "        7.59636958e-01, 7.59950650e-01, 7.61255361e-01, 7.61596192e-01,\n",
              "        7.63422732e-01, 7.64288628e-01, 7.64844903e-01, 7.66080238e-01,\n",
              "        7.67084998e-01, 7.67977755e-01, 7.69419808e-01, 7.70579950e-01,\n",
              "        7.71991575e-01, 7.73756110e-01, 7.74236368e-01, 7.74548198e-01,\n",
              "        7.74801118e-01, 7.74921626e-01, 7.75262554e-01, 7.75362408e-01,\n",
              "        7.76132697e-01, 7.78759881e-01, 7.80148062e-01, 7.80755513e-01,\n",
              "        7.84007576e-01, 7.85203061e-01, 7.87408885e-01, 7.90176836e-01,\n",
              "        7.90181184e-01, 7.90322497e-01, 7.90809955e-01, 7.91850528e-01,\n",
              "        7.92187642e-01, 7.93181804e-01, 7.93539141e-01, 7.93570431e-01,\n",
              "        7.93816507e-01, 7.94214984e-01, 7.94491050e-01, 7.96017808e-01,\n",
              "        7.96457717e-01, 7.96543587e-01, 7.98779302e-01, 7.99117536e-01,\n",
              "        7.99248773e-01, 7.99337711e-01, 7.99756837e-01, 8.00309172e-01,\n",
              "        8.01445367e-01, 8.01822952e-01, 8.04485693e-01, 8.06493050e-01,\n",
              "        8.06675464e-01, 8.07117037e-01, 8.08211574e-01, 8.08748167e-01,\n",
              "        8.09741957e-01, 8.12914404e-01, 8.14044010e-01, 8.14050709e-01,\n",
              "        8.14924872e-01, 8.15023578e-01, 8.15755243e-01, 8.16151001e-01,\n",
              "        8.17809104e-01, 8.20727947e-01, 8.22789729e-01, 8.23507241e-01,\n",
              "        8.25722524e-01, 8.25794983e-01, 8.25977235e-01, 8.26116309e-01,\n",
              "        8.26613988e-01, 8.26664907e-01, 8.27029223e-01, 8.27997353e-01,\n",
              "        8.30662858e-01, 8.31285596e-01, 8.32721307e-01, 8.32746981e-01,\n",
              "        8.35293636e-01, 8.35382584e-01, 8.35892218e-01, 8.35939267e-01,\n",
              "        8.37258442e-01, 8.42314026e-01, 8.42625304e-01, 8.42904598e-01,\n",
              "        8.43814709e-01, 8.44664483e-01, 8.45137024e-01, 8.46655793e-01,\n",
              "        8.46743976e-01, 8.48096436e-01, 8.51283149e-01, 8.51669602e-01,\n",
              "        8.51761766e-01, 8.53358225e-01, 8.53577818e-01, 8.56273869e-01,\n",
              "        8.56365604e-01, 8.56816535e-01, 8.59836095e-01, 8.61189868e-01,\n",
              "        8.61922600e-01, 8.68210552e-01, 8.69999428e-01, 8.70134412e-01,\n",
              "        8.70189112e-01, 8.70210084e-01, 8.72130723e-01, 8.72772468e-01,\n",
              "        8.73285349e-01, 8.73523975e-01, 8.74109632e-01, 8.74246218e-01,\n",
              "        8.75163999e-01, 8.75664261e-01, 8.76244972e-01, 8.78616864e-01,\n",
              "        8.79863317e-01, 8.80011666e-01, 8.80162424e-01, 8.80881717e-01,\n",
              "        8.81070268e-01, 8.82620755e-01, 8.84968518e-01, 8.87562567e-01,\n",
              "        8.88621929e-01, 8.90670928e-01, 8.91625145e-01, 8.91688364e-01,\n",
              "        8.92086226e-01, 8.92599901e-01, 8.93640263e-01, 8.93735678e-01,\n",
              "        8.93968471e-01, 8.94518680e-01, 8.94752940e-01, 8.95401483e-01,\n",
              "        8.95954735e-01, 8.95965740e-01, 8.96007719e-01, 8.97149397e-01,\n",
              "        8.97422039e-01, 8.97500056e-01, 9.01776456e-01, 9.01872005e-01,\n",
              "        9.02471270e-01, 9.02812447e-01, 9.02892318e-01, 9.03492045e-01,\n",
              "        9.03675419e-01, 9.04529337e-01, 9.04738570e-01, 9.05524018e-01,\n",
              "        9.05913521e-01, 9.06211114e-01, 9.09899986e-01, 9.10000948e-01,\n",
              "        9.11128763e-01, 9.12316624e-01, 9.13813814e-01, 9.14139818e-01,\n",
              "        9.14480217e-01, 9.14750694e-01, 9.18674026e-01, 9.18886313e-01,\n",
              "        9.19557060e-01, 9.19785856e-01, 9.20422051e-01, 9.20974902e-01,\n",
              "        9.21568599e-01, 9.21644970e-01, 9.22498530e-01, 9.22736474e-01,\n",
              "        9.23371084e-01, 9.26564047e-01, 9.30495528e-01, 9.31192950e-01,\n",
              "        9.31529098e-01, 9.32183872e-01, 9.32208794e-01, 9.34782206e-01,\n",
              "        9.37075178e-01, 9.37185563e-01, 9.38212390e-01, 9.39397556e-01,\n",
              "        9.43372144e-01, 9.43654070e-01, 9.43722240e-01, 9.46047512e-01,\n",
              "        9.46491705e-01, 9.47998856e-01, 9.48938010e-01, 9.49723996e-01,\n",
              "        9.50094326e-01, 9.50318873e-01, 9.50634009e-01, 9.51337920e-01,\n",
              "        9.52884974e-01, 9.53082541e-01, 9.55637397e-01, 9.58440200e-01,\n",
              "        9.59519891e-01, 9.60150628e-01, 9.60664278e-01, 9.64399019e-01,\n",
              "        9.64643790e-01, 9.65015739e-01, 9.66896111e-01, 9.68951481e-01,\n",
              "        9.68986854e-01, 9.70413916e-01, 9.71000863e-01, 9.71554334e-01,\n",
              "        9.73419485e-01, 9.73558832e-01, 9.74997279e-01, 9.77200025e-01,\n",
              "        9.77735654e-01, 9.77871453e-01, 9.78228780e-01, 9.78675192e-01,\n",
              "        9.78959550e-01, 9.79937518e-01, 9.80594776e-01, 9.82213529e-01,\n",
              "        9.84398152e-01, 9.85327547e-01, 9.86413262e-01, 9.88723737e-01,\n",
              "        9.89973636e-01, 9.92096279e-01, 9.92673247e-01, 9.95243284e-01,\n",
              "        9.95883694e-01, 9.97549416e-01, 9.98735397e-01, 9.99841795e-01]),\n",
              " array([1, 1, 1, 1, 1, 1, 1, 1, 1, 1, 1, 1, 1, 1, 1, 1, 1, 1, 1, 1, 1, 1,\n",
              "        1, 1, 1, 1, 1, 1, 1, 1, 1, 1, 1, 1, 1, 1, 1, 1, 1, 1, 1, 1, 1, 1,\n",
              "        1, 1, 1, 1, 1, 1, 1, 1, 1, 1, 1, 1, 1, 1, 1, 1, 1, 1, 1, 1, 1, 1,\n",
              "        1, 1, 1, 1, 1, 1, 1, 1, 1, 1, 1, 1, 1, 1, 1, 1, 1, 1, 1, 1, 1, 1,\n",
              "        1, 1, 1, 1, 1, 1, 1, 1, 1, 1, 1, 1, 1, 1, 1, 1, 1, 1, 1, 1, 1, 1,\n",
              "        1, 1, 1, 1, 1, 1, 1, 1, 1, 1, 1, 1, 1, 1, 1, 1, 1, 1, 1, 1, 1, 1,\n",
              "        1, 1, 1, 1, 1, 1, 1, 1, 1, 1, 1, 1, 1, 1, 1, 1, 1, 1, 1, 1, 1, 1,\n",
              "        1, 1, 1, 1, 1, 1, 1, 1, 1, 1, 1, 1, 1, 1, 1, 1, 1, 1, 1, 1, 1, 1,\n",
              "        1, 1, 1, 1, 1, 1, 1, 1, 1, 1, 1, 1, 1, 1, 1, 1, 1, 1, 1, 1, 1, 1,\n",
              "        1, 1, 1, 1, 1, 1, 1, 1, 1, 1, 1, 1, 1, 1, 1, 1, 1, 1, 1, 1, 1, 1,\n",
              "        1, 1, 1, 1, 1, 1, 1, 1, 1, 1, 1, 1, 1, 1, 1, 1, 1, 1, 1, 1, 1, 1,\n",
              "        1, 1, 1, 1, 1, 1, 1, 1, 1, 1, 1, 1, 1, 1, 1, 1, 1, 1, 1, 1, 1, 1,\n",
              "        1, 1, 1, 1, 1, 1, 1, 1, 1, 1, 1, 1, 1, 1, 1, 1, 1, 1, 1, 1, 1, 1,\n",
              "        1, 1, 1, 1, 1, 1, 1, 1, 1, 1, 1, 1, 1, 1, 1, 1, 1, 1, 1, 1, 1, 1,\n",
              "        1, 1, 1, 1, 1, 1, 1, 1, 1, 1, 1, 1, 1, 1, 1, 1, 1, 1, 1, 1, 1, 1,\n",
              "        1, 1, 1, 1, 1, 1, 1, 1, 1, 1, 1, 1, 1, 1, 1, 1, 1, 1, 1, 1, 1, 1,\n",
              "        1, 1, 1, 1, 1, 1, 1, 1, 1, 1, 1, 1, 1, 1, 1, 1, 1, 1, 1, 1, 1, 1,\n",
              "        1, 1, 1, 1, 1, 1, 1, 1, 1, 1, 1, 1, 1, 1, 1, 1, 1, 1, 1, 1, 1, 1,\n",
              "        1, 1, 1, 1, 1, 1, 1, 1, 1, 1, 1, 1, 1, 1, 1, 1, 1, 1, 1, 1, 1, 1,\n",
              "        1, 1, 1, 1, 1, 1, 1, 1, 1, 1, 1, 1, 1, 1, 1, 1, 1, 1, 1, 1, 1, 1,\n",
              "        1, 1, 1, 1, 1, 1, 1, 1, 1, 1, 1, 1, 1, 1, 1, 1, 1, 1, 1, 1, 1, 1,\n",
              "        1, 1, 1, 1, 1, 1, 1, 1, 1, 1, 1, 1, 1, 1, 1, 1, 1, 1, 1, 1, 1, 1,\n",
              "        1, 1, 1, 1, 1, 1, 1, 1, 1, 1, 1, 1, 1, 1, 1, 1, 1, 1, 1, 1, 1, 1,\n",
              "        1, 1, 1, 1, 1, 1, 1, 1, 1, 1, 1, 1, 1, 1, 1, 1, 1, 1, 1, 1, 1, 1,\n",
              "        1, 1, 1, 1, 1, 1, 1, 1, 1, 1, 1, 1, 1, 1, 1, 1, 1, 1, 1, 1, 1, 1,\n",
              "        1, 1, 1, 1, 1, 1, 1, 1, 1, 1, 1, 1, 1, 1, 1, 1, 1, 1, 1, 1, 1, 1,\n",
              "        1, 1, 1, 1, 1, 1, 1, 1, 1, 1, 1, 1, 1, 1, 1, 1, 1, 1, 1, 1, 1, 1,\n",
              "        1, 1, 1, 1, 1, 1, 1, 1, 1, 1, 1, 1, 1, 1, 1, 1, 1, 1, 1, 1, 1, 1,\n",
              "        1, 1, 1, 1, 1, 1, 1, 1, 1, 1, 1, 1, 1, 1, 1, 1, 1, 1, 1, 1, 1, 1,\n",
              "        1, 1, 1, 1, 1, 1, 1, 1, 1, 1, 1, 1, 1, 1, 1, 1, 1, 1, 1, 1, 1, 1,\n",
              "        1, 1, 1, 1, 1, 1, 1, 1, 1, 1, 1, 1, 1, 1, 1, 1, 1, 1, 1, 1, 1, 1,\n",
              "        1, 1, 1, 1, 1, 1, 1, 1, 1, 1, 1, 1, 1, 1, 1, 1, 1, 1, 1, 1, 1, 1,\n",
              "        1, 1, 1, 1, 1, 1, 1, 1, 1, 1, 1, 1, 1, 1, 1, 1, 1, 1, 1, 1, 1, 1,\n",
              "        1, 1, 1, 1, 1, 1, 1, 1, 1, 1, 1, 1, 1, 1, 1, 1, 1, 1, 1, 1, 1, 1,\n",
              "        1, 1, 1, 1, 1, 1, 1, 1, 1, 1, 1, 1, 1, 1, 1, 1, 1, 1, 1, 1, 1, 1,\n",
              "        1, 1, 1, 1, 1, 1, 1, 1, 1, 1, 1, 1, 1, 1, 1, 1, 1, 1, 1, 1, 1, 1,\n",
              "        1, 1, 1, 1, 1, 1, 1, 1, 1, 1, 1, 1, 1, 1, 1, 1, 1, 1, 1, 1, 1, 1,\n",
              "        1, 1, 1, 1, 1, 1, 1, 1, 1, 1, 1, 1, 1, 1, 1, 1, 1, 1, 1, 1, 1, 1,\n",
              "        1, 1, 1, 1, 1, 1, 1, 1, 1, 1, 1, 1, 1, 1, 1, 1, 1, 1, 1, 1, 1, 1,\n",
              "        1, 1, 1, 1, 1, 1, 1, 1, 1, 1, 1, 1, 1, 1, 1, 1, 1, 1, 1, 1, 1, 1,\n",
              "        1, 1, 1, 1, 1, 1, 1, 1, 1, 1, 1, 1, 1, 1, 1, 1, 1, 1, 1, 1, 1, 1,\n",
              "        1, 1, 1, 1, 1, 1, 1, 1, 1, 1, 1, 1, 1, 1, 1, 1, 1, 1, 1, 1, 1, 1,\n",
              "        1, 1, 1, 1, 1, 1, 1, 1, 1, 1, 1, 1, 1, 1, 1, 1, 1, 1, 1, 1, 1, 1,\n",
              "        1, 1, 1, 1, 1, 1, 1, 1, 1, 1, 1, 1, 1, 1, 1, 1, 1, 1, 1, 1, 1, 1,\n",
              "        1, 1, 1, 1, 1, 1, 1, 1, 1, 1, 1, 1, 1, 1, 1, 1, 1, 1, 1, 1, 1, 1,\n",
              "        1, 1, 1, 1, 1, 1, 1, 1, 1, 1]))"
            ]
          },
          "metadata": {},
          "execution_count": 100
        }
      ]
    },
    {
      "cell_type": "code",
      "metadata": {
        "colab": {
          "base_uri": "https://localhost:8080/"
        },
        "id": "jaqbU-tGHJOR",
        "outputId": "48467b71-a055-49da-a311-20c328838a0e"
      },
      "source": [
        "dataset = pd.read_csv('credit_data.csv')\n",
        "dataset.dropna(inplace=True)\n",
        "dataset.shape"
      ],
      "execution_count": 106,
      "outputs": [
        {
          "output_type": "execute_result",
          "data": {
            "text/plain": [
              "(1997, 5)"
            ]
          },
          "metadata": {},
          "execution_count": 106
        }
      ]
    },
    {
      "cell_type": "code",
      "metadata": {
        "colab": {
          "base_uri": "https://localhost:8080/",
          "height": 206
        },
        "id": "-OTfu7bWHMp2",
        "outputId": "da5c3cf3-99f6-4e7b-c57f-e141ccd3257c"
      },
      "source": [
        "dataset.head()"
      ],
      "execution_count": 107,
      "outputs": [
        {
          "output_type": "execute_result",
          "data": {
            "text/html": [
              "<div>\n",
              "<style scoped>\n",
              "    .dataframe tbody tr th:only-of-type {\n",
              "        vertical-align: middle;\n",
              "    }\n",
              "\n",
              "    .dataframe tbody tr th {\n",
              "        vertical-align: top;\n",
              "    }\n",
              "\n",
              "    .dataframe thead th {\n",
              "        text-align: right;\n",
              "    }\n",
              "</style>\n",
              "<table border=\"1\" class=\"dataframe\">\n",
              "  <thead>\n",
              "    <tr style=\"text-align: right;\">\n",
              "      <th></th>\n",
              "      <th>i#clientid</th>\n",
              "      <th>income</th>\n",
              "      <th>age</th>\n",
              "      <th>loan</th>\n",
              "      <th>c#default</th>\n",
              "    </tr>\n",
              "  </thead>\n",
              "  <tbody>\n",
              "    <tr>\n",
              "      <th>0</th>\n",
              "      <td>1</td>\n",
              "      <td>66155.925095</td>\n",
              "      <td>59.017015</td>\n",
              "      <td>8106.532131</td>\n",
              "      <td>0</td>\n",
              "    </tr>\n",
              "    <tr>\n",
              "      <th>1</th>\n",
              "      <td>2</td>\n",
              "      <td>34415.153966</td>\n",
              "      <td>48.117153</td>\n",
              "      <td>6564.745018</td>\n",
              "      <td>0</td>\n",
              "    </tr>\n",
              "    <tr>\n",
              "      <th>2</th>\n",
              "      <td>3</td>\n",
              "      <td>57317.170063</td>\n",
              "      <td>63.108049</td>\n",
              "      <td>8020.953296</td>\n",
              "      <td>0</td>\n",
              "    </tr>\n",
              "    <tr>\n",
              "      <th>3</th>\n",
              "      <td>4</td>\n",
              "      <td>42709.534201</td>\n",
              "      <td>45.751972</td>\n",
              "      <td>6103.642260</td>\n",
              "      <td>0</td>\n",
              "    </tr>\n",
              "    <tr>\n",
              "      <th>4</th>\n",
              "      <td>5</td>\n",
              "      <td>66952.688845</td>\n",
              "      <td>18.584336</td>\n",
              "      <td>8770.099235</td>\n",
              "      <td>1</td>\n",
              "    </tr>\n",
              "  </tbody>\n",
              "</table>\n",
              "</div>"
            ],
            "text/plain": [
              "   i#clientid        income        age         loan  c#default\n",
              "0           1  66155.925095  59.017015  8106.532131          0\n",
              "1           2  34415.153966  48.117153  6564.745018          0\n",
              "2           3  57317.170063  63.108049  8020.953296          0\n",
              "3           4  42709.534201  45.751972  6103.642260          0\n",
              "4           5  66952.688845  18.584336  8770.099235          1"
            ]
          },
          "metadata": {},
          "execution_count": 107
        }
      ]
    },
    {
      "cell_type": "code",
      "metadata": {
        "colab": {
          "base_uri": "https://localhost:8080/"
        },
        "id": "fzBgsbWbHVh3",
        "outputId": "ceb5557d-2880-415c-c113-d11293725780"
      },
      "source": [
        "X = dataset.iloc[:, 1:4].values\n",
        "X"
      ],
      "execution_count": 109,
      "outputs": [
        {
          "output_type": "execute_result",
          "data": {
            "text/plain": [
              "array([[6.61559251e+04, 5.90170151e+01, 8.10653213e+03],\n",
              "       [3.44151540e+04, 4.81171531e+01, 6.56474502e+03],\n",
              "       [5.73171701e+04, 6.31080495e+01, 8.02095330e+03],\n",
              "       ...,\n",
              "       [4.43114493e+04, 2.80171669e+01, 5.52278669e+03],\n",
              "       [4.37560566e+04, 6.39717958e+01, 1.62272260e+03],\n",
              "       [6.94365796e+04, 5.61526170e+01, 7.37883360e+03]])"
            ]
          },
          "metadata": {},
          "execution_count": 109
        }
      ]
    },
    {
      "cell_type": "code",
      "metadata": {
        "colab": {
          "base_uri": "https://localhost:8080/"
        },
        "id": "BLMQmNbjHwqI",
        "outputId": "0ea6eeef-0ec6-457b-ad67-53943e54ff31"
      },
      "source": [
        "y = dataset.iloc[:, 4].values\n",
        "y"
      ],
      "execution_count": 111,
      "outputs": [
        {
          "output_type": "execute_result",
          "data": {
            "text/plain": [
              "array([0, 0, 0, ..., 1, 0, 0])"
            ]
          },
          "metadata": {},
          "execution_count": 111
        }
      ]
    },
    {
      "cell_type": "code",
      "metadata": {
        "id": "Shp57oq1HPzW"
      },
      "source": [
        "from sklearn.naive_bayes import GaussianNB\n",
        "from sklearn.metrics import accuracy_score\n",
        "from sklearn.model_selection import train_test_split"
      ],
      "execution_count": 104,
      "outputs": []
    },
    {
      "cell_type": "code",
      "metadata": {
        "id": "a_rVL8utH_NK"
      },
      "source": [
        "resultados_naive_bayes = []\n",
        "for i in range(30):\n",
        "  X_treinamento, X_teste, y_treinamento, y_teste = train_test_split(X, y, test_size = 0.2, \n",
        "                                                                    stratify = y, random_state = i)\n",
        "  naive_bayes = GaussianNB()\n",
        "  naive_bayes.fit(X_treinamento, y_treinamento)\n",
        "  resultados_naive_bayes.append(accuracy_score(y_teste, naive_bayes.predict(X_teste)))"
      ],
      "execution_count": 112,
      "outputs": []
    },
    {
      "cell_type": "code",
      "metadata": {
        "colab": {
          "base_uri": "https://localhost:8080/"
        },
        "id": "VHYo2x4qIKi6",
        "outputId": "65606ec9-a01c-41ef-a837-f67f70e2b86e"
      },
      "source": [
        "print(resultados_naive_bayes)"
      ],
      "execution_count": 113,
      "outputs": [
        {
          "output_type": "stream",
          "name": "stdout",
          "text": [
            "[0.925, 0.925, 0.9325, 0.925, 0.92, 0.905, 0.9175, 0.9175, 0.9125, 0.9325, 0.9225, 0.9125, 0.935, 0.9175, 0.925, 0.9175, 0.9275, 0.92, 0.9325, 0.92, 0.93, 0.905, 0.9175, 0.9325, 0.9425, 0.9375, 0.94, 0.92, 0.935, 0.925]\n"
          ]
        }
      ]
    },
    {
      "cell_type": "code",
      "metadata": {
        "colab": {
          "base_uri": "https://localhost:8080/",
          "height": 265
        },
        "id": "kd42tnNuISnB",
        "outputId": "dcb584be-d003-4ac0-f69c-942c599dbf13"
      },
      "source": [
        "sns.histplot(resultados_naive_bayes, bins = 1);"
      ],
      "execution_count": 165,
      "outputs": [
        {
          "output_type": "display_data",
          "data": {
            "image/png": "[encoded data removed]",
            "text/plain": [
              "<Figure size 432x288 with 1 Axes>"
            ]
          },
          "metadata": {
            "needs_background": "light"
          }
        }
      ]
    },
    {
      "cell_type": "markdown",
      "metadata": {
        "id": "d6_E_FWKGZad"
      },
      "source": [
        "**Distribuição de Bernoulli**"
      ]
    },
    {
      "cell_type": "code",
      "metadata": {
        "id": "rNXDWCUJGdZM"
      },
      "source": [
        "from scipy.stats import bernoulli # Variáveis discretas do tipo sim e não"
      ],
      "execution_count": 116,
      "outputs": []
    },
    {
      "cell_type": "code",
      "metadata": {
        "id": "aTRqfOP-KtSS"
      },
      "source": [
        "data_bernoulli = bernoulli.rvs(size = 1000, p = 0.8)"
      ],
      "execution_count": 125,
      "outputs": []
    },
    {
      "cell_type": "code",
      "metadata": {
        "colab": {
          "base_uri": "https://localhost:8080/"
        },
        "id": "mzIkDxLoKwIk",
        "outputId": "f087d2d9-33ce-46e0-fe57-e82217a04362"
      },
      "source": [
        "data_bernoulli"
      ],
      "execution_count": 126,
      "outputs": [
        {
          "output_type": "execute_result",
          "data": {
            "text/plain": [
              "array([1, 1, 1, 1, 1, 1, 1, 1, 1, 0, 1, 1, 1, 1, 1, 1, 1, 1, 1, 1, 1, 0,\n",
              "       1, 1, 1, 1, 1, 1, 1, 1, 1, 1, 1, 1, 1, 1, 1, 0, 1, 1, 1, 0, 1, 1,\n",
              "       0, 1, 0, 1, 1, 1, 1, 1, 1, 1, 1, 1, 1, 1, 1, 1, 1, 1, 1, 1, 1, 1,\n",
              "       1, 1, 1, 1, 1, 1, 0, 1, 0, 1, 1, 1, 1, 1, 1, 0, 1, 1, 1, 1, 1, 1,\n",
              "       1, 1, 1, 0, 1, 1, 1, 1, 1, 1, 0, 0, 1, 1, 1, 1, 1, 1, 1, 1, 1, 1,\n",
              "       1, 1, 0, 0, 1, 1, 1, 0, 0, 1, 0, 1, 1, 0, 0, 1, 1, 1, 1, 1, 1, 1,\n",
              "       1, 1, 1, 1, 1, 0, 1, 1, 1, 1, 1, 1, 1, 0, 1, 0, 1, 1, 1, 1, 1, 1,\n",
              "       0, 1, 0, 1, 1, 0, 1, 1, 1, 1, 0, 0, 1, 1, 0, 1, 1, 1, 1, 1, 1, 1,\n",
              "       1, 1, 0, 0, 1, 1, 1, 1, 1, 1, 1, 1, 1, 1, 1, 0, 1, 1, 1, 1, 1, 1,\n",
              "       1, 1, 1, 1, 0, 1, 1, 1, 1, 1, 1, 1, 1, 1, 1, 1, 1, 0, 1, 1, 1, 1,\n",
              "       1, 1, 1, 1, 1, 1, 1, 1, 0, 0, 1, 1, 1, 1, 1, 1, 1, 1, 1, 1, 1, 1,\n",
              "       1, 1, 1, 0, 1, 1, 1, 0, 0, 1, 0, 1, 1, 1, 1, 0, 1, 1, 1, 1, 1, 0,\n",
              "       1, 0, 0, 0, 1, 1, 1, 1, 1, 1, 1, 1, 1, 1, 1, 0, 1, 1, 1, 0, 1, 1,\n",
              "       1, 1, 1, 0, 1, 1, 1, 1, 0, 1, 1, 1, 1, 1, 1, 0, 1, 1, 1, 1, 1, 1,\n",
              "       1, 0, 0, 0, 1, 1, 1, 0, 1, 1, 0, 1, 1, 1, 1, 1, 1, 1, 1, 1, 1, 1,\n",
              "       1, 1, 1, 1, 1, 1, 1, 1, 0, 0, 0, 1, 1, 1, 1, 1, 1, 1, 0, 1, 1, 1,\n",
              "       1, 0, 1, 1, 1, 0, 1, 1, 1, 1, 0, 1, 1, 1, 0, 0, 1, 1, 1, 1, 1, 0,\n",
              "       0, 1, 1, 1, 1, 0, 1, 1, 1, 1, 1, 1, 1, 1, 1, 0, 0, 1, 1, 1, 0, 1,\n",
              "       0, 1, 1, 1, 1, 1, 1, 1, 1, 1, 1, 1, 1, 1, 1, 1, 1, 1, 1, 1, 1, 0,\n",
              "       1, 1, 1, 0, 1, 1, 1, 0, 0, 1, 0, 0, 1, 1, 1, 1, 1, 1, 1, 1, 1, 1,\n",
              "       1, 1, 1, 1, 1, 1, 1, 0, 1, 1, 1, 1, 0, 1, 1, 0, 1, 1, 1, 1, 0, 1,\n",
              "       1, 0, 1, 1, 1, 1, 0, 1, 1, 1, 1, 1, 0, 1, 1, 1, 1, 1, 1, 1, 1, 1,\n",
              "       1, 0, 1, 1, 1, 1, 0, 1, 1, 0, 0, 1, 1, 1, 1, 1, 1, 1, 1, 1, 0, 1,\n",
              "       0, 1, 0, 0, 1, 1, 1, 1, 0, 1, 1, 1, 0, 1, 1, 1, 1, 1, 0, 1, 0, 1,\n",
              "       1, 0, 1, 0, 1, 1, 1, 0, 1, 1, 1, 1, 1, 1, 1, 1, 1, 1, 1, 1, 1, 1,\n",
              "       1, 1, 1, 1, 1, 1, 0, 1, 1, 1, 0, 1, 0, 1, 1, 0, 0, 1, 1, 1, 1, 1,\n",
              "       1, 1, 1, 1, 1, 0, 1, 0, 1, 0, 1, 1, 1, 1, 1, 1, 1, 1, 1, 1, 1, 0,\n",
              "       0, 1, 1, 1, 1, 1, 1, 1, 1, 0, 1, 1, 1, 1, 0, 1, 1, 1, 0, 1, 1, 1,\n",
              "       1, 1, 1, 1, 1, 1, 0, 1, 1, 1, 1, 1, 1, 1, 1, 1, 1, 1, 0, 0, 1, 1,\n",
              "       1, 1, 0, 1, 1, 1, 1, 1, 0, 0, 0, 0, 1, 0, 1, 0, 1, 1, 1, 0, 1, 1,\n",
              "       1, 1, 0, 1, 1, 1, 1, 0, 1, 1, 1, 1, 1, 1, 1, 1, 1, 1, 1, 0, 1, 1,\n",
              "       1, 1, 1, 1, 1, 0, 1, 0, 1, 1, 0, 1, 1, 0, 0, 1, 1, 0, 1, 1, 1, 0,\n",
              "       0, 1, 1, 1, 1, 1, 0, 1, 0, 1, 1, 0, 1, 1, 1, 1, 0, 1, 1, 1, 1, 1,\n",
              "       1, 1, 1, 0, 1, 1, 1, 1, 1, 1, 1, 1, 1, 1, 1, 1, 1, 1, 1, 1, 1, 0,\n",
              "       1, 1, 1, 0, 1, 1, 1, 1, 1, 1, 1, 1, 1, 1, 1, 1, 1, 1, 1, 1, 1, 1,\n",
              "       1, 0, 0, 0, 1, 0, 1, 0, 1, 1, 1, 0, 0, 0, 1, 0, 1, 0, 1, 1, 0, 1,\n",
              "       0, 1, 1, 1, 1, 1, 1, 1, 1, 1, 1, 0, 0, 1, 0, 1, 1, 1, 1, 0, 1, 1,\n",
              "       1, 1, 1, 1, 1, 1, 1, 0, 1, 1, 1, 1, 1, 0, 1, 1, 1, 0, 1, 1, 0, 0,\n",
              "       1, 1, 1, 1, 1, 1, 1, 1, 1, 1, 1, 1, 1, 1, 0, 0, 1, 1, 1, 1, 1, 0,\n",
              "       1, 0, 1, 1, 1, 1, 1, 1, 1, 1, 1, 1, 0, 0, 0, 1, 1, 1, 0, 1, 1, 1,\n",
              "       1, 1, 0, 1, 1, 1, 1, 1, 0, 1, 1, 1, 1, 1, 1, 1, 1, 1, 1, 1, 1, 1,\n",
              "       1, 0, 1, 1, 0, 0, 0, 1, 1, 0, 0, 1, 1, 1, 1, 1, 1, 1, 1, 1, 1, 1,\n",
              "       1, 1, 1, 1, 1, 1, 1, 0, 1, 1, 1, 1, 1, 0, 1, 1, 1, 1, 1, 1, 1, 1,\n",
              "       1, 1, 1, 1, 1, 1, 1, 1, 1, 1, 1, 1, 1, 1, 1, 1, 1, 0, 1, 1, 0, 1,\n",
              "       1, 0, 0, 0, 1, 0, 1, 1, 1, 1, 1, 1, 1, 1, 1, 1, 1, 1, 1, 1, 1, 1,\n",
              "       0, 1, 1, 1, 1, 1, 1, 1, 1, 0])"
            ]
          },
          "metadata": {},
          "execution_count": 126
        }
      ]
    },
    {
      "cell_type": "code",
      "metadata": {
        "colab": {
          "base_uri": "https://localhost:8080/"
        },
        "id": "p2-WUIE7KxyX",
        "outputId": "07b78379-32f1-459d-954a-08f0e801af4d"
      },
      "source": [
        "np.unique(data_bernoulli, return_counts=True)"
      ],
      "execution_count": 127,
      "outputs": [
        {
          "output_type": "execute_result",
          "data": {
            "text/plain": [
              "(array([0, 1]), array([187, 813]))"
            ]
          },
          "metadata": {},
          "execution_count": 127
        }
      ]
    },
    {
      "cell_type": "code",
      "metadata": {
        "colab": {
          "base_uri": "https://localhost:8080/",
          "height": 265
        },
        "id": "FdRD6FuwK1ka",
        "outputId": "e4db2038-ae02-4b5d-961e-dd490fa3d0bb"
      },
      "source": [
        "sns.histplot(data_bernoulli, kde=False);"
      ],
      "execution_count": 164,
      "outputs": [
        {
          "output_type": "display_data",
          "data": {
            "image/png": "[encoded data removed]",
            "text/plain": [
              "<Figure size 432x288 with 1 Axes>"
            ]
          },
          "metadata": {
            "needs_background": "light"
          }
        }
      ]
    },
    {
      "cell_type": "markdown",
      "metadata": {
        "id": "qgLM85QLLa3c"
      },
      "source": [
        "**Distribuição binomial**"
      ]
    },
    {
      "cell_type": "code",
      "metadata": {
        "id": "dl2Vq5B1LW-O"
      },
      "source": [
        "from scipy.stats import binom # Eventos discretos com casados, solteiros, divorciados"
      ],
      "execution_count": 132,
      "outputs": []
    },
    {
      "cell_type": "code",
      "metadata": {
        "id": "A9qopX1cLiEz"
      },
      "source": [
        "data_binom = binom.rvs(size = 1000, n = 10, p = 0.2)"
      ],
      "execution_count": 151,
      "outputs": []
    },
    {
      "cell_type": "code",
      "metadata": {
        "colab": {
          "base_uri": "https://localhost:8080/"
        },
        "id": "R1NjFTZ-LpxC",
        "outputId": "2bd99e61-a3d0-4fe2-e7f3-ec9deba19f8d"
      },
      "source": [
        "np.unique(data_binom, return_counts=True)"
      ],
      "execution_count": 152,
      "outputs": [
        {
          "output_type": "execute_result",
          "data": {
            "text/plain": [
              "(array([0, 1, 2, 3, 4, 5, 6]), array([ 89, 281, 317, 201,  83,  24,   5]))"
            ]
          },
          "metadata": {},
          "execution_count": 152
        }
      ]
    },
    {
      "cell_type": "code",
      "metadata": {
        "colab": {
          "base_uri": "https://localhost:8080/"
        },
        "id": "lTj3wJr9Lse4",
        "outputId": "e3312f2e-1eb4-443e-e9c6-92c0ca7f7b92"
      },
      "source": [
        "print(data_binom)"
      ],
      "execution_count": 153,
      "outputs": [
        {
          "output_type": "stream",
          "name": "stdout",
          "text": [
            "[4 3 2 3 3 0 1 1 4 2 3 1 1 2 2 0 0 1 1 3 0 1 1 3 2 3 0 3 1 3 2 1 3 1 2 2 1\n",
            " 1 0 2 4 2 2 1 0 4 2 2 1 3 2 1 2 4 2 2 6 1 2 5 0 1 1 2 2 3 3 2 1 4 5 1 2 2\n",
            " 4 2 2 3 3 1 1 1 1 2 1 3 1 2 3 3 0 1 2 2 1 2 2 3 2 3 2 2 0 2 1 5 1 3 5 4 4\n",
            " 1 1 0 1 3 0 2 1 3 2 2 1 4 0 0 2 3 2 2 2 3 2 2 1 2 3 2 2 2 0 2 2 2 2 1 1 1\n",
            " 1 1 1 2 2 6 4 1 1 1 1 4 3 2 1 1 3 3 1 1 1 2 2 1 4 1 3 3 2 1 4 2 1 2 2 3 3\n",
            " 0 2 1 2 2 1 1 3 2 2 2 3 2 1 1 0 3 1 6 2 2 1 1 1 3 2 3 0 1 1 2 3 2 3 2 2 2\n",
            " 0 3 1 2 1 4 3 2 2 0 1 5 2 1 1 1 4 2 2 3 4 3 3 3 2 1 2 1 1 2 2 1 4 2 2 3 1\n",
            " 2 1 1 0 2 1 3 2 2 0 1 0 2 1 2 4 3 3 2 0 1 0 2 3 2 2 1 3 0 2 1 2 1 3 3 0 2\n",
            " 1 5 4 1 2 3 2 1 3 1 2 0 2 3 5 2 1 3 1 3 2 2 1 1 2 1 3 2 3 1 3 3 2 2 2 3 4\n",
            " 1 2 2 3 4 4 0 0 0 2 4 2 3 2 1 4 1 1 3 1 1 2 2 1 3 1 1 1 2 0 3 4 3 3 0 2 1\n",
            " 1 3 3 0 2 2 3 2 2 2 0 5 2 1 0 4 1 3 2 2 3 3 3 2 1 3 0 0 1 3 2 2 2 3 1 3 3\n",
            " 2 2 1 5 1 1 2 2 4 2 3 0 3 3 0 3 4 3 1 1 2 0 0 2 2 4 1 1 0 2 1 2 1 2 3 4 2\n",
            " 2 1 1 0 4 4 2 4 3 4 2 2 2 0 2 3 1 2 1 0 1 2 5 3 1 2 2 5 3 4 1 4 2 5 1 1 3\n",
            " 0 3 1 1 1 1 1 2 2 2 2 4 1 1 2 3 2 3 1 3 3 2 0 2 1 3 4 2 3 2 3 1 3 4 2 3 1\n",
            " 1 4 4 2 2 2 2 0 3 3 1 1 2 1 2 2 1 3 2 1 2 2 4 1 2 0 2 2 1 2 0 3 3 1 1 0 0\n",
            " 3 2 1 5 3 1 4 3 1 1 2 1 4 2 3 2 5 4 3 2 2 3 2 2 1 1 2 2 1 2 3 1 2 3 1 2 5\n",
            " 4 1 3 3 1 0 1 0 1 2 2 3 3 2 0 1 3 2 2 2 1 3 2 4 1 0 2 5 4 3 0 3 0 3 2 4 2\n",
            " 0 1 3 3 4 2 2 3 2 1 5 4 2 5 2 1 2 2 1 2 3 1 1 1 2 4 4 2 1 4 0 2 3 3 1 1 0\n",
            " 3 2 2 3 2 2 3 1 4 3 3 4 4 1 4 1 3 1 2 2 3 0 1 4 2 1 3 2 4 1 1 1 1 2 2 3 1\n",
            " 1 3 2 2 0 4 1 2 1 3 0 1 3 1 1 3 2 1 6 2 2 0 2 1 2 3 3 1 1 2 1 1 1 2 1 3 1\n",
            " 3 4 2 1 1 3 2 1 2 4 2 1 2 1 4 4 2 3 2 1 3 1 3 0 1 2 2 2 4 1 0 0 1 0 4 3 3\n",
            " 4 2 2 3 3 4 4 2 0 2 1 2 3 2 2 1 0 3 3 1 2 3 5 4 1 1 2 2 2 3 0 2 3 1 2 2 2\n",
            " 0 2 1 1 1 0 2 2 1 2 2 3 3 0 0 1 2 3 1 2 3 5 2 2 3 1 1 1 2 1 3 3 1 2 3 5 1\n",
            " 2 3 1 1 3 1 5 3 1 4 1 3 3 1 2 2 1 2 0 4 1 3 3 3 4 3 3 2 2 1 2 0 4 1 4 3 5\n",
            " 1 1 3 2 2 1 2 1 2 2 2 2 1 0 2 1 3 2 2 4 1 0 2 1 1 1 3 3 2 2 1 1 2 0 1 1 1\n",
            " 2 4 0 2 2 4 1 6 2 2 1 0 3 1 2 0 1 3 2 2 2 2 3 2 2 3 1 3 3 4 1 1 1 3 1 2 0\n",
            " 1 3 3 5 1 0 3 1 2 1 2 0 3 0 2 1 1 3 1 1 2 3 2 1 3 2 2 4 2 2 2 3 2 1 1 4 1\n",
            " 1]\n"
          ]
        }
      ]
    },
    {
      "cell_type": "code",
      "metadata": {
        "colab": {
          "base_uri": "https://localhost:8080/",
          "height": 265
        },
        "id": "oWbCcORFLxUP",
        "outputId": "f144bb30-b563-483a-9094-950ba51a8614"
      },
      "source": [
        "sns.histplot(data_binom, kde=False);"
      ],
      "execution_count": 163,
      "outputs": [
        {
          "output_type": "display_data",
          "data": {
            "image/png": "[encoded data removed]",
            "text/plain": [
              "<Figure size 432x288 with 1 Axes>"
            ]
          },
          "metadata": {
            "needs_background": "light"
          }
        }
      ]
    },
    {
      "cell_type": "markdown",
      "metadata": {
        "id": "cnvY0NfhMtFK"
      },
      "source": [
        "**Distribuição poisson**"
      ]
    },
    {
      "cell_type": "code",
      "metadata": {
        "id": "oQXyTFHaMo4d"
      },
      "source": [
        "from scipy.stats import poisson # Eventos em intervalo de tempo"
      ],
      "execution_count": 156,
      "outputs": []
    },
    {
      "cell_type": "code",
      "metadata": {
        "id": "cmaOtLSwM1m6"
      },
      "source": [
        "data_poisson = poisson.rvs(size = 1000, mu = 1)"
      ],
      "execution_count": 172,
      "outputs": []
    },
    {
      "cell_type": "code",
      "metadata": {
        "colab": {
          "base_uri": "https://localhost:8080/"
        },
        "id": "d3_F4GVlNOsv",
        "outputId": "251fd6fd-8893-417a-a6fc-4f4cfe153b16"
      },
      "source": [
        "min(data_poisson), max(data_poisson)"
      ],
      "execution_count": 173,
      "outputs": [
        {
          "output_type": "execute_result",
          "data": {
            "text/plain": [
              "(0, 6)"
            ]
          },
          "metadata": {},
          "execution_count": 173
        }
      ]
    },
    {
      "cell_type": "code",
      "metadata": {
        "colab": {
          "base_uri": "https://localhost:8080/"
        },
        "id": "2c9prLgjNT1a",
        "outputId": "b717a131-6bac-465d-b92c-4b78e218a38a"
      },
      "source": [
        "np.unique(data_poisson, return_counts=True)"
      ],
      "execution_count": 174,
      "outputs": [
        {
          "output_type": "execute_result",
          "data": {
            "text/plain": [
              "(array([0, 1, 2, 3, 4, 5, 6]), array([371, 377, 179,  59,  10,   3,   1]))"
            ]
          },
          "metadata": {},
          "execution_count": 174
        }
      ]
    },
    {
      "cell_type": "code",
      "metadata": {
        "colab": {
          "base_uri": "https://localhost:8080/",
          "height": 265
        },
        "id": "Vx3NhEdNNY4l",
        "outputId": "7dbc867a-291f-4343-f801-351425de3837"
      },
      "source": [
        "sns.histplot(data_poisson, kde=False);"
      ],
      "execution_count": 176,
      "outputs": [
        {
          "output_type": "display_data",
          "data": {
            "image/png": "[encoded data removed]",
            "text/plain": [
              "<Figure size 432x288 with 1 Axes>"
            ]
          },
          "metadata": {
            "needs_background": "light"
          }
        }
      ]
    },
    {
      "cell_type": "markdown",
      "metadata": {
        "id": "hqrSVuh8OhpA"
      },
      "source": [
        "**Exercícios**"
      ]
    },
    {
      "cell_type": "code",
      "metadata": {
        "id": "pS-vNAOgOgks"
      },
      "source": [
        "dataset = pd.read_csv('census.csv')"
      ],
      "execution_count": 177,
      "outputs": []
    },
    {
      "cell_type": "code",
      "metadata": {
        "colab": {
          "base_uri": "https://localhost:8080/"
        },
        "id": "SA6S5DnRO9OC",
        "outputId": "e292c433-ca11-46a7-8702-2cbb10c521b6"
      },
      "source": [
        "dataset.dtypes"
      ],
      "execution_count": 180,
      "outputs": [
        {
          "output_type": "execute_result",
          "data": {
            "text/plain": [
              "age                int64\n",
              "workclass         object\n",
              "final-weight       int64\n",
              "education         object\n",
              "education-num      int64\n",
              "marital-status    object\n",
              "occupation        object\n",
              "relationship      object\n",
              "race              object\n",
              "sex               object\n",
              "capital-gain       int64\n",
              "capital-loos       int64\n",
              "hour-per-week      int64\n",
              "native-country    object\n",
              "income            object\n",
              "dtype: object"
            ]
          },
          "metadata": {},
          "execution_count": 180
        }
      ]
    },
    {
      "cell_type": "code",
      "metadata": {
        "colab": {
          "base_uri": "https://localhost:8080/",
          "height": 296
        },
        "id": "WSoZxE_GOspL",
        "outputId": "aeabebd9-3cb2-4d3f-e524-982e17736d52"
      },
      "source": [
        "sns.histplot(dataset['age'], kde=True) # distribuição gama"
      ],
      "execution_count": 179,
      "outputs": [
        {
          "output_type": "execute_result",
          "data": {
            "text/plain": [
              "<matplotlib.axes._subplots.AxesSubplot at 0x7fd38de729d0>"
            ]
          },
          "metadata": {},
          "execution_count": 179
        },
        {
          "output_type": "display_data",
          "data": {
            "image/png": "[encoded data removed]",
            "text/plain": [
              "<Figure size 432x288 with 1 Axes>"
            ]
          },
          "metadata": {
            "needs_background": "light"
          }
        }
      ]
    },
    {
      "cell_type": "code",
      "metadata": {
        "colab": {
          "base_uri": "https://localhost:8080/",
          "height": 296
        },
        "id": "vzvJs3-WPS0L",
        "outputId": "f0ddff74-e040-4648-dfbb-3d9b81289d6c"
      },
      "source": [
        "sns.histplot(dataset['final-weight'], kde=True) # distribuição gama"
      ],
      "execution_count": 183,
      "outputs": [
        {
          "output_type": "execute_result",
          "data": {
            "text/plain": [
              "<matplotlib.axes._subplots.AxesSubplot at 0x7fd38edca5d0>"
            ]
          },
          "metadata": {},
          "execution_count": 183
        },
        {
          "output_type": "display_data",
          "data": {
            "image/png": "[encoded data removed]",
            "text/plain": [
              "<Figure size 432x288 with 1 Axes>"
            ]
          },
          "metadata": {
            "needs_background": "light"
          }
        }
      ]
    },
    {
      "cell_type": "code",
      "metadata": {
        "colab": {
          "base_uri": "https://localhost:8080/",
          "height": 296
        },
        "id": "hs9qgfwIPgdA",
        "outputId": "4502141b-957a-4711-cfcd-a199b0960315"
      },
      "source": [
        "sns.histplot(dataset['education-num'], kde=False) # discreta distribuição binomial"
      ],
      "execution_count": 185,
      "outputs": [
        {
          "output_type": "execute_result",
          "data": {
            "text/plain": [
              "<matplotlib.axes._subplots.AxesSubplot at 0x7fd38e7eed50>"
            ]
          },
          "metadata": {},
          "execution_count": 185
        },
        {
          "output_type": "display_data",
          "data": {
            "image/png": "[encoded data removed]",
            "text/plain": [
              "<Figure size 432x288 with 1 Axes>"
            ]
          },
          "metadata": {
            "needs_background": "light"
          }
        }
      ]
    },
    {
      "cell_type": "code",
      "metadata": {
        "colab": {
          "base_uri": "https://localhost:8080/",
          "height": 296
        },
        "id": "-q_Y3KoLPvAA",
        "outputId": "621b33f0-355f-4741-b8fb-b225e75f7cd5"
      },
      "source": [
        "sns.histplot(dataset['capital-gain'], kde=False) # distribuição exponencial"
      ],
      "execution_count": 187,
      "outputs": [
        {
          "output_type": "execute_result",
          "data": {
            "text/plain": [
              "<matplotlib.axes._subplots.AxesSubplot at 0x7fd38e3f7210>"
            ]
          },
          "metadata": {},
          "execution_count": 187
        },
        {
          "output_type": "display_data",
          "data": {
            "image/png": "[encoded data removed]",
            "text/plain": [
              "<Figure size 432x288 with 1 Axes>"
            ]
          },
          "metadata": {
            "needs_background": "light"
          }
        }
      ]
    },
    {
      "cell_type": "code",
      "metadata": {
        "colab": {
          "base_uri": "https://localhost:8080/",
          "height": 283
        },
        "id": "05HMH_ddQCBu",
        "outputId": "a6de8883-b8be-4e22-a460-ff5b4a346a85"
      },
      "source": [
        "sns.histplot(dataset['capital-loos'], kde=True); # distribuição exponencial"
      ],
      "execution_count": 189,
      "outputs": [
        {
          "output_type": "display_data",
          "data": {
            "image/png": "[encoded data removed]",
            "text/plain": [
              "<Figure size 432x288 with 1 Axes>"
            ]
          },
          "metadata": {
            "needs_background": "light"
          }
        }
      ]
    },
    {
      "cell_type": "markdown",
      "metadata": {
        "id": "75X-9Cb4Nfmk"
      },
      "source": [
        ""
      ]
    },
    {
      "cell_type": "code",
      "metadata": {
        "colab": {
          "base_uri": "https://localhost:8080/",
          "height": 279
        },
        "id": "jgM3t__jQUdD",
        "outputId": "e8db3b0f-acff-4a82-eaf1-0b0db1f42738"
      },
      "source": [
        "sns.histplot(dataset['hour-per-week'], kde=False);"
      ],
      "execution_count": 191,
      "outputs": [
        {
          "output_type": "display_data",
          "data": {
            "image/png": "[encoded data removed]",
            "text/plain": [
              "<Figure size 432x288 with 1 Axes>"
            ]
          },
          "metadata": {
            "needs_background": "light"
          }
        }
      ]
    },
    {
      "cell_type": "code",
      "metadata": {
        "colab": {
          "base_uri": "https://localhost:8080/",
          "height": 334
        },
        "id": "K4Guj6cAQcfq",
        "outputId": "a55b9688-8595-498a-91ee-371972189884"
      },
      "source": [
        "sns.countplot(dataset['marital-status']); # binomial"
      ],
      "execution_count": 192,
      "outputs": [
        {
          "output_type": "stream",
          "name": "stderr",
          "text": [
            "/usr/local/lib/python3.7/dist-packages/seaborn/_decorators.py:43: FutureWarning: Pass the following variable as a keyword arg: x. From version 0.12, the only valid positional argument will be `data`, and passing other arguments without an explicit keyword will result in an error or misinterpretation.\n",
            "  FutureWarning\n"
          ]
        },
        {
          "output_type": "display_data",
          "data": {
            "image/png": "[encoded data removed]",
            "text/plain": [
              "<Figure size 432x288 with 1 Axes>"
            ]
          },
          "metadata": {
            "needs_background": "light"
          }
        }
      ]
    },
    {
      "cell_type": "code",
      "metadata": {
        "colab": {
          "base_uri": "https://localhost:8080/",
          "height": 334
        },
        "id": "v3N4XWEOQkxs",
        "outputId": "5fd5021f-2114-4238-95d7-26c61b4bd34d"
      },
      "source": [
        "sns.countplot(dataset['sex']); #bernouli"
      ],
      "execution_count": 193,
      "outputs": [
        {
          "output_type": "stream",
          "name": "stderr",
          "text": [
            "/usr/local/lib/python3.7/dist-packages/seaborn/_decorators.py:43: FutureWarning: Pass the following variable as a keyword arg: x. From version 0.12, the only valid positional argument will be `data`, and passing other arguments without an explicit keyword will result in an error or misinterpretation.\n",
            "  FutureWarning\n"
          ]
        },
        {
          "output_type": "display_data",
          "data": {
            "image/png": "[encoded data removed]",
            "text/plain": [
              "<Figure size 432x288 with 1 Axes>"
            ]
          },
          "metadata": {
            "needs_background": "light"
          }
        }
      ]
    },
    {
      "cell_type": "code",
      "metadata": {
        "colab": {
          "base_uri": "https://localhost:8080/",
          "height": 334
        },
        "id": "NGl-hM4MQssc",
        "outputId": "23efd648-f061-462e-f740-8bd6ac4cf7b8"
      },
      "source": [
        "sns.countplot(dataset['income']); #bernouli"
      ],
      "execution_count": 194,
      "outputs": [
        {
          "output_type": "stream",
          "name": "stderr",
          "text": [
            "/usr/local/lib/python3.7/dist-packages/seaborn/_decorators.py:43: FutureWarning: Pass the following variable as a keyword arg: x. From version 0.12, the only valid positional argument will be `data`, and passing other arguments without an explicit keyword will result in an error or misinterpretation.\n",
            "  FutureWarning\n"
          ]
        },
        {
          "output_type": "display_data",
          "data": {
            "image/png": "[encoded data removed]",
            "text/plain": [
              "<Figure size 432x288 with 1 Axes>"
            ]
          },
          "metadata": {
            "needs_background": "light"
          }
        }
      ]
    }
  ]
}