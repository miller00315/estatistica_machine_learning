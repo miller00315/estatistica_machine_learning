{
  "nbformat": 4,
  "nbformat_minor": 0,
  "metadata": {
    "colab": {
      "name": "probabilidade.ipynb",
      "provenance": [],
      "authorship_tag": "ABX9TyOSBToVdUuQaWWCHNWnawEB",
      "include_colab_link": true
    },
    "kernelspec": {
      "name": "python3",
      "display_name": "Python 3"
    },
    "language_info": {
      "name": "python"
    }
  },
  "cells": [
    {
      "cell_type": "markdown",
      "metadata": {
        "id": "view-in-github",
        "colab_type": "text"
      },
      "source": [
        "<a href=\"https://colab.research.google.com/github/miller00315/estatistica_machine_learning/blob/master/probabilidade.ipynb\" target=\"_parent\"><img src=\"https://colab.research.google.com/assets/colab-badge.svg\" alt=\"Open In Colab\"/></a>"
      ]
    },
    {
      "cell_type": "code",
      "metadata": {
        "id": "GBRfOQ3to0qH"
      },
      "source": [
        "import numpy as np\n",
        "from scipy import stats\n",
        "import seaborn as sns\n",
        "import math"
      ],
      "execution_count": 1,
      "outputs": []
    },
    {
      "cell_type": "markdown",
      "metadata": {
        "id": "6paMqk6MytXF"
      },
      "source": [
        "Permutação"
      ]
    },
    {
      "cell_type": "code",
      "metadata": {
        "colab": {
          "base_uri": "https://localhost:8080/"
        },
        "id": "iXCpKD7DyvJg",
        "outputId": "f3baf8f0-0dd2-4fab-d1ed-822ff956b6b9"
      },
      "source": [
        "math.factorial(3)"
      ],
      "execution_count": 2,
      "outputs": [
        {
          "output_type": "execute_result",
          "data": {
            "text/plain": [
              "6"
            ]
          },
          "metadata": {},
          "execution_count": 2
        }
      ]
    },
    {
      "cell_type": "markdown",
      "metadata": {
        "id": "wvO6CZvdzdW4"
      },
      "source": [
        "Permutação por subconjunto sem repetição"
      ]
    },
    {
      "cell_type": "code",
      "metadata": {
        "colab": {
          "base_uri": "https://localhost:8080/"
        },
        "id": "f0bcqq9qzRBh",
        "outputId": "bd733eca-f7c4-4d8e-e953-eea9582f5448"
      },
      "source": [
        "math.factorial(36) / math.factorial(36 - 5) # fatorial do espaço amostral divido pelo fatorial da subtração do espaço amostral meno o tamanho do evento"
      ],
      "execution_count": 4,
      "outputs": [
        {
          "output_type": "execute_result",
          "data": {
            "text/plain": [
              "45239040.0"
            ]
          },
          "metadata": {},
          "execution_count": 4
        }
      ]
    },
    {
      "cell_type": "markdown",
      "metadata": {
        "id": "S-D--f920MTV"
      },
      "source": [
        "Permutação por subconjunto com repetição"
      ]
    },
    {
      "cell_type": "code",
      "metadata": {
        "colab": {
          "base_uri": "https://localhost:8080/"
        },
        "id": "DoByp-Tb0CiL",
        "outputId": "1c017531-fea8-4b80-ba51-620a49d6ffe7"
      },
      "source": [
        "math.pow(36, 5) #exponencial do espaço amostral pelo tamanho do evento"
      ],
      "execution_count": 5,
      "outputs": [
        {
          "output_type": "execute_result",
          "data": {
            "text/plain": [
              "60466176.0"
            ]
          },
          "metadata": {},
          "execution_count": 5
        }
      ]
    },
    {
      "cell_type": "markdown",
      "metadata": {
        "id": "nKwWVJ58y_Fw"
      },
      "source": [
        "Combinação (a ordem não importa) sem considerar repetições"
      ]
    },
    {
      "cell_type": "code",
      "metadata": {
        "colab": {
          "base_uri": "https://localhost:8080/"
        },
        "id": "KRSU_Qwg0kwz",
        "outputId": "f23ba675-9b59-476d-e69b-062ca062cf30"
      },
      "source": [
        "math.factorial(6) /(math.factorial(2)* math.factorial(6 - 2)) # fatorial do tamanho do espaço amostral dividido pelo fatorial do tamanho do event vezes o fatorial do espaço amostrla menos o tamanho do evento"
      ],
      "execution_count": 6,
      "outputs": [
        {
          "output_type": "execute_result",
          "data": {
            "text/plain": [
              "15.0"
            ]
          },
          "metadata": {},
          "execution_count": 6
        }
      ]
    },
    {
      "cell_type": "markdown",
      "metadata": {
        "id": "CU2hVEJZ1FI_"
      },
      "source": [
        "Combinações considerando repetições"
      ]
    },
    {
      "cell_type": "code",
      "metadata": {
        "colab": {
          "base_uri": "https://localhost:8080/"
        },
        "id": "6GE8rGSJ1IfX",
        "outputId": "62d377bc-9df6-46c4-8e51-719e32cb8c12"
      },
      "source": [
        "math.factorial(6 + 2 - 1) / (math.factorial(2) * math.factorial(6 - 1)) # fatorial do tamannho do espaço amostral mais o tamanho do evento menos 1 divido por fatorial do tamanho do evento vezes fatorial do tamanho do espaço amostral menos 1"
      ],
      "execution_count": 9,
      "outputs": [
        {
          "output_type": "execute_result",
          "data": {
            "text/plain": [
              "21.0"
            ]
          },
          "metadata": {},
          "execution_count": 9
        }
      ]
    },
    {
      "cell_type": "markdown",
      "metadata": {
        "id": "Tz6BQC4019pz"
      },
      "source": [
        "Interseção, união e complemento (utilizando regras de conjunto)"
      ]
    },
    {
      "cell_type": "code",
      "metadata": {
        "id": "lJCHXkLt0bIt"
      },
      "source": [
        "a = (0,1,2,3,4,5,6,7)\n",
        "b =(0,2,4,6,8)"
      ],
      "execution_count": 10,
      "outputs": []
    },
    {
      "cell_type": "code",
      "metadata": {
        "colab": {
          "base_uri": "https://localhost:8080/"
        },
        "id": "N0q7ms4P3Ph5",
        "outputId": "c443e12b-65e6-4f3b-c946-71b6ed0eaf42"
      },
      "source": [
        "set(a) and set(b) #interseção"
      ],
      "execution_count": 12,
      "outputs": [
        {
          "output_type": "execute_result",
          "data": {
            "text/plain": [
              "{0, 2, 4, 6, 8}"
            ]
          },
          "metadata": {},
          "execution_count": 12
        }
      ]
    },
    {
      "cell_type": "code",
      "metadata": {
        "colab": {
          "base_uri": "https://localhost:8080/"
        },
        "id": "tNIAA2Z03YvF",
        "outputId": "60c9198d-c6ba-40af-d7c3-930a82e9a3c7"
      },
      "source": [
        "set(a) | set(b) # união"
      ],
      "execution_count": 14,
      "outputs": [
        {
          "output_type": "execute_result",
          "data": {
            "text/plain": [
              "{0, 1, 2, 3, 4, 5, 6, 7, 8}"
            ]
          },
          "metadata": {},
          "execution_count": 14
        }
      ]
    },
    {
      "cell_type": "code",
      "metadata": {
        "colab": {
          "base_uri": "https://localhost:8080/"
        },
        "id": "cYM4oUt-3eWm",
        "outputId": "0ef0d256-d6bf-4131-91a1-f3b78ea87429"
      },
      "source": [
        "set(a).difference(set(b)), set(b).difference(set(a))  # Diferença"
      ],
      "execution_count": 16,
      "outputs": [
        {
          "output_type": "execute_result",
          "data": {
            "text/plain": [
              "({1, 3, 5, 7}, {8})"
            ]
          },
          "metadata": {},
          "execution_count": 16
        }
      ]
    },
    {
      "cell_type": "code",
      "metadata": {
        "colab": {
          "base_uri": "https://localhost:8080/"
        },
        "id": "4z0DC5j56YkJ",
        "outputId": "a2528cce-33b5-444e-dc3b-2ba9b4b8dd95"
      },
      "source": [
        "p = 40\n",
        "j = 30\n",
        "intersection = 20\n",
        "\n",
        "intersection / p # and um e não outro\n",
        "\n",
        "40 / 90 + 30 / 90 - 20 / 90 # adição um ou otro\n",
        "\n"
      ],
      "execution_count": 20,
      "outputs": [
        {
          "output_type": "execute_result",
          "data": {
            "text/plain": [
              "0.5555555555555555"
            ]
          },
          "metadata": {},
          "execution_count": 20
        }
      ]
    }
  ]
}