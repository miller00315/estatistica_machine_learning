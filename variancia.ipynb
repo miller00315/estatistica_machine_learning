{
  "nbformat": 4,
  "nbformat_minor": 0,
  "metadata": {
    "colab": {
      "name": "variancia.ipynb",
      "provenance": [],
      "authorship_tag": "ABX9TyMSAX2gQwpNqXI2qRTLJAzS",
      "include_colab_link": true
    },
    "kernelspec": {
      "name": "python3",
      "display_name": "Python 3"
    },
    "language_info": {
      "name": "python"
    }
  },
  "cells": [
    {
      "cell_type": "markdown",
      "metadata": {
        "id": "view-in-github",
        "colab_type": "text"
      },
      "source": [
        "<a href=\"https://colab.research.google.com/github/miller00315/estatistica_machine_learning/blob/master/variancia.ipynb\" target=\"_parent\"><img src=\"https://colab.research.google.com/assets/colab-badge.svg\" alt=\"Open In Colab\"/></a>"
      ]
    },
    {
      "cell_type": "code",
      "metadata": {
        "id": "_T12IT4fwbax"
      },
      "source": [
        "import numpy as np\n",
        "import math"
      ],
      "execution_count": 1,
      "outputs": []
    },
    {
      "cell_type": "code",
      "metadata": {
        "id": "HhlmeVjswlHT"
      },
      "source": [
        "data_odd = np.array([150, 151, 152, 152, 153, 154, 155, 155, 155])"
      ],
      "execution_count": 35,
      "outputs": []
    },
    {
      "cell_type": "code",
      "metadata": {
        "colab": {
          "base_uri": "https://localhost:8080/"
        },
        "id": "jngaXEXLwwG0",
        "outputId": "0507e9db-5846-4d78-a27e-1546b3fcaf43"
      },
      "source": [
        "arytmetic_mean = data_odd.sum() // len(data_odd) # Média aritmética\n",
        "\n",
        "arytmetic_mean"
      ],
      "execution_count": 36,
      "outputs": [
        {
          "output_type": "execute_result",
          "data": {
            "text/plain": [
              "153"
            ]
          },
          "metadata": {},
          "execution_count": 36
        }
      ]
    },
    {
      "cell_type": "code",
      "metadata": {
        "colab": {
          "base_uri": "https://localhost:8080/"
        },
        "id": "X3qEpa5exDKb",
        "outputId": "bf87e5d4-b5ce-467d-a2a8-9beceb2c2f48"
      },
      "source": [
        "diversion = abs(data_odd - arytmetic_mean) # Desvio, quando se tem um array o python efetua a subtração em todos os elementos, o abs desconsidera o sinal no resultado\n",
        "\n",
        "diversion"
      ],
      "execution_count": 37,
      "outputs": [
        {
          "output_type": "execute_result",
          "data": {
            "text/plain": [
              "array([3, 2, 1, 1, 0, 1, 2, 2, 2])"
            ]
          },
          "metadata": {},
          "execution_count": 37
        }
      ]
    },
    {
      "cell_type": "code",
      "metadata": {
        "colab": {
          "base_uri": "https://localhost:8080/"
        },
        "id": "MDLMkTKlxtJp",
        "outputId": "256030a6-d163-486e-8174-24879f672aa1"
      },
      "source": [
        "diversion = diversion ** 2 # elevamos o valor ao quadrado de acordo com a fórmula de desvio padrão\n",
        "\n",
        "diversion"
      ],
      "execution_count": 38,
      "outputs": [
        {
          "output_type": "execute_result",
          "data": {
            "text/plain": [
              "array([9, 4, 1, 1, 0, 1, 4, 4, 4])"
            ]
          },
          "metadata": {},
          "execution_count": 38
        }
      ]
    },
    {
      "cell_type": "code",
      "metadata": {
        "colab": {
          "base_uri": "https://localhost:8080/"
        },
        "id": "j_Q0XjEmx5eh",
        "outputId": "3421ec52-245e-458e-aafb-51c37004b37a"
      },
      "source": [
        "sum_diversion = diversion.sum()\n",
        "\n",
        "sum_diversion"
      ],
      "execution_count": 39,
      "outputs": [
        {
          "output_type": "execute_result",
          "data": {
            "text/plain": [
              "28"
            ]
          },
          "metadata": {},
          "execution_count": 39
        }
      ]
    },
    {
      "cell_type": "code",
      "metadata": {
        "colab": {
          "base_uri": "https://localhost:8080/"
        },
        "id": "o3onN7YtytSu",
        "outputId": "463e4698-5040-4730-d9cb-6ca99debf8f3"
      },
      "source": [
        "variance = sum_diversion / len(data_odd)\n",
        "\n",
        "variance"
      ],
      "execution_count": 40,
      "outputs": [
        {
          "output_type": "execute_result",
          "data": {
            "text/plain": [
              "3.111111111111111"
            ]
          },
          "metadata": {},
          "execution_count": 40
        }
      ]
    },
    {
      "cell_type": "code",
      "metadata": {
        "id": "o5F52v09y57T"
      },
      "source": [
        "def get_variance(dataset):\n",
        "  mean = dataset.sum() // len(dataset)\n",
        "  diversion = abs(data_odd - mean)\n",
        "  diversion = diversion ** 2\n",
        "  sum_diversion = diversion.sum()\n",
        "  return sum_diversion / len(data_odd)"
      ],
      "execution_count": 43,
      "outputs": []
    },
    {
      "cell_type": "code",
      "metadata": {
        "colab": {
          "base_uri": "https://localhost:8080/"
        },
        "id": "CXRkt5WxzW2c",
        "outputId": "433ba6f9-d26b-4da7-95fa-c1e29e7c51fc"
      },
      "source": [
        "get_variance(data_odd)"
      ],
      "execution_count": 44,
      "outputs": [
        {
          "output_type": "execute_result",
          "data": {
            "text/plain": [
              "3.111111111111111"
            ]
          },
          "metadata": {},
          "execution_count": 44
        }
      ]
    },
    {
      "cell_type": "markdown",
      "metadata": {
        "id": "r1QzdaZDy3Z6"
      },
      "source": [
        "Biblioteca"
      ]
    },
    {
      "cell_type": "code",
      "metadata": {
        "id": "KP4c5-w8y5bZ"
      },
      "source": [
        ""
      ],
      "execution_count": null,
      "outputs": []
    }
  ]
}