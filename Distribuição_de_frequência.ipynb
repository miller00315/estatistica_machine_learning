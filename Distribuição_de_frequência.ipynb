{
  "nbformat": 4,
  "nbformat_minor": 0,
  "metadata": {
    "colab": {
      "name": "Distribuição de frequência.ipynb",
      "provenance": [],
      "authorship_tag": "ABX9TyOfR+YWRG2vrJQ7SUd5u3V9",
      "include_colab_link": true
    },
    "kernelspec": {
      "name": "python3",
      "display_name": "Python 3"
    },
    "language_info": {
      "name": "python"
    }
  },
  "cells": [
    {
      "cell_type": "markdown",
      "metadata": {
        "id": "view-in-github",
        "colab_type": "text"
      },
      "source": [
        "<a href=\"https://colab.research.google.com/github/miller00315/estatistica_machine_learning/blob/master/Distribui%C3%A7%C3%A3o_de_frequ%C3%AAncia.ipynb\" target=\"_parent\"><img src=\"https://colab.research.google.com/assets/colab-badge.svg\" alt=\"Open In Colab\"/></a>"
      ]
    },
    {
      "cell_type": "markdown",
      "metadata": {
        "id": "9KeFNnSQ-Nra"
      },
      "source": [
        "**Importando as bibliotexas e ajustando os dados**"
      ]
    },
    {
      "cell_type": "code",
      "metadata": {
        "id": "W5CNij646vz-"
      },
      "source": [
        "import numpy as np\n",
        "import matplotlib.pyplot as plt\n",
        "import pandas as pd\n",
        "import seaborn as sns\n",
        "import math "
      ],
      "execution_count": 18,
      "outputs": []
    },
    {
      "cell_type": "code",
      "metadata": {
        "id": "FpvgcyCj-Kh0"
      },
      "source": [
        "data = np.array([160, 165, 167, 164, 160, 166, 160, 161, 150, 152, 173, 160, 155,\n",
        "                  164, 168, 162, 161, 168, 163, 156, 155, 169, 151, 170, 164,\n",
        "                  155, 152, 163, 160, 155, 157, 156, 158, 158, 161, 154, 161, 156, 172, 153])"
      ],
      "execution_count": 2,
      "outputs": []
    },
    {
      "cell_type": "markdown",
      "metadata": {
        "id": "IwJWF1_g-8WA"
      },
      "source": [
        "**Ordenação**"
      ]
    },
    {
      "cell_type": "code",
      "metadata": {
        "id": "jf7bX2nU-bUB"
      },
      "source": [
        "data = np.sort(data) #Ordena o array (gera o rol)"
      ],
      "execution_count": 3,
      "outputs": []
    },
    {
      "cell_type": "code",
      "metadata": {
        "colab": {
          "base_uri": "https://localhost:8080/"
        },
        "id": "qFRR5LBR_EoR",
        "outputId": "8a519094-e5fb-418f-dbda-ae902fd632be"
      },
      "source": [
        "data"
      ],
      "execution_count": 4,
      "outputs": [
        {
          "output_type": "execute_result",
          "data": {
            "text/plain": [
              "array([150, 151, 152, 152, 153, 154, 155, 155, 155, 155, 156, 156, 156,\n",
              "       157, 158, 158, 160, 160, 160, 160, 160, 161, 161, 161, 161, 162,\n",
              "       163, 163, 164, 164, 164, 165, 166, 167, 168, 168, 169, 170, 172,\n",
              "       173])"
            ]
          },
          "metadata": {},
          "execution_count": 4
        }
      ]
    },
    {
      "cell_type": "markdown",
      "metadata": {
        "id": "pwW_Tg50_cxp"
      },
      "source": [
        "**Coleta o mínimo e máximo valores**"
      ]
    },
    {
      "cell_type": "code",
      "metadata": {
        "colab": {
          "base_uri": "https://localhost:8080/"
        },
        "id": "eZczjAjN_JnX",
        "outputId": "4feadbf3-6b59-4701-d2fb-8f436fb64c54"
      },
      "source": [
        "min = data.min()\n",
        "min"
      ],
      "execution_count": 5,
      "outputs": [
        {
          "output_type": "execute_result",
          "data": {
            "text/plain": [
              "150"
            ]
          },
          "metadata": {},
          "execution_count": 5
        }
      ]
    },
    {
      "cell_type": "code",
      "metadata": {
        "colab": {
          "base_uri": "https://localhost:8080/"
        },
        "id": "v86Uw1ub_Ow7",
        "outputId": "52442263-3f8c-427d-ea9d-a0b06233cb63"
      },
      "source": [
        "max = data.max()\n",
        "max"
      ],
      "execution_count": 8,
      "outputs": [
        {
          "output_type": "execute_result",
          "data": {
            "text/plain": [
              "173"
            ]
          },
          "metadata": {},
          "execution_count": 8
        }
      ]
    },
    {
      "cell_type": "code",
      "metadata": {
        "colab": {
          "base_uri": "https://localhost:8080/"
        },
        "id": "9piwTen4_hml",
        "outputId": "a59e0227-8907-4ed6-9caf-a83958731d0e"
      },
      "source": [
        "np.unique(data, return_counts=True) # mostra a frequencia dos valores"
      ],
      "execution_count": 13,
      "outputs": [
        {
          "output_type": "execute_result",
          "data": {
            "text/plain": [
              "(array([150, 151, 152, 153, 154, 155, 156, 157, 158, 160, 161, 162, 163,\n",
              "        164, 165, 166, 167, 168, 169, 170, 172, 173]),\n",
              " array([1, 1, 2, 1, 1, 4, 3, 1, 2, 5, 4, 1, 2, 3, 1, 1, 1, 2, 1, 1, 1, 1]))"
            ]
          },
          "metadata": {},
          "execution_count": 13
        }
      ]
    },
    {
      "cell_type": "code",
      "metadata": {
        "colab": {
          "base_uri": "https://localhost:8080/",
          "height": 282
        },
        "id": "VLUA096p_5Fp",
        "outputId": "8f1f277a-28e4-4056-b8c0-99ed901ba602"
      },
      "source": [
        "plt.bar(data, data)"
      ],
      "execution_count": 14,
      "outputs": [
        {
          "output_type": "execute_result",
          "data": {
            "text/plain": [
              "<BarContainer object of 40 artists>"
            ]
          },
          "metadata": {},
          "execution_count": 14
        },
        {
          "output_type": "display_data",
          "data": {
            "image/png": "[encoded data removed]",
            "text/plain": [
              "<Figure size 432x288 with 1 Axes>"
            ]
          },
          "metadata": {
            "needs_background": "light"
          }
        }
      ]
    },
    {
      "cell_type": "markdown",
      "metadata": {
        "id": "hzwHSHlAAFWH"
      },
      "source": [
        "**Definir numero de classes**"
      ]
    },
    {
      "cell_type": "code",
      "metadata": {
        "colab": {
          "base_uri": "https://localhost:8080/"
        },
        "id": "ufPJcAtjADVs",
        "outputId": "764f9dd1-d342-4aa9-9251-037aa7a45851"
      },
      "source": [
        "dataCount = len(data)\n",
        "\n",
        "classQuantity = 1 + 3.3 * np.log10(dataCount) #fórmula de sturges para definir a quantidade de classes\n",
        "\n",
        "classQuantity = round(classQuantity) #Qunatidade de classes\n",
        "\n",
        "classQuantity"
      ],
      "execution_count": 16,
      "outputs": [
        {
          "output_type": "execute_result",
          "data": {
            "text/plain": [
              "6"
            ]
          },
          "metadata": {},
          "execution_count": 16
        }
      ]
    },
    {
      "cell_type": "markdown",
      "metadata": {
        "id": "7RcgaLaBAr0g"
      },
      "source": [
        "**Amplitude do intervalo**"
      ]
    },
    {
      "cell_type": "code",
      "metadata": {
        "colab": {
          "base_uri": "https://localhost:8080/"
        },
        "id": "vn6HGlzEArJM",
        "outputId": "96ab4e64-221d-402e-c387-8ef88f1474ea"
      },
      "source": [
        "AA = max - min\n",
        "AA"
      ],
      "execution_count": 20,
      "outputs": [
        {
          "output_type": "execute_result",
          "data": {
            "text/plain": [
              "23"
            ]
          },
          "metadata": {},
          "execution_count": 20
        }
      ]
    },
    {
      "cell_type": "markdown",
      "metadata": {
        "id": "Xt_U27FpBCx4"
      },
      "source": [
        ""
      ]
    },
    {
      "cell_type": "code",
      "metadata": {
        "colab": {
          "base_uri": "https://localhost:8080/"
        },
        "id": "n2PNL2ysBCfO",
        "outputId": "b9276e25-5175-4737-e65c-30a822498535"
      },
      "source": [
        "intervalAmplitude = math.ceil(AA / classQuantity)\n",
        "\n",
        "intervalAmplitude"
      ],
      "execution_count": 21,
      "outputs": [
        {
          "output_type": "execute_result",
          "data": {
            "text/plain": [
              "4"
            ]
          },
          "metadata": {},
          "execution_count": 21
        }
      ]
    },
    {
      "cell_type": "markdown",
      "metadata": {
        "id": "9Y6BgHq9B2P5"
      },
      "source": [
        "**Distirbuição de frequência**"
      ]
    },
    {
      "cell_type": "code",
      "metadata": {
        "colab": {
          "base_uri": "https://localhost:8080/"
        },
        "id": "Xu3N2CjBB8gM",
        "outputId": "def1c944-92b9-4bc8-c847-4ab3306baf26"
      },
      "source": [
        "intervals = np.arange(min, max + 2, step = intervalAmplitude)\n",
        "\n",
        "intervals"
      ],
      "execution_count": 23,
      "outputs": [
        {
          "output_type": "execute_result",
          "data": {
            "text/plain": [
              "array([150, 154, 158, 162, 166, 170, 174])"
            ]
          },
          "metadata": {},
          "execution_count": 23
        }
      ]
    },
    {
      "cell_type": "code",
      "metadata": {
        "id": "icsqF_NCCjGG"
      },
      "source": [
        "interval1, interval2, interval3, interval4, interval5, interval6 = 0,0,0,0,0,0\n",
        "\n",
        "for i in range(dataCount):\n",
        "    if data[i] >= intervals[0] and data[i] < intervals[1]:\n",
        "      interval1 += 1\n",
        "    elif data[i] >= intervals[1] and data[i] < intervals[2]:\n",
        "      interval2 += 1\n",
        "    elif data[i] >= intervals[2] and data[i] < intervals[3]:\n",
        "      interval3 += 1\n",
        "    elif data[i] >= intervals[3] and data[i] < intervals[4]:\n",
        "      interval4 += 1\n",
        "    elif data[i] >= intervals[4] and data[i] < intervals[5]:\n",
        "      interval5 += 1\n",
        "    elif data[i] >= intervals[5] and data[i] < intervals[6]:\n",
        "      interval6 += 1\n"
      ],
      "execution_count": 25,
      "outputs": []
    },
    {
      "cell_type": "code",
      "metadata": {
        "colab": {
          "base_uri": "https://localhost:8080/"
        },
        "id": "IPpiINhEDpj6",
        "outputId": "cbe1feaf-b831-4629-92cf-2c7ce929be41"
      },
      "source": [
        "intervalsList = []\n",
        "intervalsList.append(interval1)\n",
        "intervalsList.append(interval2)\n",
        "intervalsList.append(interval3)\n",
        "intervalsList.append(interval4)\n",
        "intervalsList.append(interval5)\n",
        "intervalsList.append(interval6)\n",
        "intervalsList"
      ],
      "execution_count": 26,
      "outputs": [
        {
          "output_type": "execute_result",
          "data": {
            "text/plain": [
              "[5, 9, 11, 7, 5, 3]"
            ]
          },
          "metadata": {},
          "execution_count": 26
        }
      ]
    },
    {
      "cell_type": "code",
      "metadata": {
        "colab": {
          "base_uri": "https://localhost:8080/"
        },
        "id": "9mjlyK4VEMDc",
        "outputId": "3a55c808-0b0c-4e86-dac8-64e3a5c4b134"
      },
      "source": [
        "classList = []\n",
        "\n",
        "for i in range(len(intervalsList)):\n",
        "  classList.append(str(intervals[i]) + '-' + str(intervals[i + 1]))\n",
        "\n",
        "classList"
      ],
      "execution_count": 29,
      "outputs": [
        {
          "output_type": "execute_result",
          "data": {
            "text/plain": [
              "['150-154', '154-158', '158-162', '162-166', '166-170', '170-174']"
            ]
          },
          "metadata": {},
          "execution_count": 29
        }
      ]
    },
    {
      "cell_type": "code",
      "metadata": {
        "colab": {
          "base_uri": "https://localhost:8080/",
          "height": 295
        },
        "id": "UJAaERKnFOcP",
        "outputId": "6ff78dff-3450-4ddf-a4cc-0aa9367cdae0"
      },
      "source": [
        "plt.bar(classList, intervalsList)\n",
        "plt.title('Histograma')\n",
        "plt.xlabel('intervals')\n",
        "plt.ylabel('values');"
      ],
      "execution_count": 30,
      "outputs": [
        {
          "output_type": "display_data",
          "data": {
            "image/png": "[encoded data removed]",
            "text/plain": [
              "<Figure size 432x288 with 1 Axes>"
            ]
          },
          "metadata": {
            "needs_background": "light"
          }
        }
      ]
    }
  ]
}