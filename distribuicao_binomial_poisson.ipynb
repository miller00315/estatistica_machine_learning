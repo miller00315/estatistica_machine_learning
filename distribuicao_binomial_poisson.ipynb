{
  "nbformat": 4,
  "nbformat_minor": 0,
  "metadata": {
    "colab": {
      "name": "distribuicao_binomial_poisson.ipynb",
      "provenance": [],
      "collapsed_sections": [],
      "authorship_tag": "ABX9TyNowX0APkkNblVyE/LeE7e6",
      "include_colab_link": true
    },
    "kernelspec": {
      "name": "python3",
      "display_name": "Python 3"
    },
    "language_info": {
      "name": "python"
    }
  },
  "cells": [
    {
      "cell_type": "markdown",
      "metadata": {
        "id": "view-in-github",
        "colab_type": "text"
      },
      "source": [
        "<a href=\"https://colab.research.google.com/github/miller00315/estatistica_machine_learning/blob/master/distribuicao_binomial_poisson.ipynb\" target=\"_parent\"><img src=\"https://colab.research.google.com/assets/colab-badge.svg\" alt=\"Open In Colab\"/></a>"
      ]
    },
    {
      "cell_type": "markdown",
      "metadata": {
        "id": "0QxFjhh6nJRV"
      },
      "source": [
        "*Binomial sucesso ou falha*"
      ]
    },
    {
      "cell_type": "code",
      "metadata": {
        "id": "poaV--e_jUlw"
      },
      "source": [
        "import pandas as pd\n",
        "import seaborn as sns\n",
        "import math\n",
        "from scipy import stats"
      ],
      "execution_count": 9,
      "outputs": []
    },
    {
      "cell_type": "code",
      "metadata": {
        "id": "S3BDAv_bjhjt"
      },
      "source": [
        "x = 5 # número de sucessos\n",
        "p = 0.5 #probabilidade de sucesso\n",
        "n = 10 #quantidade de tentativas - trials"
      ],
      "execution_count": 4,
      "outputs": []
    },
    {
      "cell_type": "code",
      "metadata": {
        "colab": {
          "base_uri": "https://localhost:8080/"
        },
        "id": "1jWSBKbJkAPj",
        "outputId": "ea65f5a4-3c7f-4717-82f3-331a22275e73"
      },
      "source": [
        "(math.factorial(n) / (math.factorial(n - x) * math.factorial(x))) * math.pow(p, x) * math.pow(1 - p, n - x)"
      ],
      "execution_count": 7,
      "outputs": [
        {
          "output_type": "execute_result",
          "data": {
            "text/plain": [
              "0.24609375"
            ]
          },
          "metadata": {},
          "execution_count": 7
        }
      ]
    },
    {
      "cell_type": "code",
      "metadata": {
        "colab": {
          "base_uri": "https://localhost:8080/"
        },
        "id": "Dvdu4V5UlrXK",
        "outputId": "e4ddfba7-ddf0-4652-ce9d-09b5d7bbee1b"
      },
      "source": [
        "stats.binom.pmf(x,n,p)"
      ],
      "execution_count": 10,
      "outputs": [
        {
          "output_type": "execute_result",
          "data": {
            "text/plain": [
              "0.24609375000000025"
            ]
          },
          "metadata": {},
          "execution_count": 10
        }
      ]
    },
    {
      "cell_type": "code",
      "metadata": {
        "id": "9uicBqFbl4b8"
      },
      "source": [
        "x = 7 # número de sucessos\n",
        "p = 0.7 #probabilidade de sucesso\n",
        "n = 10 #quantidade de tentativas - trials"
      ],
      "execution_count": 14,
      "outputs": []
    },
    {
      "cell_type": "code",
      "metadata": {
        "colab": {
          "base_uri": "https://localhost:8080/"
        },
        "id": "6eQDR1ogmA3d",
        "outputId": "a0ba9bd6-9156-44bc-98ca-541377b9ea51"
      },
      "source": [
        "(math.factorial(n) / (math.factorial(n - x) * math.factorial(x))) * math.pow(p, x) * math.pow(1 - p, n - x)"
      ],
      "execution_count": 15,
      "outputs": [
        {
          "output_type": "execute_result",
          "data": {
            "text/plain": [
              "0.266827932"
            ]
          },
          "metadata": {},
          "execution_count": 15
        }
      ]
    },
    {
      "cell_type": "code",
      "metadata": {
        "colab": {
          "base_uri": "https://localhost:8080/"
        },
        "id": "gmYT-OBmmOY2",
        "outputId": "1646246e-49a2-4d43-a9fd-8bc81e4a7796"
      },
      "source": [
        "stats.binom.pmf(x,n,p)"
      ],
      "execution_count": 17,
      "outputs": [
        {
          "output_type": "execute_result",
          "data": {
            "text/plain": [
              "0.26682793200000016"
            ]
          },
          "metadata": {},
          "execution_count": 17
        }
      ]
    },
    {
      "cell_type": "code",
      "metadata": {
        "id": "gQwiFPaBmTl4"
      },
      "source": [
        "x = 1 # número de sucessos\n",
        "p = 0.05 #probabilidade de sucesso\n",
        "n = 50 #quantidade de tentativas - trials"
      ],
      "execution_count": 18,
      "outputs": []
    },
    {
      "cell_type": "code",
      "metadata": {
        "colab": {
          "base_uri": "https://localhost:8080/"
        },
        "id": "IVRpEX-imhiE",
        "outputId": "ef4d2881-19bd-425b-f50d-7bcd52338e94"
      },
      "source": [
        "stats.binom.pmf(x,n,p)"
      ],
      "execution_count": 19,
      "outputs": [
        {
          "output_type": "execute_result",
          "data": {
            "text/plain": [
              "0.20248677704398393"
            ]
          },
          "metadata": {},
          "execution_count": 19
        }
      ]
    },
    {
      "cell_type": "code",
      "metadata": {
        "id": "0LcKy-CjmmhW"
      },
      "source": [
        "x = 0 # número de sucessos\n",
        "p = 0.05 #probabilidade de sucesso\n",
        "n = 50 #quantidade de tentativas - trials"
      ],
      "execution_count": 20,
      "outputs": []
    },
    {
      "cell_type": "code",
      "metadata": {
        "colab": {
          "base_uri": "https://localhost:8080/"
        },
        "id": "YdJaoTr9mpxG",
        "outputId": "4086990d-40f6-4c15-90fc-56890522d877"
      },
      "source": [
        "stats.binom.pmf(x,n,p)"
      ],
      "execution_count": 21,
      "outputs": [
        {
          "output_type": "execute_result",
          "data": {
            "text/plain": [
              "0.0769449752767133"
            ]
          },
          "metadata": {},
          "execution_count": 21
        }
      ]
    },
    {
      "cell_type": "markdown",
      "metadata": {
        "id": "kB9Qj5i2nL74"
      },
      "source": [
        "Poisson sucesso ou falha em um espaço temporal"
      ]
    },
    {
      "cell_type": "code",
      "metadata": {
        "id": "vM9gvaIMnPoe"
      },
      "source": [
        "euler_number = 2.71828"
      ],
      "execution_count": 22,
      "outputs": []
    },
    {
      "cell_type": "code",
      "metadata": {
        "colab": {
          "base_uri": "https://localhost:8080/"
        },
        "id": "5P-KKW-UoGb-",
        "outputId": "89d5c9e6-ff3d-43e7-b9bb-886b04d00b55"
      },
      "source": [
        "x = 8 # quantidade de eventos\n",
        "media = 10 #media no tempo\n",
        "math.e # numero de euler"
      ],
      "execution_count": 32,
      "outputs": [
        {
          "output_type": "execute_result",
          "data": {
            "text/plain": [
              "2.718281828459045"
            ]
          },
          "metadata": {},
          "execution_count": 32
        }
      ]
    },
    {
      "cell_type": "code",
      "metadata": {
        "colab": {
          "base_uri": "https://localhost:8080/"
        },
        "id": "PrWl9P_IoI-M",
        "outputId": "298ca846-c731-4022-98d4-af9f76e8f5c6"
      },
      "source": [
        "math.pow(math.e, -media) * (math.pow(media, x) / math.factorial(x))"
      ],
      "execution_count": 34,
      "outputs": [
        {
          "output_type": "execute_result",
          "data": {
            "text/plain": [
              "0.11259903214902002"
            ]
          },
          "metadata": {},
          "execution_count": 34
        }
      ]
    },
    {
      "cell_type": "code",
      "metadata": {
        "colab": {
          "base_uri": "https://localhost:8080/"
        },
        "id": "Lzfuxcpoo5r0",
        "outputId": "29688e1e-b0ef-46ae-8774-b99b3274fa35"
      },
      "source": [
        "stats.poisson.pmf(x, media)"
      ],
      "execution_count": 33,
      "outputs": [
        {
          "output_type": "execute_result",
          "data": {
            "text/plain": [
              "0.11259903214902009"
            ]
          },
          "metadata": {},
          "execution_count": 33
        }
      ]
    },
    {
      "cell_type": "code",
      "metadata": {
        "colab": {
          "base_uri": "https://localhost:8080/"
        },
        "id": "DKAwIVV9pYiA",
        "outputId": "8fbbec4c-a984-4852-d664-9038d9468a33"
      },
      "source": [
        "x = 1 # quantidade de eventos\n",
        "media = 0.05 #media no tempo\n",
        "\n",
        "stats.poisson.pmf(x, media)"
      ],
      "execution_count": 39,
      "outputs": [
        {
          "output_type": "execute_result",
          "data": {
            "text/plain": [
              "0.04756147122503571"
            ]
          },
          "metadata": {},
          "execution_count": 39
        }
      ]
    },
    {
      "cell_type": "code",
      "metadata": {
        "id": "l6dAAXAOpE8m"
      },
      "source": [
        "x = 5 # quantidade de eventos\n",
        "media = 50 #media no tempo"
      ],
      "execution_count": 37,
      "outputs": []
    },
    {
      "cell_type": "code",
      "metadata": {
        "colab": {
          "base_uri": "https://localhost:8080/"
        },
        "id": "Q_l-tTJwpJdx",
        "outputId": "40303384-e185-43df-933c-6a119425aafe"
      },
      "source": [
        "stats.poisson.pmf(x, media)"
      ],
      "execution_count": 38,
      "outputs": [
        {
          "output_type": "execute_result",
          "data": {
            "text/plain": [
              "5.02278606240605e-16"
            ]
          },
          "metadata": {},
          "execution_count": 38
        }
      ]
    }
  ]
}