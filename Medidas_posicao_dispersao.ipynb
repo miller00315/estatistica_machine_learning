{
  "nbformat": 4,
  "nbformat_minor": 0,
  "metadata": {
    "colab": {
      "name": "Medidas_posicao_dispersao.ipynb",
      "provenance": [],
      "authorship_tag": "ABX9TyNC/qo4EeqtCpy38pt06CYa",
      "include_colab_link": true
    },
    "kernelspec": {
      "name": "python3",
      "display_name": "Python 3"
    },
    "language_info": {
      "name": "python"
    }
  },
  "cells": [
    {
      "cell_type": "markdown",
      "metadata": {
        "id": "view-in-github",
        "colab_type": "text"
      },
      "source": [
        "<a href=\"https://colab.research.google.com/github/miller00315/estatistica_machine_learning/blob/master/Medidas_posicao_dispersao.ipynb\" target=\"_parent\"><img src=\"https://colab.research.google.com/assets/colab-badge.svg\" alt=\"Open In Colab\"/></a>"
      ]
    },
    {
      "cell_type": "markdown",
      "metadata": {
        "id": "QQ-DZNDaESso"
      },
      "source": [
        "**Medidas de Disperção**\n"
      ]
    },
    {
      "cell_type": "markdown",
      "metadata": {
        "id": "zS789u9lEhQU"
      },
      "source": [
        "Base de dados"
      ]
    },
    {
      "cell_type": "code",
      "metadata": {
        "id": "EJGQeexhAsH4"
      },
      "source": [
        "import numpy as np\n",
        "import statistics\n",
        "from scipy import stats\n",
        "import math"
      ],
      "execution_count": 1,
      "outputs": []
    },
    {
      "cell_type": "code",
      "metadata": {
        "id": "rCiNDDsTEj0B"
      },
      "source": [
        "dados = np.array([150, 151, 152, 152, 153, 154, 155, 155, 155, 155, 156, 156, 156,\n",
        "                  157, 158, 158, 160, 160, 160, 160, 160, 161, 161, 161, 161, 162,\n",
        "                  163, 163, 164, 164, 164, 165, 166, 167, 168, 168, 169, 170, 172,\n",
        "                  173])"
      ],
      "execution_count": 2,
      "outputs": []
    },
    {
      "cell_type": "markdown",
      "metadata": {
        "id": "KXsw1sFbEmYr"
      },
      "source": [
        "Média aritmética simples"
      ]
    },
    {
      "cell_type": "code",
      "metadata": {
        "colab": {
          "base_uri": "https://localhost:8080/"
        },
        "id": "uU2AW6YdEqYY",
        "outputId": "aa559e69-e865-4518-cf68-e941231e0db5"
      },
      "source": [
        "dados.sum() / len(dados), dados.mean(), statistics.mean(dados) # Média aritmética manual, utilizando o numpy e o pacote statistic "
      ],
      "execution_count": 9,
      "outputs": [
        {
          "output_type": "execute_result",
          "data": {
            "text/plain": [
              "(160.375, 160.375, 160)"
            ]
          },
          "metadata": {},
          "execution_count": 9
        }
      ]
    },
    {
      "cell_type": "markdown",
      "metadata": {
        "id": "4tYkRwcIFjKu"
      },
      "source": [
        "Moda"
      ]
    },
    {
      "cell_type": "code",
      "metadata": {
        "colab": {
          "base_uri": "https://localhost:8080/"
        },
        "id": "P0A2yQvlFvNI",
        "outputId": "3ed7be91-c18f-4262-c5c1-db5e9180f36a"
      },
      "source": [
        "statistics.mode(dados) # Moda com statistics"
      ],
      "execution_count": 10,
      "outputs": [
        {
          "output_type": "execute_result",
          "data": {
            "text/plain": [
              "160"
            ]
          },
          "metadata": {},
          "execution_count": 10
        }
      ]
    },
    {
      "cell_type": "code",
      "metadata": {
        "colab": {
          "base_uri": "https://localhost:8080/"
        },
        "id": "vBIGvkuCF9WU",
        "outputId": "1019f5ee-4336-4d06-b53b-a682fcb21da9"
      },
      "source": [
        "stats.mode(dados) # moda com statis"
      ],
      "execution_count": 11,
      "outputs": [
        {
          "output_type": "execute_result",
          "data": {
            "text/plain": [
              "ModeResult(mode=array([160]), count=array([5]))"
            ]
          },
          "metadata": {},
          "execution_count": 11
        }
      ]
    },
    {
      "cell_type": "markdown",
      "metadata": {
        "id": "35BAgxGhGGSs"
      },
      "source": [
        "*Mediana*"
      ]
    },
    {
      "cell_type": "code",
      "metadata": {
        "id": "Z0-xRze0GSLj"
      },
      "source": [
        "dados_impar = [150, 151, 152,152, 153, 154, 155, 155, 155]"
      ],
      "execution_count": 12,
      "outputs": []
    },
    {
      "cell_type": "markdown",
      "metadata": {
        "id": "8eYswTIHGMCd"
      },
      "source": [
        "Calculo manual impar"
      ]
    },
    {
      "cell_type": "code",
      "metadata": {
        "colab": {
          "base_uri": "https://localhost:8080/"
        },
        "id": "E-qQ3ZVhGKq8",
        "outputId": "18dab20b-c911-456b-a953-d1f05ec73036"
      },
      "source": [
        "position =  len(dados_impar) / 2\n",
        "position"
      ],
      "execution_count": 13,
      "outputs": [
        {
          "output_type": "execute_result",
          "data": {
            "text/plain": [
              "4.5"
            ]
          },
          "metadata": {},
          "execution_count": 13
        }
      ]
    },
    {
      "cell_type": "code",
      "metadata": {
        "colab": {
          "base_uri": "https://localhost:8080/"
        },
        "id": "3l4MXYLDGIZ6",
        "outputId": "73f4c9e8-77f3-434e-d2d4-32ee7005ed51"
      },
      "source": [
        "position = math.ceil(position) #Arredonda a posição para cima\n",
        "position"
      ],
      "execution_count": 15,
      "outputs": [
        {
          "output_type": "execute_result",
          "data": {
            "text/plain": [
              "5"
            ]
          },
          "metadata": {},
          "execution_count": 15
        }
      ]
    },
    {
      "cell_type": "code",
      "metadata": {
        "colab": {
          "base_uri": "https://localhost:8080/"
        },
        "id": "G_iewvwsGykX",
        "outputId": "4262b51c-ea3c-4b0f-bc51-5e7685090696"
      },
      "source": [
        "dados_impar[position -1]"
      ],
      "execution_count": 16,
      "outputs": [
        {
          "output_type": "execute_result",
          "data": {
            "text/plain": [
              "153"
            ]
          },
          "metadata": {},
          "execution_count": 16
        }
      ]
    },
    {
      "cell_type": "markdown",
      "metadata": {
        "id": "ZUqUNMQcG_J3"
      },
      "source": [
        "Calculo manual par"
      ]
    },
    {
      "cell_type": "code",
      "metadata": {
        "colab": {
          "base_uri": "https://localhost:8080/"
        },
        "id": "FYxFmUMqHBuZ",
        "outputId": "fff4cb63-9c89-41be-9f64-4d5f125af5dc"
      },
      "source": [
        "position = len(dados) // 2 #Retorna somente a parte inteira\n",
        "position"
      ],
      "execution_count": 20,
      "outputs": [
        {
          "output_type": "execute_result",
          "data": {
            "text/plain": [
              "20"
            ]
          },
          "metadata": {},
          "execution_count": 20
        }
      ]
    },
    {
      "cell_type": "code",
      "metadata": {
        "colab": {
          "base_uri": "https://localhost:8080/"
        },
        "id": "uTBe9QIQIGcj",
        "outputId": "5ef723fd-19fe-4964-b724-5ec074461ea2"
      },
      "source": [
        "dados[position -1], dados[position]"
      ],
      "execution_count": 21,
      "outputs": [
        {
          "output_type": "execute_result",
          "data": {
            "text/plain": [
              "(160, 160)"
            ]
          },
          "metadata": {},
          "execution_count": 21
        }
      ]
    },
    {
      "cell_type": "code",
      "metadata": {
        "colab": {
          "base_uri": "https://localhost:8080/"
        },
        "id": "jnUtJDmKIdUL",
        "outputId": "62c224d5-2f4f-4fb0-a8ba-7002b3883eef"
      },
      "source": [
        "mediana = (dados[position -1] + dados[position]) / 2\n",
        "\n",
        "mediana"
      ],
      "execution_count": 22,
      "outputs": [
        {
          "output_type": "execute_result",
          "data": {
            "text/plain": [
              "160.0"
            ]
          },
          "metadata": {},
          "execution_count": 22
        }
      ]
    },
    {
      "cell_type": "markdown",
      "metadata": {
        "id": "YhxfJvwtIyHq"
      },
      "source": [
        "Biblioteca"
      ]
    },
    {
      "cell_type": "code",
      "metadata": {
        "colab": {
          "base_uri": "https://localhost:8080/"
        },
        "id": "tXwxkoIJInk7",
        "outputId": "daa8528b-c343-4878-d772-f76d20753dbd"
      },
      "source": [
        "np.median(dados_impar)"
      ],
      "execution_count": 23,
      "outputs": [
        {
          "output_type": "execute_result",
          "data": {
            "text/plain": [
              "153.0"
            ]
          },
          "metadata": {},
          "execution_count": 23
        }
      ]
    },
    {
      "cell_type": "code",
      "metadata": {
        "colab": {
          "base_uri": "https://localhost:8080/"
        },
        "id": "Yui-ZpGnIuEC",
        "outputId": "6e321454-4228-4d29-8d88-4e4b8d3b2013"
      },
      "source": [
        "np.median(dados)"
      ],
      "execution_count": 24,
      "outputs": [
        {
          "output_type": "execute_result",
          "data": {
            "text/plain": [
              "160.0"
            ]
          },
          "metadata": {},
          "execution_count": 24
        }
      ]
    },
    {
      "cell_type": "code",
      "metadata": {
        "colab": {
          "base_uri": "https://localhost:8080/"
        },
        "id": "OrdoJF6qI1Pv",
        "outputId": "d1920c76-28cc-4dd7-caa3-c2ce528bc9fb"
      },
      "source": [
        "statistics.median(dados_impar), statistics.median(dados)"
      ],
      "execution_count": 25,
      "outputs": [
        {
          "output_type": "execute_result",
          "data": {
            "text/plain": [
              "(153, 160.0)"
            ]
          },
          "metadata": {},
          "execution_count": 25
        }
      ]
    }
  ]
}