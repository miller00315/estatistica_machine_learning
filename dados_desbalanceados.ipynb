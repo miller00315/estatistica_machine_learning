{
  "nbformat": 4,
  "nbformat_minor": 0,
  "metadata": {
    "colab": {
      "name": "dados_desbalanceados.ipynb",
      "provenance": [],
      "collapsed_sections": [],
      "authorship_tag": "ABX9TyMRmnDmvD/hH9fd7yZF0/fz",
      "include_colab_link": true
    },
    "kernelspec": {
      "name": "python3",
      "display_name": "Python 3"
    },
    "language_info": {
      "name": "python"
    }
  },
  "cells": [
    {
      "cell_type": "markdown",
      "metadata": {
        "id": "view-in-github",
        "colab_type": "text"
      },
      "source": [
        "<a href=\"https://colab.research.google.com/github/miller00315/estatistica_machine_learning/blob/master/dados_desbalanceados.ipynb\" target=\"_parent\"><img src=\"https://colab.research.google.com/assets/colab-badge.svg\" alt=\"Open In Colab\"/></a>"
      ]
    },
    {
      "cell_type": "code",
      "metadata": {
        "id": "sZCEe2vS9a2S"
      },
      "source": [
        "import pandas as pd\n",
        "import numpy as np\n",
        "import random\n",
        "import seaborn as sns # visualização de graficos\n",
        "from sklearn.model_selection import  train_test_split\n",
        "from sklearn.naive_bayes import  GaussianNB\n",
        "from sklearn.ensemble import RandomForestClassifier\n",
        "from sklearn.metrics import accuracy_score\n",
        "from sklearn.metrics import confusion_matrix\n",
        "from imblearn.under_sampling import TomekLinks\n",
        "from imblearn.over_sampling import SMOTE"
      ],
      "execution_count": 71,
      "outputs": []
    },
    {
      "cell_type": "markdown",
      "metadata": {
        "id": "-YyQ0Opi_pez"
      },
      "source": [
        "Dados desbalanceados"
      ]
    },
    {
      "cell_type": "markdown",
      "metadata": {
        "id": "uoytta4o_su3"
      },
      "source": [
        "Carregamento de dados"
      ]
    },
    {
      "cell_type": "code",
      "metadata": {
        "id": "e8fDF3UO_vhe"
      },
      "source": [
        "dataset = pd.read_csv('credit_data.csv')"
      ],
      "execution_count": 5,
      "outputs": []
    },
    {
      "cell_type": "code",
      "metadata": {
        "colab": {
          "base_uri": "https://localhost:8080/"
        },
        "id": "OW7UyBRZACZV",
        "outputId": "f40f0610-e659-4e4e-e863-1c52762e4311"
      },
      "source": [
        "dataset.shape"
      ],
      "execution_count": null,
      "outputs": [
        {
          "output_type": "execute_result",
          "data": {
            "text/plain": [
              "(2000, 5)"
            ]
          },
          "metadata": {
            "tags": []
          },
          "execution_count": 4
        }
      ]
    },
    {
      "cell_type": "code",
      "metadata": {
        "colab": {
          "base_uri": "https://localhost:8080/",
          "height": 204
        },
        "id": "bHlnhjyeAHpZ",
        "outputId": "e21ec2d8-ccbe-45c2-c7ab-1371840648ec"
      },
      "source": [
        "dataset.head()"
      ],
      "execution_count": null,
      "outputs": [
        {
          "output_type": "execute_result",
          "data": {
            "text/html": [
              "<div>\n",
              "<style scoped>\n",
              "    .dataframe tbody tr th:only-of-type {\n",
              "        vertical-align: middle;\n",
              "    }\n",
              "\n",
              "    .dataframe tbody tr th {\n",
              "        vertical-align: top;\n",
              "    }\n",
              "\n",
              "    .dataframe thead th {\n",
              "        text-align: right;\n",
              "    }\n",
              "</style>\n",
              "<table border=\"1\" class=\"dataframe\">\n",
              "  <thead>\n",
              "    <tr style=\"text-align: right;\">\n",
              "      <th></th>\n",
              "      <th>i#clientid</th>\n",
              "      <th>income</th>\n",
              "      <th>age</th>\n",
              "      <th>loan</th>\n",
              "      <th>c#default</th>\n",
              "    </tr>\n",
              "  </thead>\n",
              "  <tbody>\n",
              "    <tr>\n",
              "      <th>0</th>\n",
              "      <td>1</td>\n",
              "      <td>66155.925095</td>\n",
              "      <td>59.017015</td>\n",
              "      <td>8106.532131</td>\n",
              "      <td>0</td>\n",
              "    </tr>\n",
              "    <tr>\n",
              "      <th>1</th>\n",
              "      <td>2</td>\n",
              "      <td>34415.153966</td>\n",
              "      <td>48.117153</td>\n",
              "      <td>6564.745018</td>\n",
              "      <td>0</td>\n",
              "    </tr>\n",
              "    <tr>\n",
              "      <th>2</th>\n",
              "      <td>3</td>\n",
              "      <td>57317.170063</td>\n",
              "      <td>63.108049</td>\n",
              "      <td>8020.953296</td>\n",
              "      <td>0</td>\n",
              "    </tr>\n",
              "    <tr>\n",
              "      <th>3</th>\n",
              "      <td>4</td>\n",
              "      <td>42709.534201</td>\n",
              "      <td>45.751972</td>\n",
              "      <td>6103.642260</td>\n",
              "      <td>0</td>\n",
              "    </tr>\n",
              "    <tr>\n",
              "      <th>4</th>\n",
              "      <td>5</td>\n",
              "      <td>66952.688845</td>\n",
              "      <td>18.584336</td>\n",
              "      <td>8770.099235</td>\n",
              "      <td>1</td>\n",
              "    </tr>\n",
              "  </tbody>\n",
              "</table>\n",
              "</div>"
            ],
            "text/plain": [
              "   i#clientid        income        age         loan  c#default\n",
              "0           1  66155.925095  59.017015  8106.532131          0\n",
              "1           2  34415.153966  48.117153  6564.745018          0\n",
              "2           3  57317.170063  63.108049  8020.953296          0\n",
              "3           4  42709.534201  45.751972  6103.642260          0\n",
              "4           5  66952.688845  18.584336  8770.099235          1"
            ]
          },
          "metadata": {
            "tags": []
          },
          "execution_count": 5
        }
      ]
    },
    {
      "cell_type": "code",
      "metadata": {
        "id": "csmpCgIQAQbN"
      },
      "source": [
        "dataset.dropna(inplace=True) #remove variáveis nulas ou incompletas, inplace true indica que não precisa ser criada uma nova"
      ],
      "execution_count": 6,
      "outputs": []
    },
    {
      "cell_type": "code",
      "metadata": {
        "colab": {
          "base_uri": "https://localhost:8080/"
        },
        "id": "ksJ89HwxAoLo",
        "outputId": "2e24723b-f082-402a-940c-8d989d49373c"
      },
      "source": [
        "dataset.shape"
      ],
      "execution_count": null,
      "outputs": [
        {
          "output_type": "execute_result",
          "data": {
            "text/plain": [
              "(1997, 5)"
            ]
          },
          "metadata": {
            "tags": []
          },
          "execution_count": 7
        }
      ]
    },
    {
      "cell_type": "code",
      "metadata": {
        "colab": {
          "base_uri": "https://localhost:8080/",
          "height": 333
        },
        "id": "WQWy_qiJAnd3",
        "outputId": "a0470761-1f48-4262-de80-f530662ce448"
      },
      "source": [
        "sns.countplot(dataset['c#default']); # mostra um grafico com a separação de acordo com o parametro estabelecido"
      ],
      "execution_count": 7,
      "outputs": [
        {
          "output_type": "stream",
          "text": [
            "/usr/local/lib/python3.7/dist-packages/seaborn/_decorators.py:43: FutureWarning: Pass the following variable as a keyword arg: x. From version 0.12, the only valid positional argument will be `data`, and passing other arguments without an explicit keyword will result in an error or misinterpretation.\n",
            "  FutureWarning\n"
          ],
          "name": "stderr"
        },
        {
          "output_type": "display_data",
          "data": {
            "image/png": "[encoded data removed]",
            "text/plain": [
              "<Figure size 432x288 with 1 Axes>"
            ]
          },
          "metadata": {
            "tags": [],
            "needs_background": "light"
          }
        }
      ]
    },
    {
      "cell_type": "markdown",
      "metadata": {
        "id": "ZQmwipTKBe4b"
      },
      "source": [
        "Treinamento e teste"
      ]
    },
    {
      "cell_type": "code",
      "metadata": {
        "id": "_YIP0_5iBYs6"
      },
      "source": [
        "x = dataset.iloc[:, 1:4].values #  pega todos os registros da coluna 1 ignorando a 4, ou seja até a 3 coluna"
      ],
      "execution_count": 29,
      "outputs": []
    },
    {
      "cell_type": "code",
      "metadata": {
        "colab": {
          "base_uri": "https://localhost:8080/"
        },
        "id": "InSXqAhXCCPe",
        "outputId": "199266f0-4dcc-4cac-f5b6-2b70c8861b27"
      },
      "source": [
        "x.shape"
      ],
      "execution_count": null,
      "outputs": [
        {
          "output_type": "execute_result",
          "data": {
            "text/plain": [
              "(1997, 3)"
            ]
          },
          "metadata": {
            "tags": []
          },
          "execution_count": 13
        }
      ]
    },
    {
      "cell_type": "code",
      "metadata": {
        "colab": {
          "base_uri": "https://localhost:8080/"
        },
        "id": "PPtHxQm4CE9e",
        "outputId": "18582b5a-a927-47e1-b1dc-1b81ea7dd547"
      },
      "source": [
        "x # previsores\n"
      ],
      "execution_count": null,
      "outputs": [
        {
          "output_type": "execute_result",
          "data": {
            "text/plain": [
              "array([[6.61559251e+04, 5.90170151e+01, 8.10653213e+03],\n",
              "       [3.44151540e+04, 4.81171531e+01, 6.56474502e+03],\n",
              "       [5.73171701e+04, 6.31080495e+01, 8.02095330e+03],\n",
              "       ...,\n",
              "       [4.43114493e+04, 2.80171669e+01, 5.52278669e+03],\n",
              "       [4.37560566e+04, 6.39717958e+01, 1.62272260e+03],\n",
              "       [6.94365796e+04, 5.61526170e+01, 7.37883360e+03]])"
            ]
          },
          "metadata": {
            "tags": []
          },
          "execution_count": 14
        }
      ]
    },
    {
      "cell_type": "code",
      "metadata": {
        "id": "7yDk8k0uCJCW"
      },
      "source": [
        "y = dataset.iloc[:, 4] # coleta apenas os dados da coluna 4, contendo as respostas"
      ],
      "execution_count": 31,
      "outputs": []
    },
    {
      "cell_type": "code",
      "metadata": {
        "colab": {
          "base_uri": "https://localhost:8080/"
        },
        "id": "Tt50O4GpCcbE",
        "outputId": "884cb9a9-44a4-48e9-d1a4-cd50e77b5f31"
      },
      "source": [
        "y.shape"
      ],
      "execution_count": 30,
      "outputs": [
        {
          "output_type": "execute_result",
          "data": {
            "text/plain": [
              "(1997,)"
            ]
          },
          "metadata": {
            "tags": []
          },
          "execution_count": 30
        }
      ]
    },
    {
      "cell_type": "markdown",
      "metadata": {
        "id": "0Vc-DAIPJwWc"
      },
      "source": [
        "Separar em treinamento e teste"
      ]
    },
    {
      "cell_type": "code",
      "metadata": {
        "id": "Ncuuhw6UJzft"
      },
      "source": [
        "x_trainning, x_test, y_training_, y_test = train_test_split(x, y, test_size = 0.2, stratify = y) # insiro os dados a serem avaliados, os resultados, a porcentagem de treino e qual a referencia para estartificar os dados"
      ],
      "execution_count": null,
      "outputs": []
    },
    {
      "cell_type": "code",
      "metadata": {
        "colab": {
          "base_uri": "https://localhost:8080/"
        },
        "id": "zVRFG7LuLFfl",
        "outputId": "2102c6ac-b4de-4f78-b8e8-e9bdc9ab4a07"
      },
      "source": [
        "x_trainning.shape, y_training_.shape"
      ],
      "execution_count": null,
      "outputs": [
        {
          "output_type": "execute_result",
          "data": {
            "text/plain": [
              "((1597, 3), (1597,))"
            ]
          },
          "metadata": {
            "tags": []
          },
          "execution_count": 21
        }
      ]
    },
    {
      "cell_type": "code",
      "metadata": {
        "colab": {
          "base_uri": "https://localhost:8080/"
        },
        "id": "-g4ZlAMsLQEF",
        "outputId": "b25bd18f-bbd7-40a0-9af8-365e8efa3689"
      },
      "source": [
        "x_test.shape, y_test.shape"
      ],
      "execution_count": null,
      "outputs": [
        {
          "output_type": "execute_result",
          "data": {
            "text/plain": [
              "((400, 3), (400,))"
            ]
          },
          "metadata": {
            "tags": []
          },
          "execution_count": 22
        }
      ]
    },
    {
      "cell_type": "code",
      "metadata": {
        "colab": {
          "base_uri": "https://localhost:8080/"
        },
        "id": "mUIDIPCGLdKb",
        "outputId": "85561ff8-1a2b-46f5-e18a-76ee7e10c6eb"
      },
      "source": [
        "np.unique(y, return_counts=True)"
      ],
      "execution_count": null,
      "outputs": [
        {
          "output_type": "execute_result",
          "data": {
            "text/plain": [
              "(array([0, 1]), array([1714,  283]))"
            ]
          },
          "metadata": {
            "tags": []
          },
          "execution_count": 23
        }
      ]
    },
    {
      "cell_type": "code",
      "metadata": {
        "colab": {
          "base_uri": "https://localhost:8080/"
        },
        "id": "4mFEmGFlLvrg",
        "outputId": "692f2acb-bc4c-4363-ca37-e1b441d49137"
      },
      "source": [
        "np.unique(y_training_, return_counts=True)"
      ],
      "execution_count": null,
      "outputs": [
        {
          "output_type": "execute_result",
          "data": {
            "text/plain": [
              "(array([0, 1]), array([1371,  226]))"
            ]
          },
          "metadata": {
            "tags": []
          },
          "execution_count": 24
        }
      ]
    },
    {
      "cell_type": "code",
      "metadata": {
        "colab": {
          "base_uri": "https://localhost:8080/"
        },
        "id": "cL3BwrkpL9Mq",
        "outputId": "b72450f1-198e-45fa-a650-d1ffd7871439"
      },
      "source": [
        "np.unique(y_test, return_counts=True)"
      ],
      "execution_count": null,
      "outputs": [
        {
          "output_type": "execute_result",
          "data": {
            "text/plain": [
              "(array([0, 1]), array([343,  57]))"
            ]
          },
          "metadata": {
            "tags": []
          },
          "execution_count": 26
        }
      ]
    },
    {
      "cell_type": "code",
      "metadata": {
        "colab": {
          "base_uri": "https://localhost:8080/"
        },
        "id": "v2uscHc-XF4d",
        "outputId": "33738d1e-9603-4bf3-b855-e885a5bcc5d2"
      },
      "source": [
        "model = GaussianNB() # importo o modelo\n",
        "\n",
        "model.fit(x_trainning, y_training_)"
      ],
      "execution_count": null,
      "outputs": [
        {
          "output_type": "execute_result",
          "data": {
            "text/plain": [
              "GaussianNB(priors=None, var_smoothing=1e-09)"
            ]
          },
          "metadata": {
            "tags": []
          },
          "execution_count": 28
        }
      ]
    },
    {
      "cell_type": "code",
      "metadata": {
        "id": "2UtKA-JnYKW0"
      },
      "source": [
        "previsions = model.predict(x_test)"
      ],
      "execution_count": null,
      "outputs": []
    },
    {
      "cell_type": "code",
      "metadata": {
        "colab": {
          "base_uri": "https://localhost:8080/"
        },
        "id": "xhwdNcQTYnpb",
        "outputId": "6b410d36-4a61-4079-f440-cfbc7d70433b"
      },
      "source": [
        "accuracy_score(previsions, y_test)"
      ],
      "execution_count": null,
      "outputs": [
        {
          "output_type": "execute_result",
          "data": {
            "text/plain": [
              "0.93"
            ]
          },
          "metadata": {
            "tags": []
          },
          "execution_count": 34
        }
      ]
    },
    {
      "cell_type": "code",
      "metadata": {
        "colab": {
          "base_uri": "https://localhost:8080/"
        },
        "id": "UgavWaVDY-Mz",
        "outputId": "882e39b4-5634-4e37-d124-dce7d1314eab"
      },
      "source": [
        "cm = confusion_matrix(previsions, y_test)\n",
        "cm"
      ],
      "execution_count": null,
      "outputs": [
        {
          "output_type": "execute_result",
          "data": {
            "text/plain": [
              "array([[339,  24],\n",
              "       [  4,  33]])"
            ]
          },
          "metadata": {
            "tags": []
          },
          "execution_count": 43
        }
      ]
    },
    {
      "cell_type": "code",
      "metadata": {
        "colab": {
          "base_uri": "https://localhost:8080/",
          "height": 265
        },
        "id": "6UvyjEWwZmXY",
        "outputId": "3754b5bb-2ddb-4b3a-fa0b-4f02af9c73f9"
      },
      "source": [
        "sns.heatmap(cm, annot=True);"
      ],
      "execution_count": null,
      "outputs": [
        {
          "output_type": "display_data",
          "data": {
            "image/png": "[encoded data removed]",
            "text/plain": [
              "<Figure size 432x288 with 2 Axes>"
            ]
          },
          "metadata": {
            "tags": [],
            "needs_background": "light"
          }
        }
      ]
    },
    {
      "cell_type": "code",
      "metadata": {
        "colab": {
          "base_uri": "https://localhost:8080/"
        },
        "id": "uUrBaAB8aUag",
        "outputId": "0b6486eb-0439-4f25-8631-193d236ccdd4"
      },
      "source": [
        "339 / (339 + 24) # pagantes"
      ],
      "execution_count": null,
      "outputs": [
        {
          "output_type": "execute_result",
          "data": {
            "text/plain": [
              "0.9338842975206612"
            ]
          },
          "metadata": {
            "tags": []
          },
          "execution_count": 47
        }
      ]
    },
    {
      "cell_type": "code",
      "metadata": {
        "colab": {
          "base_uri": "https://localhost:8080/"
        },
        "id": "1Q50RixZa262",
        "outputId": "6619c5ea-7998-44a0-dce7-be0bbfefa4ed"
      },
      "source": [
        "33 / (33 + 4) # calotão"
      ],
      "execution_count": null,
      "outputs": [
        {
          "output_type": "execute_result",
          "data": {
            "text/plain": [
              "0.8918918918918919"
            ]
          },
          "metadata": {
            "tags": []
          },
          "execution_count": 50
        }
      ]
    },
    {
      "cell_type": "markdown",
      "metadata": {
        "id": "fiBg5jNvgtkP"
      },
      "source": [
        "Subamostragem (undersampling) -Tomek link"
      ]
    },
    {
      "cell_type": "code",
      "metadata": {
        "id": "anem8660bzDG"
      },
      "source": [
        "tl = TomekLinks(return_indices=True, ratio='majority') # retorna os indices e remove items da classe majoritária"
      ],
      "execution_count": 2,
      "outputs": []
    },
    {
      "cell_type": "code",
      "metadata": {
        "colab": {
          "base_uri": "https://localhost:8080/"
        },
        "id": "XNpQokzshK9p",
        "outputId": "9e0c6bd0-2fdf-4811-d63d-a1d30b48127b"
      },
      "source": [
        "x_under, y_under, id_under = tl.fit_sample(x, y)"
      ],
      "execution_count": 10,
      "outputs": [
        {
          "output_type": "stream",
          "text": [
            "/usr/local/lib/python3.7/dist-packages/sklearn/utils/deprecation.py:87: FutureWarning: Function safe_indexing is deprecated; safe_indexing is deprecated in version 0.22 and will be removed in version 0.24.\n",
            "  warnings.warn(msg, category=FutureWarning)\n"
          ],
          "name": "stderr"
        }
      ]
    },
    {
      "cell_type": "code",
      "metadata": {
        "colab": {
          "base_uri": "https://localhost:8080/"
        },
        "id": "p8UpWdichl8h",
        "outputId": "962e6b94-43cd-43f8-f206-2726c0a842ef"
      },
      "source": [
        "x_under.shape, y_under.shape, id_under"
      ],
      "execution_count": 11,
      "outputs": [
        {
          "output_type": "execute_result",
          "data": {
            "text/plain": [
              "((1897, 3), (1897,), array([   0,    1,    2, ..., 1994, 1995, 1996]))"
            ]
          },
          "metadata": {
            "tags": []
          },
          "execution_count": 11
        }
      ]
    },
    {
      "cell_type": "code",
      "metadata": {
        "colab": {
          "base_uri": "https://localhost:8080/"
        },
        "id": "--S-PE0Jh4ol",
        "outputId": "4000d206-e5f4-4d34-b030-02a4486d5d34"
      },
      "source": [
        "np.unique(y, return_counts=True)"
      ],
      "execution_count": 12,
      "outputs": [
        {
          "output_type": "execute_result",
          "data": {
            "text/plain": [
              "(array([0, 1]), array([1714,  283]))"
            ]
          },
          "metadata": {
            "tags": []
          },
          "execution_count": 12
        }
      ]
    },
    {
      "cell_type": "code",
      "metadata": {
        "colab": {
          "base_uri": "https://localhost:8080/"
        },
        "id": "x1vjM9FviElA",
        "outputId": "1d54b31a-6965-4e66-dda2-4c34af3a2617"
      },
      "source": [
        "np.unique(y_under, return_counts=True)"
      ],
      "execution_count": 13,
      "outputs": [
        {
          "output_type": "execute_result",
          "data": {
            "text/plain": [
              "(array([0, 1]), array([1614,  283]))"
            ]
          },
          "metadata": {
            "tags": []
          },
          "execution_count": 13
        }
      ]
    },
    {
      "cell_type": "code",
      "metadata": {
        "id": "Vq8S62ayiMzf"
      },
      "source": [
        "x_training_under, x_test_under, y_training_under, y_test_under = train_test_split(x_under, y_under, test_size = 0.2, stratify = y_under)"
      ],
      "execution_count": 14,
      "outputs": []
    },
    {
      "cell_type": "code",
      "metadata": {
        "colab": {
          "base_uri": "https://localhost:8080/"
        },
        "id": "BaF1yqLBimJ4",
        "outputId": "63c9425f-187f-46db-d87b-1f756a5fab06"
      },
      "source": [
        "x_training_under.shape, y_training_under.shape # dados para treinamento"
      ],
      "execution_count": 15,
      "outputs": [
        {
          "output_type": "execute_result",
          "data": {
            "text/plain": [
              "((1517, 3), (1517,))"
            ]
          },
          "metadata": {
            "tags": []
          },
          "execution_count": 15
        }
      ]
    },
    {
      "cell_type": "code",
      "metadata": {
        "colab": {
          "base_uri": "https://localhost:8080/"
        },
        "id": "0ccGEu3Eittc",
        "outputId": "99f3e586-d230-461c-b8a2-43bb923fd8fb"
      },
      "source": [
        "x_test_under.shape, y_test_under.shape # dados para teste, o y_test_under são as respostas reais"
      ],
      "execution_count": 16,
      "outputs": [
        {
          "output_type": "execute_result",
          "data": {
            "text/plain": [
              "((380, 3), (380,))"
            ]
          },
          "metadata": {
            "tags": []
          },
          "execution_count": 16
        }
      ]
    },
    {
      "cell_type": "code",
      "metadata": {
        "colab": {
          "base_uri": "https://localhost:8080/"
        },
        "id": "klhBvQcXjFX7",
        "outputId": "28d07022-9e45-4c2d-855a-5b79d3c98e66"
      },
      "source": [
        "model_under = GaussianNB() #cria o modelo\n",
        "model_under.fit(x_training_under, y_training_under) # realiza o treinamento do model na base de teste\n",
        "previsions_under = model_under.predict(x_test_under) # realiza a previsões de acordo com a base de dados\n",
        "accuracy_score(previsions_under, y_test_under) # verifica a acurácia do modelo"
      ],
      "execution_count": 18,
      "outputs": [
        {
          "output_type": "execute_result",
          "data": {
            "text/plain": [
              "0.9315789473684211"
            ]
          },
          "metadata": {
            "tags": []
          },
          "execution_count": 18
        }
      ]
    },
    {
      "cell_type": "code",
      "metadata": {
        "colab": {
          "base_uri": "https://localhost:8080/"
        },
        "id": "Jm5NdZsVj6Y0",
        "outputId": "55806795-a9e9-46b1-b359-647f85f47883"
      },
      "source": [
        "cm_under = confusion_matrix(previsions_under, y_test_under) # mostra a matriz de confusão\n",
        "cm_under"
      ],
      "execution_count": 21,
      "outputs": [
        {
          "output_type": "execute_result",
          "data": {
            "text/plain": [
              "array([[314,  17],\n",
              "       [  9,  40]])"
            ]
          },
          "metadata": {
            "tags": []
          },
          "execution_count": 21
        }
      ]
    },
    {
      "cell_type": "code",
      "metadata": {
        "colab": {
          "base_uri": "https://localhost:8080/"
        },
        "id": "EmgHF0XokKi3",
        "outputId": "f83d5d3a-49e3-4a1d-d6f9-4463492bdd94"
      },
      "source": [
        "40 / (40 + 9) # não pagam"
      ],
      "execution_count": 22,
      "outputs": [
        {
          "output_type": "execute_result",
          "data": {
            "text/plain": [
              "0.8163265306122449"
            ]
          },
          "metadata": {
            "tags": []
          },
          "execution_count": 22
        }
      ]
    },
    {
      "cell_type": "code",
      "metadata": {
        "colab": {
          "base_uri": "https://localhost:8080/"
        },
        "id": "WCUT8eugkR__",
        "outputId": "5f9fae26-a76c-422b-d83f-90f8db62b566"
      },
      "source": [
        "314 / (314 + 17) # pagam "
      ],
      "execution_count": 23,
      "outputs": [
        {
          "output_type": "execute_result",
          "data": {
            "text/plain": [
              "0.9486404833836858"
            ]
          },
          "metadata": {
            "tags": []
          },
          "execution_count": 23
        }
      ]
    },
    {
      "cell_type": "markdown",
      "metadata": {
        "id": "VeffxWh8kZXJ"
      },
      "source": [
        "Sobreamostragem (oversampling) - SMOTE"
      ]
    },
    {
      "cell_type": "code",
      "metadata": {
        "id": "szN6zPg6kev8"
      },
      "source": [
        "smote = SMOTE(ratio='minority') # utiliza a classe minoritária para balancea-la de acordo com a classe majoritária"
      ],
      "execution_count": 27,
      "outputs": []
    },
    {
      "cell_type": "code",
      "metadata": {
        "colab": {
          "base_uri": "https://localhost:8080/"
        },
        "id": "4RiAw64olUdW",
        "outputId": "b5891cbe-fad8-43e3-9fba-b82ed32c8973"
      },
      "source": [
        "x_over, y_over = smote.fit_sample(x, y) # reliza o ajuste das bases"
      ],
      "execution_count": 33,
      "outputs": [
        {
          "output_type": "stream",
          "text": [
            "/usr/local/lib/python3.7/dist-packages/sklearn/utils/deprecation.py:87: FutureWarning: Function safe_indexing is deprecated; safe_indexing is deprecated in version 0.22 and will be removed in version 0.24.\n",
            "  warnings.warn(msg, category=FutureWarning)\n"
          ],
          "name": "stderr"
        }
      ]
    },
    {
      "cell_type": "code",
      "metadata": {
        "colab": {
          "base_uri": "https://localhost:8080/"
        },
        "id": "MI-Nb_PBl9Ex",
        "outputId": "2c950873-aa38-4528-f2ac-af870ca9ee4d"
      },
      "source": [
        "x_over.shape, y_over.shape"
      ],
      "execution_count": 34,
      "outputs": [
        {
          "output_type": "execute_result",
          "data": {
            "text/plain": [
              "((3428, 3), (3428,))"
            ]
          },
          "metadata": {
            "tags": []
          },
          "execution_count": 34
        }
      ]
    },
    {
      "cell_type": "code",
      "metadata": {
        "colab": {
          "base_uri": "https://localhost:8080/"
        },
        "id": "jWsMRF0vmZ00",
        "outputId": "5198afc7-57a6-4c61-f5ba-10a76f8bc49b"
      },
      "source": [
        "np.unique(y, return_counts = True), np.unique(y_over, return_counts = True)"
      ],
      "execution_count": 39,
      "outputs": [
        {
          "output_type": "execute_result",
          "data": {
            "text/plain": [
              "((array([0, 1]), array([1714,  283])), (array([0, 1]), array([1714, 1714])))"
            ]
          },
          "metadata": {
            "tags": []
          },
          "execution_count": 39
        }
      ]
    },
    {
      "cell_type": "code",
      "metadata": {
        "id": "iDnbv0x7mBiV"
      },
      "source": [
        "x_training_over, x_test_over, y_training_over, y_test_over = train_test_split(x_over, y_over, test_size = 0.2, stratify = y_over)"
      ],
      "execution_count": 35,
      "outputs": []
    },
    {
      "cell_type": "code",
      "metadata": {
        "colab": {
          "base_uri": "https://localhost:8080/"
        },
        "id": "mErDOT7NnDTm",
        "outputId": "ee57837e-ee6c-4026-8ef1-ea389f376249"
      },
      "source": [
        "x_training_over.shape, x_test_over.shape"
      ],
      "execution_count": 40,
      "outputs": [
        {
          "output_type": "execute_result",
          "data": {
            "text/plain": [
              "((2742, 3), (686, 3))"
            ]
          },
          "metadata": {
            "tags": []
          },
          "execution_count": 40
        }
      ]
    },
    {
      "cell_type": "code",
      "metadata": {
        "colab": {
          "base_uri": "https://localhost:8080/"
        },
        "id": "4PrEiVUsmMlU",
        "outputId": "eac4af5a-15e2-43f5-98dd-6c4ae45519dd"
      },
      "source": [
        "model_over = GaussianNB() #cria o modelo\n",
        "model_over.fit(x_training_over, y_training_over) # realiza o treinamento do model na base de teste e gera a tabela de probabilidade\n",
        "previsions_over = model_over.predict(x_test_over) # realiza a previsões de acordo com a base de dados\n",
        "accuracy_score(previsions_over, y_test_over)"
      ],
      "execution_count": 36,
      "outputs": [
        {
          "output_type": "execute_result",
          "data": {
            "text/plain": [
              "0.934402332361516"
            ]
          },
          "metadata": {
            "tags": []
          },
          "execution_count": 36
        }
      ]
    },
    {
      "cell_type": "code",
      "metadata": {
        "colab": {
          "base_uri": "https://localhost:8080/"
        },
        "id": "RJ9CxGrOnS48",
        "outputId": "b199e941-ebd5-4898-b539-1ae8fbba8423"
      },
      "source": [
        "cm_over = confusion_matrix(previsions_over, y_test_over)\n",
        "cm_over"
      ],
      "execution_count": 41,
      "outputs": [
        {
          "output_type": "execute_result",
          "data": {
            "text/plain": [
              "array([[305,   7],\n",
              "       [ 38, 336]])"
            ]
          },
          "metadata": {
            "tags": []
          },
          "execution_count": 41
        }
      ]
    },
    {
      "cell_type": "code",
      "metadata": {
        "colab": {
          "base_uri": "https://localhost:8080/"
        },
        "id": "PGQ-iUG8nfT3",
        "outputId": "07ff2a5e-586d-4865-c5db-731fe0c6b9e3"
      },
      "source": [
        "305 / (305 + 7) # pagam"
      ],
      "execution_count": 45,
      "outputs": [
        {
          "output_type": "execute_result",
          "data": {
            "text/plain": [
              "0.9775641025641025"
            ]
          },
          "metadata": {
            "tags": []
          },
          "execution_count": 45
        }
      ]
    },
    {
      "cell_type": "code",
      "metadata": {
        "colab": {
          "base_uri": "https://localhost:8080/"
        },
        "id": "wahJuvOentk4",
        "outputId": "43c8b51a-6eeb-48e4-d33d-340a07feb48a"
      },
      "source": [
        "336 / (38 + 336) # não pagam"
      ],
      "execution_count": 46,
      "outputs": [
        {
          "output_type": "execute_result",
          "data": {
            "text/plain": [
              "0.8983957219251337"
            ]
          },
          "metadata": {
            "tags": []
          },
          "execution_count": 46
        }
      ]
    },
    {
      "cell_type": "code",
      "metadata": {
        "colab": {
          "base_uri": "https://localhost:8080/"
        },
        "id": "NToKP55coSgj",
        "outputId": "5a6c5b13-2bd2-461f-9f0d-5c29d3a0dc53"
      },
      "source": [
        "1000 * 9 / 100"
      ],
      "execution_count": 47,
      "outputs": [
        {
          "output_type": "execute_result",
          "data": {
            "text/plain": [
              "90.0"
            ]
          },
          "metadata": {
            "tags": []
          },
          "execution_count": 47
        }
      ]
    },
    {
      "cell_type": "code",
      "metadata": {
        "colab": {
          "base_uri": "https://localhost:8080/"
        },
        "id": "UZaecAH0ocS3",
        "outputId": "f3807da7-b039-47d7-9720-e8101b5495a1"
      },
      "source": [
        "90 * 5000"
      ],
      "execution_count": 48,
      "outputs": [
        {
          "output_type": "execute_result",
          "data": {
            "text/plain": [
              "450000"
            ]
          },
          "metadata": {
            "tags": []
          },
          "execution_count": 48
        }
      ]
    },
    {
      "cell_type": "markdown",
      "metadata": {
        "id": "TfZmWmZMshO9"
      },
      "source": [
        "Exercício de fixação"
      ]
    },
    {
      "cell_type": "code",
      "metadata": {
        "id": "nTPwjui5pxYZ"
      },
      "source": [
        "ebay_dataset = pd.read_csv('csv_result-ebay_confianca_completo.csv')"
      ],
      "execution_count": 56,
      "outputs": []
    },
    {
      "cell_type": "code",
      "metadata": {
        "colab": {
          "base_uri": "https://localhost:8080/"
        },
        "id": "w4Tr2kmkp8wC",
        "outputId": "98684d1a-15dd-49c9-ff3d-bbc4f2155e3c"
      },
      "source": [
        "ebay_dataset.shape"
      ],
      "execution_count": 57,
      "outputs": [
        {
          "output_type": "execute_result",
          "data": {
            "text/plain": [
              "(5806, 75)"
            ]
          },
          "metadata": {
            "tags": []
          },
          "execution_count": 57
        }
      ]
    },
    {
      "cell_type": "code",
      "metadata": {
        "colab": {
          "base_uri": "https://localhost:8080/",
          "height": 224
        },
        "id": "kIMPFwVKqDCY",
        "outputId": "f7ffcad2-5431-4e87-ebd3-a7f4b4d72fcd"
      },
      "source": [
        "ebay_dataset.head()"
      ],
      "execution_count": 58,
      "outputs": [
        {
          "output_type": "execute_result",
          "data": {
            "text/html": [
              "<div>\n",
              "<style scoped>\n",
              "    .dataframe tbody tr th:only-of-type {\n",
              "        vertical-align: middle;\n",
              "    }\n",
              "\n",
              "    .dataframe tbody tr th {\n",
              "        vertical-align: top;\n",
              "    }\n",
              "\n",
              "    .dataframe thead th {\n",
              "        text-align: right;\n",
              "    }\n",
              "</style>\n",
              "<table border=\"1\" class=\"dataframe\">\n",
              "  <thead>\n",
              "    <tr style=\"text-align: right;\">\n",
              "      <th></th>\n",
              "      <th>feedbacks</th>\n",
              "      <th>reviews</th>\n",
              "      <th>blacklist</th>\n",
              "      <th>mextraversion</th>\n",
              "      <th>cextraversion</th>\n",
              "      <th>sextraversion</th>\n",
              "      <th>mneuroticism</th>\n",
              "      <th>cneuroticism</th>\n",
              "      <th>sneuroticism</th>\n",
              "      <th>mconscientiousness</th>\n",
              "      <th>cconscientiousness</th>\n",
              "      <th>sconscientiousness</th>\n",
              "      <th>magreeableness</th>\n",
              "      <th>cagreeableness</th>\n",
              "      <th>sagreeableness</th>\n",
              "      <th>mopenness</th>\n",
              "      <th>copenness</th>\n",
              "      <th>sopenness</th>\n",
              "      <th>agreeablenessIndico</th>\n",
              "      <th>conscientiousnessIndico</th>\n",
              "      <th>extraversionIndico</th>\n",
              "      <th>opennessIndico</th>\n",
              "      <th>openessWatson</th>\n",
              "      <th>conscientiousnessWatson</th>\n",
              "      <th>extraversionWatson</th>\n",
              "      <th>agreeablenessWatson</th>\n",
              "      <th>neuroticismWatson</th>\n",
              "      <th>o_adventure</th>\n",
              "      <th>o_artistic</th>\n",
              "      <th>o_emotionality</th>\n",
              "      <th>o_imagination</th>\n",
              "      <th>o_intelect</th>\n",
              "      <th>o_liberalism</th>\n",
              "      <th>c_achievement</th>\n",
              "      <th>c_cautiouness</th>\n",
              "      <th>c_dutifulness</th>\n",
              "      <th>c_orderliness</th>\n",
              "      <th>c_discipline</th>\n",
              "      <th>c_efficacy</th>\n",
              "      <th>e_activity</th>\n",
              "      <th>e_assertiveness</th>\n",
              "      <th>e_cheerfulness</th>\n",
              "      <th>e_excitement</th>\n",
              "      <th>e_friend</th>\n",
              "      <th>e_gregariouness</th>\n",
              "      <th>a_altruism</th>\n",
              "      <th>a_cooperation</th>\n",
              "      <th>a_modesty</th>\n",
              "      <th>a_morality</th>\n",
              "      <th>a_simpathy</th>\n",
              "      <th>a_trust</th>\n",
              "      <th>n_anger</th>\n",
              "      <th>n_anxiety</th>\n",
              "      <th>n_depression</th>\n",
              "      <th>n_immoderation</th>\n",
              "      <th>n_selfconsciouness</th>\n",
              "      <th>n_vulnerability</th>\n",
              "      <th>need_chalenge</th>\n",
              "      <th>need_closeness</th>\n",
              "      <th>need_curiosity</th>\n",
              "      <th>need_excitement</th>\n",
              "      <th>need_harmony</th>\n",
              "      <th>need_ideal</th>\n",
              "      <th>need_liberty</th>\n",
              "      <th>need_love</th>\n",
              "      <th>need_practicaly</th>\n",
              "      <th>need_selfexpression</th>\n",
              "      <th>need_stability</th>\n",
              "      <th>need_structure</th>\n",
              "      <th>value_conservation</th>\n",
              "      <th>value_openess</th>\n",
              "      <th>value_hedonism</th>\n",
              "      <th>value_selfenhancement</th>\n",
              "      <th>value_selftranscendence</th>\n",
              "      <th>reputation</th>\n",
              "    </tr>\n",
              "  </thead>\n",
              "  <tbody>\n",
              "    <tr>\n",
              "      <th>2</th>\n",
              "      <td>0</td>\n",
              "      <td>49</td>\n",
              "      <td>N</td>\n",
              "      <td>4.181642</td>\n",
              "      <td>0.6</td>\n",
              "      <td>1</td>\n",
              "      <td>2.777591</td>\n",
              "      <td>0.6</td>\n",
              "      <td>0</td>\n",
              "      <td>4.085460</td>\n",
              "      <td>0.5</td>\n",
              "      <td>0</td>\n",
              "      <td>4.110703</td>\n",
              "      <td>0.4</td>\n",
              "      <td>0</td>\n",
              "      <td>5.645506</td>\n",
              "      <td>0.6</td>\n",
              "      <td>1</td>\n",
              "      <td>0.684026</td>\n",
              "      <td>0.410566</td>\n",
              "      <td>0.646393</td>\n",
              "      <td>0.541885</td>\n",
              "      <td>0.835889</td>\n",
              "      <td>0.607272</td>\n",
              "      <td>0.589781</td>\n",
              "      <td>0.797063</td>\n",
              "      <td>0.449051</td>\n",
              "      <td>0.479940</td>\n",
              "      <td>0.753559</td>\n",
              "      <td>0.744320</td>\n",
              "      <td>0.758126</td>\n",
              "      <td>0.684179</td>\n",
              "      <td>0.526194</td>\n",
              "      <td>0.683279</td>\n",
              "      <td>0.559430</td>\n",
              "      <td>0.667665</td>\n",
              "      <td>0.522323</td>\n",
              "      <td>0.570964</td>\n",
              "      <td>0.746656</td>\n",
              "      <td>0.496348</td>\n",
              "      <td>0.649539</td>\n",
              "      <td>0.577345</td>\n",
              "      <td>0.553578</td>\n",
              "      <td>0.541931</td>\n",
              "      <td>0.350008</td>\n",
              "      <td>0.750762</td>\n",
              "      <td>0.626144</td>\n",
              "      <td>0.476133</td>\n",
              "      <td>0.701773</td>\n",
              "      <td>0.764204</td>\n",
              "      <td>0.512819</td>\n",
              "      <td>0.569980</td>\n",
              "      <td>0.611817</td>\n",
              "      <td>0.446330</td>\n",
              "      <td>0.468466</td>\n",
              "      <td>0.542865</td>\n",
              "      <td>0.442188</td>\n",
              "      <td>0.587795</td>\n",
              "      <td>0.833622</td>\n",
              "      <td>0.810144</td>\n",
              "      <td>0.462635</td>\n",
              "      <td>0.852183</td>\n",
              "      <td>0.628620</td>\n",
              "      <td>0.681354</td>\n",
              "      <td>0.820817</td>\n",
              "      <td>0.696359</td>\n",
              "      <td>0.698786</td>\n",
              "      <td>0.756963</td>\n",
              "      <td>0.660119</td>\n",
              "      <td>0.619416</td>\n",
              "      <td>0.746372</td>\n",
              "      <td>0.640073</td>\n",
              "      <td>0.598037</td>\n",
              "      <td>0.828716</td>\n",
              "      <td>Bom</td>\n",
              "    </tr>\n",
              "    <tr>\n",
              "      <th>3</th>\n",
              "      <td>0</td>\n",
              "      <td>56</td>\n",
              "      <td>N</td>\n",
              "      <td>4.007042</td>\n",
              "      <td>0.6</td>\n",
              "      <td>0</td>\n",
              "      <td>2.698650</td>\n",
              "      <td>0.6</td>\n",
              "      <td>0</td>\n",
              "      <td>4.187338</td>\n",
              "      <td>0.5</td>\n",
              "      <td>0</td>\n",
              "      <td>3.806675</td>\n",
              "      <td>0.4</td>\n",
              "      <td>0</td>\n",
              "      <td>6.190563</td>\n",
              "      <td>0.6</td>\n",
              "      <td>1</td>\n",
              "      <td>0.464647</td>\n",
              "      <td>0.431002</td>\n",
              "      <td>0.569719</td>\n",
              "      <td>0.588085</td>\n",
              "      <td>0.830316</td>\n",
              "      <td>0.572403</td>\n",
              "      <td>0.564882</td>\n",
              "      <td>0.722874</td>\n",
              "      <td>0.461567</td>\n",
              "      <td>0.478643</td>\n",
              "      <td>0.710639</td>\n",
              "      <td>0.701289</td>\n",
              "      <td>0.782399</td>\n",
              "      <td>0.716377</td>\n",
              "      <td>0.547235</td>\n",
              "      <td>0.657048</td>\n",
              "      <td>0.510715</td>\n",
              "      <td>0.654974</td>\n",
              "      <td>0.505224</td>\n",
              "      <td>0.543689</td>\n",
              "      <td>0.754035</td>\n",
              "      <td>0.463572</td>\n",
              "      <td>0.667516</td>\n",
              "      <td>0.547494</td>\n",
              "      <td>0.580140</td>\n",
              "      <td>0.514974</td>\n",
              "      <td>0.327534</td>\n",
              "      <td>0.724414</td>\n",
              "      <td>0.556060</td>\n",
              "      <td>0.424484</td>\n",
              "      <td>0.610452</td>\n",
              "      <td>0.757238</td>\n",
              "      <td>0.514746</td>\n",
              "      <td>0.595900</td>\n",
              "      <td>0.623953</td>\n",
              "      <td>0.500948</td>\n",
              "      <td>0.467786</td>\n",
              "      <td>0.569568</td>\n",
              "      <td>0.408936</td>\n",
              "      <td>0.596168</td>\n",
              "      <td>0.766870</td>\n",
              "      <td>0.790915</td>\n",
              "      <td>0.473358</td>\n",
              "      <td>0.800680</td>\n",
              "      <td>0.628022</td>\n",
              "      <td>0.667925</td>\n",
              "      <td>0.785016</td>\n",
              "      <td>0.715300</td>\n",
              "      <td>0.664572</td>\n",
              "      <td>0.728806</td>\n",
              "      <td>0.660740</td>\n",
              "      <td>0.588969</td>\n",
              "      <td>0.735915</td>\n",
              "      <td>0.644465</td>\n",
              "      <td>0.603042</td>\n",
              "      <td>0.809379</td>\n",
              "      <td>Bom</td>\n",
              "    </tr>\n",
              "    <tr>\n",
              "      <th>4</th>\n",
              "      <td>0</td>\n",
              "      <td>50</td>\n",
              "      <td>N</td>\n",
              "      <td>4.538230</td>\n",
              "      <td>0.7</td>\n",
              "      <td>1</td>\n",
              "      <td>2.298492</td>\n",
              "      <td>0.5</td>\n",
              "      <td>1</td>\n",
              "      <td>5.085833</td>\n",
              "      <td>0.5</td>\n",
              "      <td>0</td>\n",
              "      <td>4.307670</td>\n",
              "      <td>0.4</td>\n",
              "      <td>0</td>\n",
              "      <td>5.834547</td>\n",
              "      <td>0.8</td>\n",
              "      <td>1</td>\n",
              "      <td>0.574335</td>\n",
              "      <td>0.438136</td>\n",
              "      <td>0.594625</td>\n",
              "      <td>0.536566</td>\n",
              "      <td>0.849708</td>\n",
              "      <td>0.582639</td>\n",
              "      <td>0.577375</td>\n",
              "      <td>0.752931</td>\n",
              "      <td>0.451419</td>\n",
              "      <td>0.510756</td>\n",
              "      <td>0.737884</td>\n",
              "      <td>0.676704</td>\n",
              "      <td>0.785777</td>\n",
              "      <td>0.684304</td>\n",
              "      <td>0.577079</td>\n",
              "      <td>0.658175</td>\n",
              "      <td>0.517050</td>\n",
              "      <td>0.639082</td>\n",
              "      <td>0.509898</td>\n",
              "      <td>0.520291</td>\n",
              "      <td>0.725458</td>\n",
              "      <td>0.487635</td>\n",
              "      <td>0.578349</td>\n",
              "      <td>0.528123</td>\n",
              "      <td>0.555361</td>\n",
              "      <td>0.474853</td>\n",
              "      <td>0.326494</td>\n",
              "      <td>0.678454</td>\n",
              "      <td>0.619364</td>\n",
              "      <td>0.453175</td>\n",
              "      <td>0.678154</td>\n",
              "      <td>0.694500</td>\n",
              "      <td>0.525181</td>\n",
              "      <td>0.579213</td>\n",
              "      <td>0.619524</td>\n",
              "      <td>0.519524</td>\n",
              "      <td>0.479714</td>\n",
              "      <td>0.611395</td>\n",
              "      <td>0.482310</td>\n",
              "      <td>0.641673</td>\n",
              "      <td>0.755555</td>\n",
              "      <td>0.818792</td>\n",
              "      <td>0.506326</td>\n",
              "      <td>0.798245</td>\n",
              "      <td>0.617355</td>\n",
              "      <td>0.700126</td>\n",
              "      <td>0.735538</td>\n",
              "      <td>0.720150</td>\n",
              "      <td>0.694678</td>\n",
              "      <td>0.669652</td>\n",
              "      <td>0.627962</td>\n",
              "      <td>0.553523</td>\n",
              "      <td>0.766618</td>\n",
              "      <td>0.655470</td>\n",
              "      <td>0.645042</td>\n",
              "      <td>0.826039</td>\n",
              "      <td>Bom</td>\n",
              "    </tr>\n",
              "    <tr>\n",
              "      <th>5</th>\n",
              "      <td>72</td>\n",
              "      <td>0</td>\n",
              "      <td>N</td>\n",
              "      <td>4.692854</td>\n",
              "      <td>0.3</td>\n",
              "      <td>0</td>\n",
              "      <td>2.987231</td>\n",
              "      <td>0.5</td>\n",
              "      <td>0</td>\n",
              "      <td>4.831320</td>\n",
              "      <td>0.7</td>\n",
              "      <td>0</td>\n",
              "      <td>4.613918</td>\n",
              "      <td>0.5</td>\n",
              "      <td>1</td>\n",
              "      <td>4.348694</td>\n",
              "      <td>0.7</td>\n",
              "      <td>1</td>\n",
              "      <td>0.574341</td>\n",
              "      <td>0.514639</td>\n",
              "      <td>0.514115</td>\n",
              "      <td>0.495976</td>\n",
              "      <td>0.790834</td>\n",
              "      <td>0.674920</td>\n",
              "      <td>0.646031</td>\n",
              "      <td>0.763297</td>\n",
              "      <td>0.549710</td>\n",
              "      <td>0.489649</td>\n",
              "      <td>0.646631</td>\n",
              "      <td>0.608902</td>\n",
              "      <td>0.677307</td>\n",
              "      <td>0.614726</td>\n",
              "      <td>0.488001</td>\n",
              "      <td>0.712907</td>\n",
              "      <td>0.549355</td>\n",
              "      <td>0.664191</td>\n",
              "      <td>0.538321</td>\n",
              "      <td>0.596186</td>\n",
              "      <td>0.756297</td>\n",
              "      <td>0.585698</td>\n",
              "      <td>0.624495</td>\n",
              "      <td>0.582153</td>\n",
              "      <td>0.520175</td>\n",
              "      <td>0.525256</td>\n",
              "      <td>0.373468</td>\n",
              "      <td>0.661293</td>\n",
              "      <td>0.656178</td>\n",
              "      <td>0.414692</td>\n",
              "      <td>0.648699</td>\n",
              "      <td>0.612588</td>\n",
              "      <td>0.611793</td>\n",
              "      <td>0.545152</td>\n",
              "      <td>0.545936</td>\n",
              "      <td>0.449869</td>\n",
              "      <td>0.435871</td>\n",
              "      <td>0.523706</td>\n",
              "      <td>0.440116</td>\n",
              "      <td>0.675587</td>\n",
              "      <td>0.751850</td>\n",
              "      <td>0.813193</td>\n",
              "      <td>0.556613</td>\n",
              "      <td>0.775064</td>\n",
              "      <td>0.700630</td>\n",
              "      <td>0.701459</td>\n",
              "      <td>0.690972</td>\n",
              "      <td>0.739793</td>\n",
              "      <td>0.637027</td>\n",
              "      <td>0.697221</td>\n",
              "      <td>0.638587</td>\n",
              "      <td>0.675289</td>\n",
              "      <td>0.752234</td>\n",
              "      <td>0.679661</td>\n",
              "      <td>0.674438</td>\n",
              "      <td>0.813391</td>\n",
              "      <td>Bom</td>\n",
              "    </tr>\n",
              "    <tr>\n",
              "      <th>6</th>\n",
              "      <td>76</td>\n",
              "      <td>0</td>\n",
              "      <td>N</td>\n",
              "      <td>4.966753</td>\n",
              "      <td>0.3</td>\n",
              "      <td>0</td>\n",
              "      <td>3.048730</td>\n",
              "      <td>0.5</td>\n",
              "      <td>0</td>\n",
              "      <td>4.725294</td>\n",
              "      <td>0.5</td>\n",
              "      <td>1</td>\n",
              "      <td>4.743250</td>\n",
              "      <td>0.3</td>\n",
              "      <td>0</td>\n",
              "      <td>4.486198</td>\n",
              "      <td>0.7</td>\n",
              "      <td>1</td>\n",
              "      <td>0.627522</td>\n",
              "      <td>0.542976</td>\n",
              "      <td>0.485505</td>\n",
              "      <td>0.485903</td>\n",
              "      <td>0.786669</td>\n",
              "      <td>0.670957</td>\n",
              "      <td>0.540510</td>\n",
              "      <td>0.764619</td>\n",
              "      <td>0.529810</td>\n",
              "      <td>0.473329</td>\n",
              "      <td>0.663005</td>\n",
              "      <td>0.608885</td>\n",
              "      <td>0.695995</td>\n",
              "      <td>0.601024</td>\n",
              "      <td>0.477730</td>\n",
              "      <td>0.702990</td>\n",
              "      <td>0.554734</td>\n",
              "      <td>0.667045</td>\n",
              "      <td>0.529989</td>\n",
              "      <td>0.574750</td>\n",
              "      <td>0.733478</td>\n",
              "      <td>0.563220</td>\n",
              "      <td>0.540472</td>\n",
              "      <td>0.565630</td>\n",
              "      <td>0.504446</td>\n",
              "      <td>0.493837</td>\n",
              "      <td>0.343277</td>\n",
              "      <td>0.644033</td>\n",
              "      <td>0.713643</td>\n",
              "      <td>0.449867</td>\n",
              "      <td>0.670262</td>\n",
              "      <td>0.618680</td>\n",
              "      <td>0.596047</td>\n",
              "      <td>0.516514</td>\n",
              "      <td>0.583900</td>\n",
              "      <td>0.494273</td>\n",
              "      <td>0.412867</td>\n",
              "      <td>0.575115</td>\n",
              "      <td>0.481213</td>\n",
              "      <td>0.621911</td>\n",
              "      <td>0.779859</td>\n",
              "      <td>0.786455</td>\n",
              "      <td>0.486580</td>\n",
              "      <td>0.808006</td>\n",
              "      <td>0.641099</td>\n",
              "      <td>0.686376</td>\n",
              "      <td>0.724988</td>\n",
              "      <td>0.718530</td>\n",
              "      <td>0.616852</td>\n",
              "      <td>0.692761</td>\n",
              "      <td>0.646695</td>\n",
              "      <td>0.677245</td>\n",
              "      <td>0.699785</td>\n",
              "      <td>0.648607</td>\n",
              "      <td>0.616075</td>\n",
              "      <td>0.816841</td>\n",
              "      <td>Bom</td>\n",
              "    </tr>\n",
              "  </tbody>\n",
              "</table>\n",
              "</div>"
            ],
            "text/plain": [
              "   feedbacks  reviews  ... value_selftranscendence  reputation\n",
              "2          0       49  ...                0.828716         Bom\n",
              "3          0       56  ...                0.809379         Bom\n",
              "4          0       50  ...                0.826039         Bom\n",
              "5         72        0  ...                0.813391         Bom\n",
              "6         76        0  ...                0.816841         Bom\n",
              "\n",
              "[5 rows x 75 columns]"
            ]
          },
          "metadata": {
            "tags": []
          },
          "execution_count": 58
        }
      ]
    },
    {
      "cell_type": "code",
      "metadata": {
        "id": "RAjl1yssqZ5d"
      },
      "source": [
        "ebay_dataset['blacklist'] = ebay_dataset['blacklist'] == 'S' # converte a tabela black list para true ou false "
      ],
      "execution_count": 59,
      "outputs": []
    },
    {
      "cell_type": "code",
      "metadata": {
        "colab": {
          "base_uri": "https://localhost:8080/",
          "height": 333
        },
        "id": "fpntUyTVq0Mw",
        "outputId": "8c232920-27d1-4647-f5bf-2c80e18753fc"
      },
      "source": [
        "sns.countplot(ebay_dataset['reputation']);"
      ],
      "execution_count": 61,
      "outputs": [
        {
          "output_type": "stream",
          "text": [
            "/usr/local/lib/python3.7/dist-packages/seaborn/_decorators.py:43: FutureWarning: Pass the following variable as a keyword arg: x. From version 0.12, the only valid positional argument will be `data`, and passing other arguments without an explicit keyword will result in an error or misinterpretation.\n",
            "  FutureWarning\n"
          ],
          "name": "stderr"
        },
        {
          "output_type": "display_data",
          "data": {
            "image/png": "[encoded data removed]",
            "text/plain": [
              "<Figure size 432x288 with 1 Axes>"
            ]
          },
          "metadata": {
            "tags": [],
            "needs_background": "light"
          }
        }
      ]
    },
    {
      "cell_type": "code",
      "metadata": {
        "colab": {
          "base_uri": "https://localhost:8080/"
        },
        "id": "BCngC1Lyq8mj",
        "outputId": "762512e3-5d9f-457a-d9c0-d87446a0f979"
      },
      "source": [
        "len(ebay_dataset.columns)"
      ],
      "execution_count": 62,
      "outputs": [
        {
          "output_type": "execute_result",
          "data": {
            "text/plain": [
              "75"
            ]
          },
          "metadata": {
            "tags": []
          },
          "execution_count": 62
        }
      ]
    },
    {
      "cell_type": "code",
      "metadata": {
        "id": "Ch6ZCGt3rj6B"
      },
      "source": [
        "x = ebay_dataset.iloc[:, 0:74] # previsores"
      ],
      "execution_count": 63,
      "outputs": []
    },
    {
      "cell_type": "code",
      "metadata": {
        "colab": {
          "base_uri": "https://localhost:8080/"
        },
        "id": "Yrnxqp21rvlP",
        "outputId": "0891f2f8-873e-46ac-efe2-b75a663b40ac"
      },
      "source": [
        "x.shape"
      ],
      "execution_count": 64,
      "outputs": [
        {
          "output_type": "execute_result",
          "data": {
            "text/plain": [
              "(5806, 74)"
            ]
          },
          "metadata": {
            "tags": []
          },
          "execution_count": 64
        }
      ]
    },
    {
      "cell_type": "code",
      "metadata": {
        "id": "tZPTbLZYrzje"
      },
      "source": [
        "y = ebay_dataset.iloc[:, 74]"
      ],
      "execution_count": 65,
      "outputs": []
    },
    {
      "cell_type": "code",
      "metadata": {
        "colab": {
          "base_uri": "https://localhost:8080/"
        },
        "id": "qYhtY-6zr4tm",
        "outputId": "f517be3e-924c-42f0-a8a4-1399a0004be4"
      },
      "source": [
        "y.shape"
      ],
      "execution_count": 66,
      "outputs": [
        {
          "output_type": "execute_result",
          "data": {
            "text/plain": [
              "(5806,)"
            ]
          },
          "metadata": {
            "tags": []
          },
          "execution_count": 66
        }
      ]
    },
    {
      "cell_type": "code",
      "metadata": {
        "colab": {
          "base_uri": "https://localhost:8080/"
        },
        "id": "f7_Gfa1GsC60",
        "outputId": "fe5a87e5-0d64-428a-afed-1ad1c1540da2"
      },
      "source": [
        "np.unique(y, return_counts=True)"
      ],
      "execution_count": 67,
      "outputs": [
        {
          "output_type": "execute_result",
          "data": {
            "text/plain": [
              "(array(['Bom', 'Ruim'], dtype=object), array([4299, 1507]))"
            ]
          },
          "metadata": {
            "tags": []
          },
          "execution_count": 67
        }
      ]
    },
    {
      "cell_type": "code",
      "metadata": {
        "id": "iaAeVYfzsQ8u"
      },
      "source": [
        "x_training, x_test, y_training, y_test = train_test_split(x, y, test_size = 0.2, stratify = y)"
      ],
      "execution_count": 69,
      "outputs": []
    },
    {
      "cell_type": "code",
      "metadata": {
        "colab": {
          "base_uri": "https://localhost:8080/"
        },
        "id": "0m07RTa1spVT",
        "outputId": "836a4a77-c040-4b3c-a14b-27adbb7ebfba"
      },
      "source": [
        "x_training.shape, y_training.shape"
      ],
      "execution_count": 70,
      "outputs": [
        {
          "output_type": "execute_result",
          "data": {
            "text/plain": [
              "((4644, 74), (4644,))"
            ]
          },
          "metadata": {
            "tags": []
          },
          "execution_count": 70
        }
      ]
    },
    {
      "cell_type": "code",
      "metadata": {
        "id": "PaVLlusBsz6W"
      },
      "source": [
        "x_test"
      ],
      "execution_count": null,
      "outputs": []
    },
    {
      "cell_type": "code",
      "metadata": {
        "colab": {
          "base_uri": "https://localhost:8080/"
        },
        "id": "8t1X7U2dtCzj",
        "outputId": "9f02858a-bfce-4dc2-ddce-ab7a34fbc758"
      },
      "source": [
        "ebay_model = RandomForestClassifier()\n",
        "ebay_model.fit(x_training, y_training)"
      ],
      "execution_count": 72,
      "outputs": [
        {
          "output_type": "execute_result",
          "data": {
            "text/plain": [
              "RandomForestClassifier(bootstrap=True, ccp_alpha=0.0, class_weight=None,\n",
              "                       criterion='gini', max_depth=None, max_features='auto',\n",
              "                       max_leaf_nodes=None, max_samples=None,\n",
              "                       min_impurity_decrease=0.0, min_impurity_split=None,\n",
              "                       min_samples_leaf=1, min_samples_split=2,\n",
              "                       min_weight_fraction_leaf=0.0, n_estimators=100,\n",
              "                       n_jobs=None, oob_score=False, random_state=None,\n",
              "                       verbose=0, warm_start=False)"
            ]
          },
          "metadata": {
            "tags": []
          },
          "execution_count": 72
        }
      ]
    },
    {
      "cell_type": "code",
      "metadata": {
        "colab": {
          "base_uri": "https://localhost:8080/"
        },
        "id": "6YRFLPMOtSML",
        "outputId": "095d6a73-e995-4574-83fc-4ff2d1757a98"
      },
      "source": [
        "previsions = ebay_model.predict(x_test)\n",
        "accuracy_score(previsions, y_test)"
      ],
      "execution_count": 73,
      "outputs": [
        {
          "output_type": "execute_result",
          "data": {
            "text/plain": [
              "0.7444061962134251"
            ]
          },
          "metadata": {
            "tags": []
          },
          "execution_count": 73
        }
      ]
    },
    {
      "cell_type": "markdown",
      "metadata": {
        "id": "Y4vaF0omtnoP"
      },
      "source": [
        "Sub amostragem"
      ]
    },
    {
      "cell_type": "code",
      "metadata": {
        "id": "JG0ffJeBtpY9"
      },
      "source": [
        "tl_ebay = TomekLinks(return_indices=True, ratio='majority')"
      ],
      "execution_count": 74,
      "outputs": []
    },
    {
      "cell_type": "code",
      "metadata": {
        "colab": {
          "base_uri": "https://localhost:8080/"
        },
        "id": "ecAU8EWpt1CK",
        "outputId": "fe0c6e89-4d95-40ec-836a-d30fdb88c91d"
      },
      "source": [
        "x_under, y_under, id_under = tl.fit_sample(x, y)"
      ],
      "execution_count": 76,
      "outputs": [
        {
          "output_type": "stream",
          "text": [
            "/usr/local/lib/python3.7/dist-packages/sklearn/utils/deprecation.py:87: FutureWarning: Function safe_indexing is deprecated; safe_indexing is deprecated in version 0.22 and will be removed in version 0.24.\n",
            "  warnings.warn(msg, category=FutureWarning)\n"
          ],
          "name": "stderr"
        }
      ]
    },
    {
      "cell_type": "code",
      "metadata": {
        "colab": {
          "base_uri": "https://localhost:8080/"
        },
        "id": "949ov9FsuBGH",
        "outputId": "b85d493a-ad74-4804-fa2c-16c4c983c0ab"
      },
      "source": [
        "x_under.shape, y_under.shape, id_under"
      ],
      "execution_count": 77,
      "outputs": [
        {
          "output_type": "execute_result",
          "data": {
            "text/plain": [
              "((5417, 74), (5417,), array([   0,    1,    2, ..., 5803, 5804, 5805]))"
            ]
          },
          "metadata": {
            "tags": []
          },
          "execution_count": 77
        }
      ]
    },
    {
      "cell_type": "code",
      "metadata": {
        "id": "ZlxGG2E1uHpm"
      },
      "source": [
        "x_training_under, x_test_under, y_training_under, y_test_under = train_test_split(x_under, y_under, test_size=0.2, stratify=y_under) "
      ],
      "execution_count": 78,
      "outputs": []
    },
    {
      "cell_type": "code",
      "metadata": {
        "colab": {
          "base_uri": "https://localhost:8080/"
        },
        "id": "GcLhJ2qTugG7",
        "outputId": "29f24e6f-57c2-4bc5-ea6d-013e79cfbf30"
      },
      "source": [
        "model_ebay_under = RandomForestClassifier()\n",
        "model_ebay_under.fit(x_training_under, y_training_under)\n",
        "previsions_under = model_ebay_under.predict(x_test_under)\n",
        "\n",
        "accuracy_score(previsions_under, y_test_under)"
      ],
      "execution_count": 79,
      "outputs": [
        {
          "output_type": "execute_result",
          "data": {
            "text/plain": [
              "0.7306273062730627"
            ]
          },
          "metadata": {
            "tags": []
          },
          "execution_count": 79
        }
      ]
    },
    {
      "cell_type": "code",
      "metadata": {
        "id": "HkD1CYWjvB5t"
      },
      "source": [
        "smote = SMOTE(ratio='minority') "
      ],
      "execution_count": 80,
      "outputs": []
    },
    {
      "cell_type": "code",
      "metadata": {
        "colab": {
          "base_uri": "https://localhost:8080/"
        },
        "id": "Kbp9PmI9vH38",
        "outputId": "7616e010-58d6-4397-b88b-c27d20f768b5"
      },
      "source": [
        "x_over, y_over = smote.fit_sample(x, y)"
      ],
      "execution_count": 81,
      "outputs": [
        {
          "output_type": "stream",
          "text": [
            "/usr/local/lib/python3.7/dist-packages/sklearn/utils/deprecation.py:87: FutureWarning: Function safe_indexing is deprecated; safe_indexing is deprecated in version 0.22 and will be removed in version 0.24.\n",
            "  warnings.warn(msg, category=FutureWarning)\n"
          ],
          "name": "stderr"
        }
      ]
    },
    {
      "cell_type": "code",
      "metadata": {
        "colab": {
          "base_uri": "https://localhost:8080/"
        },
        "id": "GNDoAnMbvNgv",
        "outputId": "07ed4308-5063-4562-d60d-b956511e52c7"
      },
      "source": [
        "x_over.shape, y_over.shape"
      ],
      "execution_count": 82,
      "outputs": [
        {
          "output_type": "execute_result",
          "data": {
            "text/plain": [
              "((8598, 74), (8598,))"
            ]
          },
          "metadata": {
            "tags": []
          },
          "execution_count": 82
        }
      ]
    },
    {
      "cell_type": "code",
      "metadata": {
        "colab": {
          "base_uri": "https://localhost:8080/"
        },
        "id": "AXMb7KmFvvu4",
        "outputId": "3e69d07d-04aa-4bea-e5e3-1f54f9d1ed45"
      },
      "source": [
        "np.unique(y_over, return_counts=True)"
      ],
      "execution_count": 85,
      "outputs": [
        {
          "output_type": "execute_result",
          "data": {
            "text/plain": [
              "(array(['Bom', 'Ruim'], dtype=object), array([4299, 4299]))"
            ]
          },
          "metadata": {
            "tags": []
          },
          "execution_count": 85
        }
      ]
    },
    {
      "cell_type": "code",
      "metadata": {
        "id": "bD3okjkBvWWe"
      },
      "source": [
        "x_training_over, x_test_over, y_training_over, y_test_over = train_test_split(x_over, y_over, test_size=0.2, stratify=y_over) "
      ],
      "execution_count": 83,
      "outputs": []
    },
    {
      "cell_type": "code",
      "metadata": {
        "colab": {
          "base_uri": "https://localhost:8080/"
        },
        "id": "8tBkU08jvdKv",
        "outputId": "63051ff8-02e3-4e21-f821-3cffedca4e7e"
      },
      "source": [
        "model_ebay_over = RandomForestClassifier()\n",
        "model_ebay_over.fit(x_training_over, y_training_over)\n",
        "previsions_over = model_ebay_over.predict(x_test_over)\n",
        "\n",
        "accuracy_score(previsions_over, y_test_over)"
      ],
      "execution_count": 84,
      "outputs": [
        {
          "output_type": "execute_result",
          "data": {
            "text/plain": [
              "0.8075581395348838"
            ]
          },
          "metadata": {
            "tags": []
          },
          "execution_count": 84
        }
      ]
    }
  ]
}