{
  "nbformat": 4,
  "nbformat_minor": 0,
  "metadata": {
    "colab": {
      "name": "Percentuais e taxas.ipynb",
      "provenance": [],
      "collapsed_sections": [],
      "authorship_tag": "ABX9TyMUVciguc2lYoh+W+9VG1tb",
      "include_colab_link": true
    },
    "kernelspec": {
      "name": "python3",
      "display_name": "Python 3"
    },
    "language_info": {
      "name": "python"
    }
  },
  "cells": [
    {
      "cell_type": "markdown",
      "metadata": {
        "id": "view-in-github",
        "colab_type": "text"
      },
      "source": [
        "<a href=\"https://colab.research.google.com/github/miller00315/estatistica_machine_learning/blob/master/Percentuais_e_taxas.ipynb\" target=\"_parent\"><img src=\"https://colab.research.google.com/assets/colab-badge.svg\" alt=\"Open In Colab\"/></a>"
      ]
    },
    {
      "cell_type": "code",
      "metadata": {
        "id": "Sj3xnqHuygWx"
      },
      "source": [
        "import pandas as pd"
      ],
      "execution_count": 1,
      "outputs": []
    },
    {
      "cell_type": "code",
      "metadata": {
        "id": "nClayyPh1vEU"
      },
      "source": [
        "data = {'job': ['data_base_admnistrator', 'programmer', 'network_architect'],\n",
        "        'new_jersey': [97350, 82080,112840],\n",
        "        'florida': [77140, 71540, 62310]}"
      ],
      "execution_count": 2,
      "outputs": []
    },
    {
      "cell_type": "code",
      "metadata": {
        "colab": {
          "base_uri": "https://localhost:8080/"
        },
        "id": "ypj51D9G2bHG",
        "outputId": "2633c5b1-8141-422d-c755-3669cdba52be"
      },
      "source": [
        "type(data)"
      ],
      "execution_count": 3,
      "outputs": [
        {
          "output_type": "execute_result",
          "data": {
            "text/plain": [
              "dict"
            ]
          },
          "metadata": {
            "tags": []
          },
          "execution_count": 3
        }
      ]
    },
    {
      "cell_type": "code",
      "metadata": {
        "colab": {
          "base_uri": "https://localhost:8080/"
        },
        "id": "EXUZf5wM2eSu",
        "outputId": "e9215d46-3af9-47fc-8d96-1c04b9737c1e"
      },
      "source": [
        "data"
      ],
      "execution_count": 4,
      "outputs": [
        {
          "output_type": "execute_result",
          "data": {
            "text/plain": [
              "{'florida': [77140, 71540, 62310],\n",
              " 'job': ['data_base_admnistrator', 'programmer', 'network_architect'],\n",
              " 'new_jersey': [97350, 82080, 112840]}"
            ]
          },
          "metadata": {
            "tags": []
          },
          "execution_count": 4
        }
      ]
    },
    {
      "cell_type": "code",
      "metadata": {
        "id": "cUEz9k8Y2hgJ"
      },
      "source": [
        "dataset = pd.DataFrame(data)"
      ],
      "execution_count": 5,
      "outputs": []
    },
    {
      "cell_type": "code",
      "metadata": {
        "colab": {
          "base_uri": "https://localhost:8080/",
          "height": 142
        },
        "id": "J20TH6Uk2nC_",
        "outputId": "7ba28db3-892e-4348-e732-05badd53df5d"
      },
      "source": [
        "dataset"
      ],
      "execution_count": 6,
      "outputs": [
        {
          "output_type": "execute_result",
          "data": {
            "text/html": [
              "<div>\n",
              "<style scoped>\n",
              "    .dataframe tbody tr th:only-of-type {\n",
              "        vertical-align: middle;\n",
              "    }\n",
              "\n",
              "    .dataframe tbody tr th {\n",
              "        vertical-align: top;\n",
              "    }\n",
              "\n",
              "    .dataframe thead th {\n",
              "        text-align: right;\n",
              "    }\n",
              "</style>\n",
              "<table border=\"1\" class=\"dataframe\">\n",
              "  <thead>\n",
              "    <tr style=\"text-align: right;\">\n",
              "      <th></th>\n",
              "      <th>job</th>\n",
              "      <th>new_jersey</th>\n",
              "      <th>florida</th>\n",
              "    </tr>\n",
              "  </thead>\n",
              "  <tbody>\n",
              "    <tr>\n",
              "      <th>0</th>\n",
              "      <td>data_base_admnistrator</td>\n",
              "      <td>97350</td>\n",
              "      <td>77140</td>\n",
              "    </tr>\n",
              "    <tr>\n",
              "      <th>1</th>\n",
              "      <td>programmer</td>\n",
              "      <td>82080</td>\n",
              "      <td>71540</td>\n",
              "    </tr>\n",
              "    <tr>\n",
              "      <th>2</th>\n",
              "      <td>network_architect</td>\n",
              "      <td>112840</td>\n",
              "      <td>62310</td>\n",
              "    </tr>\n",
              "  </tbody>\n",
              "</table>\n",
              "</div>"
            ],
            "text/plain": [
              "                      job  new_jersey  florida\n",
              "0  data_base_admnistrator       97350    77140\n",
              "1              programmer       82080    71540\n",
              "2       network_architect      112840    62310"
            ]
          },
          "metadata": {
            "tags": []
          },
          "execution_count": 6
        }
      ]
    },
    {
      "cell_type": "code",
      "metadata": {
        "colab": {
          "base_uri": "https://localhost:8080/"
        },
        "id": "l6TvlIQl2s-J",
        "outputId": "fb691804-d870-4eff-8b78-a3d1dc18327c"
      },
      "source": [
        "dataset['new_jersey'].sum()"
      ],
      "execution_count": 7,
      "outputs": [
        {
          "output_type": "execute_result",
          "data": {
            "text/plain": [
              "292270"
            ]
          },
          "metadata": {
            "tags": []
          },
          "execution_count": 7
        }
      ]
    },
    {
      "cell_type": "code",
      "metadata": {
        "colab": {
          "base_uri": "https://localhost:8080/"
        },
        "id": "_UegbNNR2yyW",
        "outputId": "0fb19c95-f1cd-40a2-c783-0bf60caf898d"
      },
      "source": [
        "dataset['florida'].sum()"
      ],
      "execution_count": 8,
      "outputs": [
        {
          "output_type": "execute_result",
          "data": {
            "text/plain": [
              "210990"
            ]
          },
          "metadata": {
            "tags": []
          },
          "execution_count": 8
        }
      ]
    },
    {
      "cell_type": "code",
      "metadata": {
        "id": "RNjC0Acg226I"
      },
      "source": [
        "dataset['%_new_jersey'] = (dataset['new_jersey'] / dataset['new_jersey'].sum()) * 100"
      ],
      "execution_count": 9,
      "outputs": []
    },
    {
      "cell_type": "code",
      "metadata": {
        "colab": {
          "base_uri": "https://localhost:8080/",
          "height": 142
        },
        "id": "KWu15vrS3FqC",
        "outputId": "d25f3670-8f06-4dca-8a4d-bdff9e60248a"
      },
      "source": [
        "dataset"
      ],
      "execution_count": 10,
      "outputs": [
        {
          "output_type": "execute_result",
          "data": {
            "text/html": [
              "<div>\n",
              "<style scoped>\n",
              "    .dataframe tbody tr th:only-of-type {\n",
              "        vertical-align: middle;\n",
              "    }\n",
              "\n",
              "    .dataframe tbody tr th {\n",
              "        vertical-align: top;\n",
              "    }\n",
              "\n",
              "    .dataframe thead th {\n",
              "        text-align: right;\n",
              "    }\n",
              "</style>\n",
              "<table border=\"1\" class=\"dataframe\">\n",
              "  <thead>\n",
              "    <tr style=\"text-align: right;\">\n",
              "      <th></th>\n",
              "      <th>job</th>\n",
              "      <th>new_jersey</th>\n",
              "      <th>florida</th>\n",
              "      <th>%_new_jersey</th>\n",
              "    </tr>\n",
              "  </thead>\n",
              "  <tbody>\n",
              "    <tr>\n",
              "      <th>0</th>\n",
              "      <td>data_base_admnistrator</td>\n",
              "      <td>97350</td>\n",
              "      <td>77140</td>\n",
              "      <td>33.308242</td>\n",
              "    </tr>\n",
              "    <tr>\n",
              "      <th>1</th>\n",
              "      <td>programmer</td>\n",
              "      <td>82080</td>\n",
              "      <td>71540</td>\n",
              "      <td>28.083621</td>\n",
              "    </tr>\n",
              "    <tr>\n",
              "      <th>2</th>\n",
              "      <td>network_architect</td>\n",
              "      <td>112840</td>\n",
              "      <td>62310</td>\n",
              "      <td>38.608136</td>\n",
              "    </tr>\n",
              "  </tbody>\n",
              "</table>\n",
              "</div>"
            ],
            "text/plain": [
              "                      job  new_jersey  florida  %_new_jersey\n",
              "0  data_base_admnistrator       97350    77140     33.308242\n",
              "1              programmer       82080    71540     28.083621\n",
              "2       network_architect      112840    62310     38.608136"
            ]
          },
          "metadata": {
            "tags": []
          },
          "execution_count": 10
        }
      ]
    },
    {
      "cell_type": "code",
      "metadata": {
        "id": "joUbRR_R3JNu"
      },
      "source": [
        "dataset['%_florida'] = (dataset['florida'] / dataset['florida'].sum()) * 100"
      ],
      "execution_count": 11,
      "outputs": []
    },
    {
      "cell_type": "code",
      "metadata": {
        "colab": {
          "base_uri": "https://localhost:8080/",
          "height": 142
        },
        "id": "zx640odt3PhK",
        "outputId": "87ed0ad4-e5d8-4c23-d976-4ea8dfa701a1"
      },
      "source": [
        "dataset"
      ],
      "execution_count": 12,
      "outputs": [
        {
          "output_type": "execute_result",
          "data": {
            "text/html": [
              "<div>\n",
              "<style scoped>\n",
              "    .dataframe tbody tr th:only-of-type {\n",
              "        vertical-align: middle;\n",
              "    }\n",
              "\n",
              "    .dataframe tbody tr th {\n",
              "        vertical-align: top;\n",
              "    }\n",
              "\n",
              "    .dataframe thead th {\n",
              "        text-align: right;\n",
              "    }\n",
              "</style>\n",
              "<table border=\"1\" class=\"dataframe\">\n",
              "  <thead>\n",
              "    <tr style=\"text-align: right;\">\n",
              "      <th></th>\n",
              "      <th>job</th>\n",
              "      <th>new_jersey</th>\n",
              "      <th>florida</th>\n",
              "      <th>%_new_jersey</th>\n",
              "      <th>%_florida</th>\n",
              "    </tr>\n",
              "  </thead>\n",
              "  <tbody>\n",
              "    <tr>\n",
              "      <th>0</th>\n",
              "      <td>data_base_admnistrator</td>\n",
              "      <td>97350</td>\n",
              "      <td>77140</td>\n",
              "      <td>33.308242</td>\n",
              "      <td>36.560974</td>\n",
              "    </tr>\n",
              "    <tr>\n",
              "      <th>1</th>\n",
              "      <td>programmer</td>\n",
              "      <td>82080</td>\n",
              "      <td>71540</td>\n",
              "      <td>28.083621</td>\n",
              "      <td>33.906820</td>\n",
              "    </tr>\n",
              "    <tr>\n",
              "      <th>2</th>\n",
              "      <td>network_architect</td>\n",
              "      <td>112840</td>\n",
              "      <td>62310</td>\n",
              "      <td>38.608136</td>\n",
              "      <td>29.532205</td>\n",
              "    </tr>\n",
              "  </tbody>\n",
              "</table>\n",
              "</div>"
            ],
            "text/plain": [
              "                      job  new_jersey  florida  %_new_jersey  %_florida\n",
              "0  data_base_admnistrator       97350    77140     33.308242  36.560974\n",
              "1              programmer       82080    71540     28.083621  33.906820\n",
              "2       network_architect      112840    62310     38.608136  29.532205"
            ]
          },
          "metadata": {
            "tags": []
          },
          "execution_count": 12
        }
      ]
    },
    {
      "cell_type": "code",
      "metadata": {
        "id": "M9DSxr6J3naX"
      },
      "source": [
        "dataset = pd.read_csv('census.csv')"
      ],
      "execution_count": 13,
      "outputs": []
    },
    {
      "cell_type": "code",
      "metadata": {
        "colab": {
          "base_uri": "https://localhost:8080/",
          "height": 289
        },
        "id": "eVtH8cWk3vNi",
        "outputId": "730ccaf8-075f-40dc-8bd6-70f2876a4a7d"
      },
      "source": [
        "dataset.head()"
      ],
      "execution_count": 14,
      "outputs": [
        {
          "output_type": "execute_result",
          "data": {
            "text/html": [
              "<div>\n",
              "<style scoped>\n",
              "    .dataframe tbody tr th:only-of-type {\n",
              "        vertical-align: middle;\n",
              "    }\n",
              "\n",
              "    .dataframe tbody tr th {\n",
              "        vertical-align: top;\n",
              "    }\n",
              "\n",
              "    .dataframe thead th {\n",
              "        text-align: right;\n",
              "    }\n",
              "</style>\n",
              "<table border=\"1\" class=\"dataframe\">\n",
              "  <thead>\n",
              "    <tr style=\"text-align: right;\">\n",
              "      <th></th>\n",
              "      <th>age</th>\n",
              "      <th>workclass</th>\n",
              "      <th>final-weight</th>\n",
              "      <th>education</th>\n",
              "      <th>education-num</th>\n",
              "      <th>marital-status</th>\n",
              "      <th>occupation</th>\n",
              "      <th>relationship</th>\n",
              "      <th>race</th>\n",
              "      <th>sex</th>\n",
              "      <th>capital-gain</th>\n",
              "      <th>capital-loos</th>\n",
              "      <th>hour-per-week</th>\n",
              "      <th>native-country</th>\n",
              "      <th>income</th>\n",
              "    </tr>\n",
              "  </thead>\n",
              "  <tbody>\n",
              "    <tr>\n",
              "      <th>0</th>\n",
              "      <td>39</td>\n",
              "      <td>State-gov</td>\n",
              "      <td>77516</td>\n",
              "      <td>Bachelors</td>\n",
              "      <td>13</td>\n",
              "      <td>Never-married</td>\n",
              "      <td>Adm-clerical</td>\n",
              "      <td>Not-in-family</td>\n",
              "      <td>White</td>\n",
              "      <td>Male</td>\n",
              "      <td>2174</td>\n",
              "      <td>0</td>\n",
              "      <td>40</td>\n",
              "      <td>United-States</td>\n",
              "      <td>&lt;=50K</td>\n",
              "    </tr>\n",
              "    <tr>\n",
              "      <th>1</th>\n",
              "      <td>50</td>\n",
              "      <td>Self-emp-not-inc</td>\n",
              "      <td>83311</td>\n",
              "      <td>Bachelors</td>\n",
              "      <td>13</td>\n",
              "      <td>Married-civ-spouse</td>\n",
              "      <td>Exec-managerial</td>\n",
              "      <td>Husband</td>\n",
              "      <td>White</td>\n",
              "      <td>Male</td>\n",
              "      <td>0</td>\n",
              "      <td>0</td>\n",
              "      <td>13</td>\n",
              "      <td>United-States</td>\n",
              "      <td>&lt;=50K</td>\n",
              "    </tr>\n",
              "    <tr>\n",
              "      <th>2</th>\n",
              "      <td>38</td>\n",
              "      <td>Private</td>\n",
              "      <td>215646</td>\n",
              "      <td>HS-grad</td>\n",
              "      <td>9</td>\n",
              "      <td>Divorced</td>\n",
              "      <td>Handlers-cleaners</td>\n",
              "      <td>Not-in-family</td>\n",
              "      <td>White</td>\n",
              "      <td>Male</td>\n",
              "      <td>0</td>\n",
              "      <td>0</td>\n",
              "      <td>40</td>\n",
              "      <td>United-States</td>\n",
              "      <td>&lt;=50K</td>\n",
              "    </tr>\n",
              "    <tr>\n",
              "      <th>3</th>\n",
              "      <td>53</td>\n",
              "      <td>Private</td>\n",
              "      <td>234721</td>\n",
              "      <td>11th</td>\n",
              "      <td>7</td>\n",
              "      <td>Married-civ-spouse</td>\n",
              "      <td>Handlers-cleaners</td>\n",
              "      <td>Husband</td>\n",
              "      <td>Black</td>\n",
              "      <td>Male</td>\n",
              "      <td>0</td>\n",
              "      <td>0</td>\n",
              "      <td>40</td>\n",
              "      <td>United-States</td>\n",
              "      <td>&lt;=50K</td>\n",
              "    </tr>\n",
              "    <tr>\n",
              "      <th>4</th>\n",
              "      <td>28</td>\n",
              "      <td>Private</td>\n",
              "      <td>338409</td>\n",
              "      <td>Bachelors</td>\n",
              "      <td>13</td>\n",
              "      <td>Married-civ-spouse</td>\n",
              "      <td>Prof-specialty</td>\n",
              "      <td>Wife</td>\n",
              "      <td>Black</td>\n",
              "      <td>Female</td>\n",
              "      <td>0</td>\n",
              "      <td>0</td>\n",
              "      <td>40</td>\n",
              "      <td>Cuba</td>\n",
              "      <td>&lt;=50K</td>\n",
              "    </tr>\n",
              "  </tbody>\n",
              "</table>\n",
              "</div>"
            ],
            "text/plain": [
              "   age          workclass  final-weight  ... hour-per-week  native-country  income\n",
              "0   39          State-gov         77516  ...            40   United-States   <=50K\n",
              "1   50   Self-emp-not-inc         83311  ...            13   United-States   <=50K\n",
              "2   38            Private        215646  ...            40   United-States   <=50K\n",
              "3   53            Private        234721  ...            40   United-States   <=50K\n",
              "4   28            Private        338409  ...            40            Cuba   <=50K\n",
              "\n",
              "[5 rows x 15 columns]"
            ]
          },
          "metadata": {
            "tags": []
          },
          "execution_count": 14
        }
      ]
    },
    {
      "cell_type": "code",
      "metadata": {
        "id": "CCBsQ2CE4W3n"
      },
      "source": [
        "reduced_dataset = dataset[['income', 'education']] # faço um filtro que seleciona apenas os items que necessito"
      ],
      "execution_count": 17,
      "outputs": []
    },
    {
      "cell_type": "code",
      "metadata": {
        "colab": {
          "base_uri": "https://localhost:8080/",
          "height": 204
        },
        "id": "VBNvXshN5ifl",
        "outputId": "3e37197e-0798-40f6-b0a2-8983fb6581a3"
      },
      "source": [
        "reduced_dataset.head()"
      ],
      "execution_count": 19,
      "outputs": [
        {
          "output_type": "execute_result",
          "data": {
            "text/html": [
              "<div>\n",
              "<style scoped>\n",
              "    .dataframe tbody tr th:only-of-type {\n",
              "        vertical-align: middle;\n",
              "    }\n",
              "\n",
              "    .dataframe tbody tr th {\n",
              "        vertical-align: top;\n",
              "    }\n",
              "\n",
              "    .dataframe thead th {\n",
              "        text-align: right;\n",
              "    }\n",
              "</style>\n",
              "<table border=\"1\" class=\"dataframe\">\n",
              "  <thead>\n",
              "    <tr style=\"text-align: right;\">\n",
              "      <th></th>\n",
              "      <th>income</th>\n",
              "      <th>education</th>\n",
              "    </tr>\n",
              "  </thead>\n",
              "  <tbody>\n",
              "    <tr>\n",
              "      <th>0</th>\n",
              "      <td>&lt;=50K</td>\n",
              "      <td>Bachelors</td>\n",
              "    </tr>\n",
              "    <tr>\n",
              "      <th>1</th>\n",
              "      <td>&lt;=50K</td>\n",
              "      <td>Bachelors</td>\n",
              "    </tr>\n",
              "    <tr>\n",
              "      <th>2</th>\n",
              "      <td>&lt;=50K</td>\n",
              "      <td>HS-grad</td>\n",
              "    </tr>\n",
              "    <tr>\n",
              "      <th>3</th>\n",
              "      <td>&lt;=50K</td>\n",
              "      <td>11th</td>\n",
              "    </tr>\n",
              "    <tr>\n",
              "      <th>4</th>\n",
              "      <td>&lt;=50K</td>\n",
              "      <td>Bachelors</td>\n",
              "    </tr>\n",
              "  </tbody>\n",
              "</table>\n",
              "</div>"
            ],
            "text/plain": [
              "   income   education\n",
              "0   <=50K   Bachelors\n",
              "1   <=50K   Bachelors\n",
              "2   <=50K     HS-grad\n",
              "3   <=50K        11th\n",
              "4   <=50K   Bachelors"
            ]
          },
          "metadata": {
            "tags": []
          },
          "execution_count": 19
        }
      ]
    },
    {
      "cell_type": "code",
      "metadata": {
        "id": "DSX-qZ_I53S5"
      },
      "source": [
        "agrouped_dataset = reduced_dataset.groupby(['education', 'income'])['education'].count()"
      ],
      "execution_count": 20,
      "outputs": []
    },
    {
      "cell_type": "code",
      "metadata": {
        "colab": {
          "base_uri": "https://localhost:8080/"
        },
        "id": "vk_ox4Oy6JZO",
        "outputId": "4111e710-8dda-4e7c-ecc5-ac34129195f7"
      },
      "source": [
        "agrouped_dataset"
      ],
      "execution_count": 21,
      "outputs": [
        {
          "output_type": "execute_result",
          "data": {
            "text/plain": [
              "education      income\n",
              " 10th           <=50K     871\n",
              "                >50K       62\n",
              " 11th           <=50K    1115\n",
              "                >50K       60\n",
              " 12th           <=50K     400\n",
              "                >50K       33\n",
              " 1st-4th        <=50K     162\n",
              "                >50K        6\n",
              " 5th-6th        <=50K     317\n",
              "                >50K       16\n",
              " 7th-8th        <=50K     606\n",
              "                >50K       40\n",
              " 9th            <=50K     487\n",
              "                >50K       27\n",
              " Assoc-acdm     <=50K     802\n",
              "                >50K      265\n",
              " Assoc-voc      <=50K    1021\n",
              "                >50K      361\n",
              " Bachelors      <=50K    3134\n",
              "                >50K     2221\n",
              " Doctorate      <=50K     107\n",
              "                >50K      306\n",
              " HS-grad        <=50K    8826\n",
              "                >50K     1675\n",
              " Masters        <=50K     764\n",
              "                >50K      959\n",
              " Preschool      <=50K      51\n",
              " Prof-school    <=50K     153\n",
              "                >50K      423\n",
              " Some-college   <=50K    5904\n",
              "                >50K     1387\n",
              "Name: education, dtype: int64"
            ]
          },
          "metadata": {
            "tags": []
          },
          "execution_count": 21
        }
      ]
    },
    {
      "cell_type": "code",
      "metadata": {
        "colab": {
          "base_uri": "https://localhost:8080/"
        },
        "id": "W_YPO6Er6Uzz",
        "outputId": "59f7d433-0b41-424b-8092-a5eb111068b9"
      },
      "source": [
        "agrouped_dataset.index"
      ],
      "execution_count": 22,
      "outputs": [
        {
          "output_type": "execute_result",
          "data": {
            "text/plain": [
              "MultiIndex([(        ' 10th', ' <=50K'),\n",
              "            (        ' 10th',  ' >50K'),\n",
              "            (        ' 11th', ' <=50K'),\n",
              "            (        ' 11th',  ' >50K'),\n",
              "            (        ' 12th', ' <=50K'),\n",
              "            (        ' 12th',  ' >50K'),\n",
              "            (     ' 1st-4th', ' <=50K'),\n",
              "            (     ' 1st-4th',  ' >50K'),\n",
              "            (     ' 5th-6th', ' <=50K'),\n",
              "            (     ' 5th-6th',  ' >50K'),\n",
              "            (     ' 7th-8th', ' <=50K'),\n",
              "            (     ' 7th-8th',  ' >50K'),\n",
              "            (         ' 9th', ' <=50K'),\n",
              "            (         ' 9th',  ' >50K'),\n",
              "            (  ' Assoc-acdm', ' <=50K'),\n",
              "            (  ' Assoc-acdm',  ' >50K'),\n",
              "            (   ' Assoc-voc', ' <=50K'),\n",
              "            (   ' Assoc-voc',  ' >50K'),\n",
              "            (   ' Bachelors', ' <=50K'),\n",
              "            (   ' Bachelors',  ' >50K'),\n",
              "            (   ' Doctorate', ' <=50K'),\n",
              "            (   ' Doctorate',  ' >50K'),\n",
              "            (     ' HS-grad', ' <=50K'),\n",
              "            (     ' HS-grad',  ' >50K'),\n",
              "            (     ' Masters', ' <=50K'),\n",
              "            (     ' Masters',  ' >50K'),\n",
              "            (   ' Preschool', ' <=50K'),\n",
              "            ( ' Prof-school', ' <=50K'),\n",
              "            ( ' Prof-school',  ' >50K'),\n",
              "            (' Some-college', ' <=50K'),\n",
              "            (' Some-college',  ' >50K')],\n",
              "           names=['education', 'income'])"
            ]
          },
          "metadata": {
            "tags": []
          },
          "execution_count": 22
        }
      ]
    },
    {
      "cell_type": "code",
      "metadata": {
        "colab": {
          "base_uri": "https://localhost:8080/"
        },
        "id": "vjhJV1kj6kMn",
        "outputId": "33bce9fe-f09f-4335-994d-beeb1218aa45"
      },
      "source": [
        "agrouped_dataset[' Bachelors', ' <=50K'], agrouped_dataset[' Bachelors', ' >50K']"
      ],
      "execution_count": 26,
      "outputs": [
        {
          "output_type": "execute_result",
          "data": {
            "text/plain": [
              "(3134, 2221)"
            ]
          },
          "metadata": {
            "tags": []
          },
          "execution_count": 26
        }
      ]
    },
    {
      "cell_type": "code",
      "metadata": {
        "id": "AcR8r1Ix7B_7"
      },
      "source": [
        "total = agrouped_dataset[' Bachelors', ' <=50K'] + agrouped_dataset[' Bachelors', ' >50K']"
      ],
      "execution_count": 27,
      "outputs": []
    },
    {
      "cell_type": "code",
      "metadata": {
        "colab": {
          "base_uri": "https://localhost:8080/"
        },
        "id": "yGsVVNkQ7IAq",
        "outputId": "d27d02e6-8163-424d-df79-61a1cae44479"
      },
      "source": [
        "total"
      ],
      "execution_count": 28,
      "outputs": [
        {
          "output_type": "execute_result",
          "data": {
            "text/plain": [
              "5355"
            ]
          },
          "metadata": {
            "tags": []
          },
          "execution_count": 28
        }
      ]
    },
    {
      "cell_type": "code",
      "metadata": {
        "id": "KCaqEaXE7KKg"
      },
      "source": [
        "percentage_under_50k = (agrouped_dataset[' Bachelors', ' <=50K'] / total) * 100"
      ],
      "execution_count": 29,
      "outputs": []
    },
    {
      "cell_type": "code",
      "metadata": {
        "colab": {
          "base_uri": "https://localhost:8080/"
        },
        "id": "XCV4ZrtR7VAe",
        "outputId": "25e5836b-9edc-4348-ab3a-c5e6caa719f8"
      },
      "source": [
        "percentage_under_50k"
      ],
      "execution_count": 30,
      "outputs": [
        {
          "output_type": "execute_result",
          "data": {
            "text/plain": [
              "58.52474323062559"
            ]
          },
          "metadata": {
            "tags": []
          },
          "execution_count": 30
        }
      ]
    },
    {
      "cell_type": "code",
      "metadata": {
        "colab": {
          "base_uri": "https://localhost:8080/"
        },
        "id": "dVNvjJ3J7Xaa",
        "outputId": "47821a92-7661-42e4-c3ae-e80676c6aca0"
      },
      "source": [
        "percentage_over_50k = (agrouped_dataset[' Bachelors', ' >50K'] / total) * 100\n",
        "percentage_over_50k"
      ],
      "execution_count": 31,
      "outputs": [
        {
          "output_type": "execute_result",
          "data": {
            "text/plain": [
              "41.47525676937442"
            ]
          },
          "metadata": {
            "tags": []
          },
          "execution_count": 31
        }
      ]
    },
    {
      "cell_type": "markdown",
      "metadata": {
        "id": "gxZGVb0u_IeL"
      },
      "source": [
        "Indíces, coeficientes e taxas"
      ]
    },
    {
      "cell_type": "code",
      "metadata": {
        "id": "B4FSPVyG_Lwh"
      },
      "source": [
        " school_data = {'Ano graduação': ['1º', '2º', '3º', '4º', 'Total'],\n",
        "                'Matriculas março': [70,50,47, 23, 190],\n",
        "                'Matriculas novembro': [65, 48,40, 22, 175]}"
      ],
      "execution_count": 53,
      "outputs": []
    },
    {
      "cell_type": "code",
      "metadata": {
        "colab": {
          "base_uri": "https://localhost:8080/",
          "height": 204
        },
        "id": "h-NPWn5qBWut",
        "outputId": "ea19b3c3-877c-456c-9e63-e11a0398902a"
      },
      "source": [
        "school_dataset = pd.DataFrame(school_data)\n",
        "school_dataset"
      ],
      "execution_count": 54,
      "outputs": [
        {
          "output_type": "execute_result",
          "data": {
            "text/html": [
              "<div>\n",
              "<style scoped>\n",
              "    .dataframe tbody tr th:only-of-type {\n",
              "        vertical-align: middle;\n",
              "    }\n",
              "\n",
              "    .dataframe tbody tr th {\n",
              "        vertical-align: top;\n",
              "    }\n",
              "\n",
              "    .dataframe thead th {\n",
              "        text-align: right;\n",
              "    }\n",
              "</style>\n",
              "<table border=\"1\" class=\"dataframe\">\n",
              "  <thead>\n",
              "    <tr style=\"text-align: right;\">\n",
              "      <th></th>\n",
              "      <th>Ano graduação</th>\n",
              "      <th>Matriculas março</th>\n",
              "      <th>Matriculas novembro</th>\n",
              "    </tr>\n",
              "  </thead>\n",
              "  <tbody>\n",
              "    <tr>\n",
              "      <th>0</th>\n",
              "      <td>1º</td>\n",
              "      <td>70</td>\n",
              "      <td>65</td>\n",
              "    </tr>\n",
              "    <tr>\n",
              "      <th>1</th>\n",
              "      <td>2º</td>\n",
              "      <td>50</td>\n",
              "      <td>48</td>\n",
              "    </tr>\n",
              "    <tr>\n",
              "      <th>2</th>\n",
              "      <td>3º</td>\n",
              "      <td>47</td>\n",
              "      <td>40</td>\n",
              "    </tr>\n",
              "    <tr>\n",
              "      <th>3</th>\n",
              "      <td>4º</td>\n",
              "      <td>23</td>\n",
              "      <td>22</td>\n",
              "    </tr>\n",
              "    <tr>\n",
              "      <th>4</th>\n",
              "      <td>Total</td>\n",
              "      <td>190</td>\n",
              "      <td>175</td>\n",
              "    </tr>\n",
              "  </tbody>\n",
              "</table>\n",
              "</div>"
            ],
            "text/plain": [
              "  Ano graduação  Matriculas março  Matriculas novembro\n",
              "0            1º                70                   65\n",
              "1            2º                50                   48\n",
              "2            3º                47                   40\n",
              "3            4º                23                   22\n",
              "4         Total               190                  175"
            ]
          },
          "metadata": {
            "tags": []
          },
          "execution_count": 54
        }
      ]
    },
    {
      "cell_type": "code",
      "metadata": {
        "id": "DOq5hcSHBpcl"
      },
      "source": [
        "school_dataset['Taxa evasão'] = ((school_dataset['Matriculas março'] - school_dataset['Matriculas novembro']) / school_dataset['Matriculas março']) *100"
      ],
      "execution_count": 55,
      "outputs": []
    },
    {
      "cell_type": "code",
      "metadata": {
        "colab": {
          "base_uri": "https://localhost:8080/",
          "height": 204
        },
        "id": "MyzN2GKHCkst",
        "outputId": "1ea44b95-1ae4-454f-8a54-9488144e8ceb"
      },
      "source": [
        "school_dataset"
      ],
      "execution_count": 56,
      "outputs": [
        {
          "output_type": "execute_result",
          "data": {
            "text/html": [
              "<div>\n",
              "<style scoped>\n",
              "    .dataframe tbody tr th:only-of-type {\n",
              "        vertical-align: middle;\n",
              "    }\n",
              "\n",
              "    .dataframe tbody tr th {\n",
              "        vertical-align: top;\n",
              "    }\n",
              "\n",
              "    .dataframe thead th {\n",
              "        text-align: right;\n",
              "    }\n",
              "</style>\n",
              "<table border=\"1\" class=\"dataframe\">\n",
              "  <thead>\n",
              "    <tr style=\"text-align: right;\">\n",
              "      <th></th>\n",
              "      <th>Ano graduação</th>\n",
              "      <th>Matriculas março</th>\n",
              "      <th>Matriculas novembro</th>\n",
              "      <th>Taxa evasão</th>\n",
              "    </tr>\n",
              "  </thead>\n",
              "  <tbody>\n",
              "    <tr>\n",
              "      <th>0</th>\n",
              "      <td>1º</td>\n",
              "      <td>70</td>\n",
              "      <td>65</td>\n",
              "      <td>7.142857</td>\n",
              "    </tr>\n",
              "    <tr>\n",
              "      <th>1</th>\n",
              "      <td>2º</td>\n",
              "      <td>50</td>\n",
              "      <td>48</td>\n",
              "      <td>4.000000</td>\n",
              "    </tr>\n",
              "    <tr>\n",
              "      <th>2</th>\n",
              "      <td>3º</td>\n",
              "      <td>47</td>\n",
              "      <td>40</td>\n",
              "      <td>14.893617</td>\n",
              "    </tr>\n",
              "    <tr>\n",
              "      <th>3</th>\n",
              "      <td>4º</td>\n",
              "      <td>23</td>\n",
              "      <td>22</td>\n",
              "      <td>4.347826</td>\n",
              "    </tr>\n",
              "    <tr>\n",
              "      <th>4</th>\n",
              "      <td>Total</td>\n",
              "      <td>190</td>\n",
              "      <td>175</td>\n",
              "      <td>7.894737</td>\n",
              "    </tr>\n",
              "  </tbody>\n",
              "</table>\n",
              "</div>"
            ],
            "text/plain": [
              "  Ano graduação  Matriculas março  Matriculas novembro  Taxa evasão\n",
              "0            1º                70                   65     7.142857\n",
              "1            2º                50                   48     4.000000\n",
              "2            3º                47                   40    14.893617\n",
              "3            4º                23                   22     4.347826\n",
              "4         Total               190                  175     7.894737"
            ]
          },
          "metadata": {
            "tags": []
          },
          "execution_count": 56
        }
      ]
    }
  ]
}