{
  "nbformat": 4,
  "nbformat_minor": 0,
  "metadata": {
    "colab": {
      "name": "variancia_desvio_padrao.ipynb",
      "provenance": [],
      "authorship_tag": "ABX9TyO0M8L8lhgFPLD34blV16xb",
      "include_colab_link": true
    },
    "kernelspec": {
      "name": "python3",
      "display_name": "Python 3"
    },
    "language_info": {
      "name": "python"
    }
  },
  "cells": [
    {
      "cell_type": "markdown",
      "metadata": {
        "id": "view-in-github",
        "colab_type": "text"
      },
      "source": [
        "<a href=\"https://colab.research.google.com/github/miller00315/estatistica_machine_learning/blob/master/variancia_desvio_padrao.ipynb\" target=\"_parent\"><img src=\"https://colab.research.google.com/assets/colab-badge.svg\" alt=\"Open In Colab\"/></a>"
      ]
    },
    {
      "cell_type": "code",
      "metadata": {
        "id": "_T12IT4fwbax"
      },
      "source": [
        "import numpy as np\n",
        "import math\n",
        "import statistics\n",
        "from scipy import ndimage, stats"
      ],
      "execution_count": 59,
      "outputs": []
    },
    {
      "cell_type": "code",
      "metadata": {
        "id": "HhlmeVjswlHT"
      },
      "source": [
        "data_odd = np.array([150, 151, 152, 152, 153, 154, 155, 155, 155])"
      ],
      "execution_count": 35,
      "outputs": []
    },
    {
      "cell_type": "code",
      "metadata": {
        "colab": {
          "base_uri": "https://localhost:8080/"
        },
        "id": "jngaXEXLwwG0",
        "outputId": "0507e9db-5846-4d78-a27e-1546b3fcaf43"
      },
      "source": [
        "arytmetic_mean = data_odd.sum() // len(data_odd) # Média aritmética\n",
        "\n",
        "arytmetic_mean"
      ],
      "execution_count": 36,
      "outputs": [
        {
          "output_type": "execute_result",
          "data": {
            "text/plain": [
              "153"
            ]
          },
          "metadata": {},
          "execution_count": 36
        }
      ]
    },
    {
      "cell_type": "code",
      "metadata": {
        "colab": {
          "base_uri": "https://localhost:8080/"
        },
        "id": "X3qEpa5exDKb",
        "outputId": "bf87e5d4-b5ce-467d-a2a8-9beceb2c2f48"
      },
      "source": [
        "diversion = abs(data_odd - arytmetic_mean) # Desvio, quando se tem um array o python efetua a subtração em todos os elementos, o abs desconsidera o sinal no resultado\n",
        "\n",
        "diversion"
      ],
      "execution_count": 37,
      "outputs": [
        {
          "output_type": "execute_result",
          "data": {
            "text/plain": [
              "array([3, 2, 1, 1, 0, 1, 2, 2, 2])"
            ]
          },
          "metadata": {},
          "execution_count": 37
        }
      ]
    },
    {
      "cell_type": "code",
      "metadata": {
        "colab": {
          "base_uri": "https://localhost:8080/"
        },
        "id": "MDLMkTKlxtJp",
        "outputId": "256030a6-d163-486e-8174-24879f672aa1"
      },
      "source": [
        "diversion = diversion ** 2 # elevamos o valor ao quadrado de acordo com a fórmula de desvio padrão\n",
        "\n",
        "diversion"
      ],
      "execution_count": 38,
      "outputs": [
        {
          "output_type": "execute_result",
          "data": {
            "text/plain": [
              "array([9, 4, 1, 1, 0, 1, 4, 4, 4])"
            ]
          },
          "metadata": {},
          "execution_count": 38
        }
      ]
    },
    {
      "cell_type": "code",
      "metadata": {
        "colab": {
          "base_uri": "https://localhost:8080/"
        },
        "id": "j_Q0XjEmx5eh",
        "outputId": "3421ec52-245e-458e-aafb-51c37004b37a"
      },
      "source": [
        "sum_diversion = diversion.sum()\n",
        "\n",
        "sum_diversion"
      ],
      "execution_count": 39,
      "outputs": [
        {
          "output_type": "execute_result",
          "data": {
            "text/plain": [
              "28"
            ]
          },
          "metadata": {},
          "execution_count": 39
        }
      ]
    },
    {
      "cell_type": "code",
      "metadata": {
        "colab": {
          "base_uri": "https://localhost:8080/"
        },
        "id": "o3onN7YtytSu",
        "outputId": "463e4698-5040-4730-d9cb-6ca99debf8f3"
      },
      "source": [
        "variance = sum_diversion / len(data_odd)\n",
        "\n",
        "variance"
      ],
      "execution_count": 40,
      "outputs": [
        {
          "output_type": "execute_result",
          "data": {
            "text/plain": [
              "3.111111111111111"
            ]
          },
          "metadata": {},
          "execution_count": 40
        }
      ]
    },
    {
      "cell_type": "code",
      "metadata": {
        "id": "o5F52v09y57T"
      },
      "source": [
        "def get_variance_standard_deviation(dataset):\n",
        "  mean = dataset.sum() // len(dataset)\n",
        "  diversion = abs(data_odd - mean)\n",
        "  diversion = diversion ** 2\n",
        "  sum_diversion = diversion.sum()\n",
        "  variance = sum_diversion / len(data_odd)\n",
        "  return variance, math.sqrt(variance)"
      ],
      "execution_count": 55,
      "outputs": []
    },
    {
      "cell_type": "code",
      "metadata": {
        "colab": {
          "base_uri": "https://localhost:8080/"
        },
        "id": "CXRkt5WxzW2c",
        "outputId": "43b02668-6c3a-408d-b6a7-caedaf5d7aad"
      },
      "source": [
        "get_variance_standard_deviation(data_odd)"
      ],
      "execution_count": 56,
      "outputs": [
        {
          "output_type": "execute_result",
          "data": {
            "text/plain": [
              "(3.111111111111111, 1.7638342073763937)"
            ]
          },
          "metadata": {},
          "execution_count": 56
        }
      ]
    },
    {
      "cell_type": "markdown",
      "metadata": {
        "id": "r1QzdaZDy3Z6"
      },
      "source": [
        "Biblioteca"
      ]
    },
    {
      "cell_type": "code",
      "metadata": {
        "colab": {
          "base_uri": "https://localhost:8080/"
        },
        "id": "KP4c5-w8y5bZ",
        "outputId": "85b78161-45b1-4488-d79d-4526bec71f90"
      },
      "source": [
        "np.var(data_odd)"
      ],
      "execution_count": 45,
      "outputs": [
        {
          "output_type": "execute_result",
          "data": {
            "text/plain": [
              "3.111111111111111"
            ]
          },
          "metadata": {},
          "execution_count": 45
        }
      ]
    },
    {
      "cell_type": "code",
      "metadata": {
        "id": "wpnp04Hrz00_"
      },
      "source": [
        "complete_data = np.array([150, 151, 152, 152, 153, 154, 155, 155, 155, 155, 156, 156, 156,\n",
        "                  157, 158, 158, 160, 160, 160, 160, 160, 161, 161, 161, 161, 162,\n",
        "                  163, 163, 164, 164, 164, 165, 166, 167, 168, 168, 169, 170, 172,\n",
        "                  173])"
      ],
      "execution_count": 46,
      "outputs": []
    },
    {
      "cell_type": "code",
      "metadata": {
        "colab": {
          "base_uri": "https://localhost:8080/"
        },
        "id": "tEvwEknWz3u5",
        "outputId": "051c5ef8-7b5f-4c20-9233-981d1c3ecf7f"
      },
      "source": [
        "np.var(complete_data)"
      ],
      "execution_count": 47,
      "outputs": [
        {
          "output_type": "execute_result",
          "data": {
            "text/plain": [
              "33.984375"
            ]
          },
          "metadata": {},
          "execution_count": 47
        }
      ]
    },
    {
      "cell_type": "code",
      "metadata": {
        "colab": {
          "base_uri": "https://localhost:8080/"
        },
        "id": "bo-qPBkU3fSS",
        "outputId": "fb833f44-5383-4205-829a-78421e923b45"
      },
      "source": [
        "np.std(complete_data)"
      ],
      "execution_count": 57,
      "outputs": [
        {
          "output_type": "execute_result",
          "data": {
            "text/plain": [
              "5.829611908180509"
            ]
          },
          "metadata": {},
          "execution_count": 57
        }
      ]
    },
    {
      "cell_type": "code",
      "metadata": {
        "colab": {
          "base_uri": "https://localhost:8080/"
        },
        "id": "UYUa2hiO3qal",
        "outputId": "a8efd32d-9a16-496f-b090-68a8a5f1da23"
      },
      "source": [
        "statistics.stdev(complete_data)"
      ],
      "execution_count": 58,
      "outputs": [
        {
          "output_type": "execute_result",
          "data": {
            "text/plain": [
              "5.830951894845301"
            ]
          },
          "metadata": {},
          "execution_count": 58
        }
      ]
    },
    {
      "cell_type": "code",
      "metadata": {
        "colab": {
          "base_uri": "https://localhost:8080/"
        },
        "id": "wHPy51lL3vU0",
        "outputId": "e281e922-27a2-4306-9f42-e7d7696a64ff"
      },
      "source": [
        "stats.tstd(complete_data, ddof=0)"
      ],
      "execution_count": 61,
      "outputs": [
        {
          "output_type": "execute_result",
          "data": {
            "text/plain": [
              "5.829611908180509"
            ]
          },
          "metadata": {},
          "execution_count": 61
        }
      ]
    },
    {
      "cell_type": "code",
      "metadata": {
        "colab": {
          "base_uri": "https://localhost:8080/"
        },
        "id": "92PKyUHcz-RU",
        "outputId": "28b71169-731e-4865-8357-4fc5de98b870"
      },
      "source": [
        "statistics.variance(complete_data)"
      ],
      "execution_count": 49,
      "outputs": [
        {
          "output_type": "execute_result",
          "data": {
            "text/plain": [
              "34"
            ]
          },
          "metadata": {},
          "execution_count": 49
        }
      ]
    },
    {
      "cell_type": "code",
      "metadata": {
        "colab": {
          "base_uri": "https://localhost:8080/"
        },
        "id": "ITixW_CT0O5z",
        "outputId": "20a2891a-7a78-4ff9-8d6b-ffd8400b782f"
      },
      "source": [
        "ndimage.variance(complete_data)"
      ],
      "execution_count": 52,
      "outputs": [
        {
          "output_type": "execute_result",
          "data": {
            "text/plain": [
              "33.984375"
            ]
          },
          "metadata": {},
          "execution_count": 52
        }
      ]
    },
    {
      "cell_type": "markdown",
      "metadata": {
        "id": "nh1QFzFX0hs6"
      },
      "source": [
        "Desvio padrão"
      ]
    },
    {
      "cell_type": "code",
      "metadata": {
        "colab": {
          "base_uri": "https://localhost:8080/"
        },
        "id": "AJ0gXmCD0fqy",
        "outputId": "2ab9cae1-e8aa-4da2-f5c6-55306917744b"
      },
      "source": [
        "math.sqrt(np.var(data_odd))"
      ],
      "execution_count": 53,
      "outputs": [
        {
          "output_type": "execute_result",
          "data": {
            "text/plain": [
              "1.7638342073763937"
            ]
          },
          "metadata": {},
          "execution_count": 53
        }
      ]
    },
    {
      "cell_type": "code",
      "metadata": {
        "colab": {
          "base_uri": "https://localhost:8080/"
        },
        "id": "L4bhpfa622Pn",
        "outputId": "b38acb77-c732-4c77-f121-f89cd073819e"
      },
      "source": [
        "math.sqrt(ndimage.variance(complete_data))"
      ],
      "execution_count": 54,
      "outputs": [
        {
          "output_type": "execute_result",
          "data": {
            "text/plain": [
              "5.829611908180509"
            ]
          },
          "metadata": {},
          "execution_count": 54
        }
      ]
    }
  ]
}