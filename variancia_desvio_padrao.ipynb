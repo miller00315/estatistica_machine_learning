{
  "nbformat": 4,
  "nbformat_minor": 0,
  "metadata": {
    "colab": {
      "name": "variancia_desvio_padrao.ipynb",
      "provenance": [],
      "include_colab_link": true
    },
    "kernelspec": {
      "name": "python3",
      "display_name": "Python 3"
    },
    "language_info": {
      "name": "python"
    }
  },
  "cells": [
    {
      "cell_type": "markdown",
      "metadata": {
        "id": "view-in-github",
        "colab_type": "text"
      },
      "source": [
        "<a href=\"https://colab.research.google.com/github/miller00315/estatistica_machine_learning/blob/master/variancia_desvio_padrao.ipynb\" target=\"_parent\"><img src=\"https://colab.research.google.com/assets/colab-badge.svg\" alt=\"Open In Colab\"/></a>"
      ]
    },
    {
      "cell_type": "code",
      "metadata": {
        "id": "_T12IT4fwbax"
      },
      "source": [
        "import numpy as np\n",
        "import math\n",
        "import statistics\n",
        "from scipy import ndimage, stats"
      ],
      "execution_count": 1,
      "outputs": []
    },
    {
      "cell_type": "code",
      "metadata": {
        "id": "HhlmeVjswlHT"
      },
      "source": [
        "data_odd = np.array([150, 151, 152, 152, 153, 154, 155, 155, 155])"
      ],
      "execution_count": 2,
      "outputs": []
    },
    {
      "cell_type": "code",
      "metadata": {
        "colab": {
          "base_uri": "https://localhost:8080/"
        },
        "id": "jngaXEXLwwG0",
        "outputId": "7712ec8a-0c73-4e8b-db09-91252b2228b0"
      },
      "source": [
        "arytmetic_mean = data_odd.sum() // len(data_odd) # Média aritmética\n",
        "\n",
        "arytmetic_mean"
      ],
      "execution_count": 3,
      "outputs": [
        {
          "output_type": "execute_result",
          "data": {
            "text/plain": [
              "153"
            ]
          },
          "metadata": {},
          "execution_count": 3
        }
      ]
    },
    {
      "cell_type": "code",
      "metadata": {
        "colab": {
          "base_uri": "https://localhost:8080/"
        },
        "id": "X3qEpa5exDKb",
        "outputId": "d96b7b81-5ce1-46c1-caae-0b89f8bd6bfc"
      },
      "source": [
        "diversion = abs(data_odd - arytmetic_mean) # Desvio, quando se tem um array o python efetua a subtração em todos os elementos, o abs desconsidera o sinal no resultado\n",
        "\n",
        "diversion"
      ],
      "execution_count": 4,
      "outputs": [
        {
          "output_type": "execute_result",
          "data": {
            "text/plain": [
              "array([3, 2, 1, 1, 0, 1, 2, 2, 2])"
            ]
          },
          "metadata": {},
          "execution_count": 4
        }
      ]
    },
    {
      "cell_type": "code",
      "metadata": {
        "colab": {
          "base_uri": "https://localhost:8080/"
        },
        "id": "MDLMkTKlxtJp",
        "outputId": "a5a88277-fc66-4e2b-9365-28b35979cd1c"
      },
      "source": [
        "diversion = diversion ** 2 # elevamos o valor ao quadrado de acordo com a fórmula de desvio padrão\n",
        "\n",
        "diversion"
      ],
      "execution_count": 5,
      "outputs": [
        {
          "output_type": "execute_result",
          "data": {
            "text/plain": [
              "array([9, 4, 1, 1, 0, 1, 4, 4, 4])"
            ]
          },
          "metadata": {},
          "execution_count": 5
        }
      ]
    },
    {
      "cell_type": "code",
      "metadata": {
        "colab": {
          "base_uri": "https://localhost:8080/"
        },
        "id": "j_Q0XjEmx5eh",
        "outputId": "e47374bb-4e88-46ee-e184-6f88166f4385"
      },
      "source": [
        "sum_diversion = diversion.sum()\n",
        "\n",
        "sum_diversion"
      ],
      "execution_count": 6,
      "outputs": [
        {
          "output_type": "execute_result",
          "data": {
            "text/plain": [
              "28"
            ]
          },
          "metadata": {},
          "execution_count": 6
        }
      ]
    },
    {
      "cell_type": "code",
      "metadata": {
        "colab": {
          "base_uri": "https://localhost:8080/"
        },
        "id": "o3onN7YtytSu",
        "outputId": "6833393d-70a6-48a6-9442-19afccd3416e"
      },
      "source": [
        "variance = sum_diversion / len(data_odd)\n",
        "\n",
        "variance"
      ],
      "execution_count": 7,
      "outputs": [
        {
          "output_type": "execute_result",
          "data": {
            "text/plain": [
              "3.111111111111111"
            ]
          },
          "metadata": {},
          "execution_count": 7
        }
      ]
    },
    {
      "cell_type": "code",
      "metadata": {
        "id": "o5F52v09y57T"
      },
      "source": [
        "def get_variance_standard_deviation_coeficient(dataset):\n",
        "  mean = dataset.sum() // len(dataset)\n",
        "  diversion = abs(data_odd - mean)\n",
        "  diversion = diversion ** 2\n",
        "  sum_diversion = diversion.sum()\n",
        "  variance = sum_diversion / len(data_odd)\n",
        "  dp = math.sqrt(variance)\n",
        "  return variance, dp, (dp / mean ) * 100"
      ],
      "execution_count": 22,
      "outputs": []
    },
    {
      "cell_type": "code",
      "metadata": {
        "colab": {
          "base_uri": "https://localhost:8080/"
        },
        "id": "CXRkt5WxzW2c",
        "outputId": "498de71b-7551-416b-efe8-8c662f8c403c"
      },
      "source": [
        "get_variance_standard_deviation_coeficient(data_odd)"
      ],
      "execution_count": 23,
      "outputs": [
        {
          "output_type": "execute_result",
          "data": {
            "text/plain": [
              "(3.111111111111111, 1.7638342073763937, 1.1528328152786886)"
            ]
          },
          "metadata": {},
          "execution_count": 23
        }
      ]
    },
    {
      "cell_type": "markdown",
      "metadata": {
        "id": "r1QzdaZDy3Z6"
      },
      "source": [
        "Biblioteca"
      ]
    },
    {
      "cell_type": "code",
      "metadata": {
        "colab": {
          "base_uri": "https://localhost:8080/"
        },
        "id": "KP4c5-w8y5bZ",
        "outputId": "85b78161-45b1-4488-d79d-4526bec71f90"
      },
      "source": [
        "np.var(data_odd)"
      ],
      "execution_count": null,
      "outputs": [
        {
          "output_type": "execute_result",
          "data": {
            "text/plain": [
              "3.111111111111111"
            ]
          },
          "metadata": {},
          "execution_count": 45
        }
      ]
    },
    {
      "cell_type": "code",
      "metadata": {
        "id": "wpnp04Hrz00_"
      },
      "source": [
        "complete_data = np.array([150, 151, 152, 152, 153, 154, 155, 155, 155, 155, 156, 156, 156,\n",
        "                  157, 158, 158, 160, 160, 160, 160, 160, 161, 161, 161, 161, 162,\n",
        "                  163, 163, 164, 164, 164, 165, 166, 167, 168, 168, 169, 170, 172,\n",
        "                  173])"
      ],
      "execution_count": 10,
      "outputs": []
    },
    {
      "cell_type": "code",
      "metadata": {
        "colab": {
          "base_uri": "https://localhost:8080/"
        },
        "id": "tEvwEknWz3u5",
        "outputId": "051c5ef8-7b5f-4c20-9233-981d1c3ecf7f"
      },
      "source": [
        "np.var(complete_data)"
      ],
      "execution_count": null,
      "outputs": [
        {
          "output_type": "execute_result",
          "data": {
            "text/plain": [
              "33.984375"
            ]
          },
          "metadata": {},
          "execution_count": 47
        }
      ]
    },
    {
      "cell_type": "code",
      "metadata": {
        "colab": {
          "base_uri": "https://localhost:8080/"
        },
        "id": "bo-qPBkU3fSS",
        "outputId": "30703af7-4466-44b7-932d-a6643ef3a16b"
      },
      "source": [
        "np.std(complete_data)"
      ],
      "execution_count": 11,
      "outputs": [
        {
          "output_type": "execute_result",
          "data": {
            "text/plain": [
              "5.829611908180509"
            ]
          },
          "metadata": {},
          "execution_count": 11
        }
      ]
    },
    {
      "cell_type": "code",
      "metadata": {
        "colab": {
          "base_uri": "https://localhost:8080/"
        },
        "id": "UYUa2hiO3qal",
        "outputId": "745a996e-d54a-4813-df7d-4c20b497b94f"
      },
      "source": [
        "statistics.stdev(complete_data)"
      ],
      "execution_count": 12,
      "outputs": [
        {
          "output_type": "execute_result",
          "data": {
            "text/plain": [
              "5.830951894845301"
            ]
          },
          "metadata": {},
          "execution_count": 12
        }
      ]
    },
    {
      "cell_type": "code",
      "metadata": {
        "colab": {
          "base_uri": "https://localhost:8080/"
        },
        "id": "wHPy51lL3vU0",
        "outputId": "ad09a1af-05a1-42cf-edbd-8fe8902d3286"
      },
      "source": [
        "stats.tstd(complete_data, ddof=0)"
      ],
      "execution_count": 13,
      "outputs": [
        {
          "output_type": "execute_result",
          "data": {
            "text/plain": [
              "5.829611908180509"
            ]
          },
          "metadata": {},
          "execution_count": 13
        }
      ]
    },
    {
      "cell_type": "code",
      "metadata": {
        "colab": {
          "base_uri": "https://localhost:8080/"
        },
        "id": "92PKyUHcz-RU",
        "outputId": "67007c42-671b-4bda-bfab-6a73ea175194"
      },
      "source": [
        "statistics.variance(complete_data)"
      ],
      "execution_count": 14,
      "outputs": [
        {
          "output_type": "execute_result",
          "data": {
            "text/plain": [
              "34"
            ]
          },
          "metadata": {},
          "execution_count": 14
        }
      ]
    },
    {
      "cell_type": "code",
      "metadata": {
        "colab": {
          "base_uri": "https://localhost:8080/"
        },
        "id": "ITixW_CT0O5z",
        "outputId": "fa2b5bb1-5fe7-4f6a-a5c0-f76fad77948c"
      },
      "source": [
        "ndimage.variance(complete_data)"
      ],
      "execution_count": 15,
      "outputs": [
        {
          "output_type": "execute_result",
          "data": {
            "text/plain": [
              "33.984375"
            ]
          },
          "metadata": {},
          "execution_count": 15
        }
      ]
    },
    {
      "cell_type": "markdown",
      "metadata": {
        "id": "nh1QFzFX0hs6"
      },
      "source": [
        "Desvio padrão"
      ]
    },
    {
      "cell_type": "code",
      "metadata": {
        "id": "AJ0gXmCD0fqy"
      },
      "source": [
        "dp = math.sqrt(np.var(data_odd))"
      ],
      "execution_count": 16,
      "outputs": []
    },
    {
      "cell_type": "code",
      "metadata": {
        "colab": {
          "base_uri": "https://localhost:8080/"
        },
        "id": "L4bhpfa622Pn",
        "outputId": "6e5a5b65-b375-48d0-fc46-a1fd9bb1828c"
      },
      "source": [
        "math.sqrt(ndimage.variance(complete_data))"
      ],
      "execution_count": 17,
      "outputs": [
        {
          "output_type": "execute_result",
          "data": {
            "text/plain": [
              "5.829611908180509"
            ]
          },
          "metadata": {},
          "execution_count": 17
        }
      ]
    },
    {
      "cell_type": "markdown",
      "metadata": {
        "id": "MvyuGf0x_iw4"
      },
      "source": [
        "**Coeficiente de variação**"
      ]
    },
    {
      "cell_type": "code",
      "metadata": {
        "id": "Ws1xn11R_iPF",
        "outputId": "0f3a7776-0554-4a76-eaf6-6cb9fde99c9b",
        "colab": {
          "base_uri": "https://localhost:8080/"
        }
      },
      "source": [
        "stats.variation(data_odd) *100"
      ],
      "execution_count": 24,
      "outputs": [
        {
          "output_type": "execute_result",
          "data": {
            "text/plain": [
              "1.1528328152786886"
            ]
          },
          "metadata": {},
          "execution_count": 24
        }
      ]
    },
    {
      "cell_type": "code",
      "metadata": {
        "id": "X_ALTv7rBGe0",
        "outputId": "8cb02297-1ef1-477c-a361-94b294764172",
        "colab": {
          "base_uri": "https://localhost:8080/"
        }
      },
      "source": [
        "stats.variation(complete_data) * 100"
      ],
      "execution_count": 25,
      "outputs": [
        {
          "output_type": "execute_result",
          "data": {
            "text/plain": [
              "3.634987939629312"
            ]
          },
          "metadata": {},
          "execution_count": 25
        }
      ]
    }
  ]
}