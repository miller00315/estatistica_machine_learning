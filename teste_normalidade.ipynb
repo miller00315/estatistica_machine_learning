{
  "nbformat": 4,
  "nbformat_minor": 0,
  "metadata": {
    "colab": {
      "name": "teste_normalidade.ipynb",
      "provenance": [],
      "authorship_tag": "ABX9TyMzkut0pFJBxVCdnXurXbqS",
      "include_colab_link": true
    },
    "kernelspec": {
      "name": "python3",
      "display_name": "Python 3"
    },
    "language_info": {
      "name": "python"
    }
  },
  "cells": [
    {
      "cell_type": "markdown",
      "metadata": {
        "id": "view-in-github",
        "colab_type": "text"
      },
      "source": [
        "<a href=\"https://colab.research.google.com/github/miller00315/estatistica_machine_learning/blob/master/teste_normalidade.ipynb\" target=\"_parent\"><img src=\"https://colab.research.google.com/assets/colab-badge.svg\" alt=\"Open In Colab\"/></a>"
      ]
    },
    {
      "cell_type": "code",
      "metadata": {
        "id": "4k3d6G7gt_2_"
      },
      "source": [
        "from scipy.stats import skewnorm\n",
        "from scipy import stats\n",
        "import seaborn as sns"
      ],
      "execution_count": 8,
      "outputs": []
    },
    {
      "cell_type": "code",
      "metadata": {
        "id": "zj5x3-M1ub2D"
      },
      "source": [
        "normal_data = stats.norm.rvs(size=1000)\n",
        "no_normal_data = skewnorm.rvs(a = 10, size = 100)"
      ],
      "execution_count": 19,
      "outputs": []
    },
    {
      "cell_type": "code",
      "metadata": {
        "colab": {
          "base_uri": "https://localhost:8080/",
          "height": 282
        },
        "id": "m_oV2UtgvCWy",
        "outputId": "0dd528c6-44df-46ca-e7e9-32dbd1190ef9"
      },
      "source": [
        "sns.histplot(normal_data)"
      ],
      "execution_count": 20,
      "outputs": [
        {
          "output_type": "execute_result",
          "data": {
            "text/plain": [
              "<matplotlib.axes._subplots.AxesSubplot at 0x7fea63116b10>"
            ]
          },
          "metadata": {},
          "execution_count": 20
        },
        {
          "output_type": "display_data",
          "data": {
            "image/png": "[encoded data removed]",
            "text/plain": [
              "<Figure size 432x288 with 1 Axes>"
            ]
          },
          "metadata": {
            "needs_background": "light"
          }
        }
      ]
    },
    {
      "cell_type": "code",
      "metadata": {
        "colab": {
          "base_uri": "https://localhost:8080/",
          "height": 282
        },
        "id": "G8kCFfh9vHT1",
        "outputId": "fd992efb-d240-4e54-8893-550a63ab031b"
      },
      "source": [
        "sns.histplot(no_normal_data, kde=True)"
      ],
      "execution_count": 21,
      "outputs": [
        {
          "output_type": "execute_result",
          "data": {
            "text/plain": [
              "<matplotlib.axes._subplots.AxesSubplot at 0x7fea63116910>"
            ]
          },
          "metadata": {},
          "execution_count": 21
        },
        {
          "output_type": "display_data",
          "data": {
            "image/png": "[encoded data removed]",
            "text/plain": [
              "<Figure size 432x288 with 1 Axes>"
            ]
          },
          "metadata": {
            "needs_background": "light"
          }
        }
      ]
    },
    {
      "cell_type": "markdown",
      "metadata": {
        "id": "QG2aFxHqvWwZ"
      },
      "source": [
        "Qunatile-quantile plot"
      ]
    },
    {
      "cell_type": "code",
      "metadata": {
        "colab": {
          "base_uri": "https://localhost:8080/"
        },
        "id": "pG1T8eMbvUfo",
        "outputId": "fd63eb64-64b6-412e-c811-f2091785188b"
      },
      "source": [
        "from statsmodels.graphics.gofplots import qqplot"
      ],
      "execution_count": 15,
      "outputs": [
        {
          "output_type": "stream",
          "name": "stderr",
          "text": [
            "/usr/local/lib/python3.7/dist-packages/statsmodels/tools/_testing.py:19: FutureWarning: pandas.util.testing is deprecated. Use the functions in the public API at pandas.testing instead.\n",
            "  import pandas.util.testing as tm\n"
          ]
        }
      ]
    },
    {
      "cell_type": "code",
      "metadata": {
        "colab": {
          "base_uri": "https://localhost:8080/",
          "height": 279
        },
        "id": "Pw4K4Z7tvkxR",
        "outputId": "b67e520e-303e-4e6a-cd40-e7efeeea9b4f"
      },
      "source": [
        "qqplot(normal_data, line = 's');"
      ],
      "execution_count": 22,
      "outputs": [
        {
          "output_type": "display_data",
          "data": {
            "image/png": "[encoded data removed]",
            "text/plain": [
              "<Figure size 432x288 with 1 Axes>"
            ]
          },
          "metadata": {
            "needs_background": "light"
          }
        }
      ]
    },
    {
      "cell_type": "code",
      "metadata": {
        "colab": {
          "base_uri": "https://localhost:8080/",
          "height": 279
        },
        "id": "JF6-z3-tvqy8",
        "outputId": "5fe96979-3133-49a5-d6dc-152ee4804d04"
      },
      "source": [
        "qqplot(no_normal_data, line = 's');"
      ],
      "execution_count": 23,
      "outputs": [
        {
          "output_type": "display_data",
          "data": {
            "image/png": "[encoded data removed]",
            "text/plain": [
              "<Figure size 432x288 with 1 Axes>"
            ]
          },
          "metadata": {
            "needs_background": "light"
          }
        }
      ]
    },
    {
      "cell_type": "markdown",
      "metadata": {
        "id": "wC2ARZhxvzIg"
      },
      "source": [
        "Test de Shapiro-Wilk"
      ]
    },
    {
      "cell_type": "code",
      "metadata": {
        "id": "lAZtsZOrvyhZ"
      },
      "source": [
        "from scipy.stats import shapiro"
      ],
      "execution_count": 24,
      "outputs": []
    },
    {
      "cell_type": "code",
      "metadata": {
        "colab": {
          "base_uri": "https://localhost:8080/"
        },
        "id": "X9t0EjT4wSKq",
        "outputId": "d19a2218-a8f9-438a-e9ac-305360c33404"
      },
      "source": [
        "_, p = shapiro(normal_data)\n",
        "\n",
        "p"
      ],
      "execution_count": 25,
      "outputs": [
        {
          "output_type": "execute_result",
          "data": {
            "text/plain": [
              "0.7766238451004028"
            ]
          },
          "metadata": {},
          "execution_count": 25
        }
      ]
    },
    {
      "cell_type": "code",
      "metadata": {
        "colab": {
          "base_uri": "https://localhost:8080/"
        },
        "id": "pgeE4kcDwY22",
        "outputId": "38daca50-1171-4b65-a5c8-77a7f4e35b4b"
      },
      "source": [
        "alpha = 0.05\n",
        "\n",
        "if(p > alpha):\n",
        "  print(\"Normal\")\n",
        "else:\n",
        "  print('Não normal')"
      ],
      "execution_count": 28,
      "outputs": [
        {
          "output_type": "stream",
          "name": "stdout",
          "text": [
            "Normal\n"
          ]
        }
      ]
    },
    {
      "cell_type": "code",
      "metadata": {
        "colab": {
          "base_uri": "https://localhost:8080/"
        },
        "id": "WNjOeb1jwqEV",
        "outputId": "26b77565-71e9-46ea-987f-3fa38cfa2ea1"
      },
      "source": [
        "_, p = shapiro(no_normal_data)\n",
        "\n",
        "p\n",
        "\n",
        "if(p > alpha):\n",
        "  print(\"Normal\")\n",
        "else:\n",
        "  print('Não normal')"
      ],
      "execution_count": 29,
      "outputs": [
        {
          "output_type": "stream",
          "name": "stdout",
          "text": [
            "Não normal\n"
          ]
        }
      ]
    }
  ]
}